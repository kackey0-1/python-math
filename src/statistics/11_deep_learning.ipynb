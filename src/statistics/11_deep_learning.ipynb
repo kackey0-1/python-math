{
 "cells": [
  {
   "cell_type": "markdown",
   "id": "c8999744-d225-431c-a3db-3de8e2713e47",
   "metadata": {},
   "source": [
    "# 深層学習: Deep Learning\n",
    "ディープラーニングの例として、 全結合層のみで作った多層ニューラルネットワークを使い、</br>\n",
    "手書きの数字（画像データ）から書かれた数字を予測するコードを作る\n",
    "\n",
    "- Epoch : 学習データを試用した回数\n",
    "- ETA : estimated time of arrival の略で、1エポックあたりのトレーニングにかかる時間の予測\n",
    "- loss : 訓練データに対する損失\n",
    "- accuracy : 訓練データに対する精度\n",
    "- val_loss : 検証データに対する損失\n",
    "- val_accuracy : 検証データに対する精度"
   ]
  },
  {
   "cell_type": "code",
   "execution_count": 5,
   "id": "1d6f0e86-84d5-4d9c-a235-525bc869127d",
   "metadata": {},
   "outputs": [
    {
     "name": "stdout",
     "output_type": "stream",
     "text": [
      "Epoch 1/5\n",
      "12/12 [==============================] - 0s 9ms/step - loss: 2.4174 - accuracy: 0.1363 - val_loss: 2.0960 - val_accuracy: 0.4420\n",
      "Epoch 2/5\n",
      "12/12 [==============================] - 0s 4ms/step - loss: 2.1194 - accuracy: 0.2553 - val_loss: 1.8939 - val_accuracy: 0.5940\n",
      "Epoch 3/5\n",
      "12/12 [==============================] - 0s 4ms/step - loss: 1.9276 - accuracy: 0.3523 - val_loss: 1.7172 - val_accuracy: 0.6390\n",
      "Epoch 4/5\n",
      "12/12 [==============================] - 0s 4ms/step - loss: 1.7434 - accuracy: 0.4432 - val_loss: 1.5620 - val_accuracy: 0.6680\n",
      "Epoch 5/5\n",
      "12/12 [==============================] - 0s 4ms/step - loss: 1.5626 - accuracy: 0.5395 - val_loss: 1.4171 - val_accuracy: 0.7070\n"
     ]
    },
    {
     "data": {
      "image/png": "[encoded data removed]",
      "text/plain": [
       "<Figure size 432x288 with 1 Axes>"
      ]
     },
     "metadata": {
      "needs_background": "light"
     },
     "output_type": "display_data"
    }
   ],
   "source": [
    "import numpy as np\n",
    "import matplotlib.pyplot as plt\n",
    "\n",
    "import tensorflow as tf\n",
    "from tensorflow.keras.layers import Dense, Activation, Dense, Activation, Dropout\n",
    "from tensorflow.keras.datasets import mnist\n",
    "(X_train, y_train), (X_test, y_test) = mnist.load_data()\n",
    "\n",
    "X_train = X_train.reshape(X_train.shape[0], 784)[:6000]\n",
    "X_test = X_test.reshape(X_test.shape[0], 784)[:1000]\n",
    "y_train = tf.keras.utils.to_categorical(y_train)[:6000]\n",
    "y_test = tf.keras.utils.to_categorical(y_test)[:1000]\n",
    "\n",
    "model = tf.keras.Sequential()\n",
    "model.add(Dense(256, input_dim=784))\n",
    "model.add(Activation(\"sigmoid\"))\n",
    "model.add(Dense(128))\n",
    "model.add(Activation(\"sigmoid\"))\n",
    "model.add(Dropout(rate=0.5))\n",
    "model.add(Dense(10))\n",
    "model.add(Activation(\"softmax\"))\n",
    "\n",
    "sgd = tf.keras.optimizers.SGD(lr=0.1)\n",
    "model.compile(optimizer=sgd, loss=\"categorical_crossentropy\", metrics=['accuracy'])\n",
    "\n",
    "# epochs数は5を指定\n",
    "history = model.fit(X_train, y_train, batch_size=500, epochs=5, verbose=1, validation_data=(X_test, y_test))\n",
    "\n",
    "#acc, val_accのプロット\n",
    "plt.plot(history.history['accuracy'], label=\"acc\", ls=\"-\", marker=\"o\")\n",
    "plt.plot(history.history[\"val_accuracy\"], label=\"val_acc\", ls=\"-\", marker=\"x\")\n",
    "plt.ylabel(\"accuracy\")\n",
    "plt.xlabel(\"epoch\")\n",
    "plt.legend(loc=\"best\")\n",
    "plt.show()"
   ]
  },
  {
   "cell_type": "code",
   "execution_count": null,
   "id": "070d4fca-50a1-473c-b4ba-013baa2fedae",
   "metadata": {},
   "outputs": [],
   "source": []
  }
 ],
 "metadata": {
  "kernelspec": {
   "display_name": "Python 3 (ipykernel)",
   "language": "python",
   "name": "python3"
  },
  "language_info": {
   "codemirror_mode": {
    "name": "ipython",
    "version": 3
   },
   "file_extension": ".py",
   "mimetype": "text/x-python",
   "name": "python",
   "nbconvert_exporter": "python",
   "pygments_lexer": "ipython3",
   "version": "3.9.9"
  }
 },
 "nbformat": 4,
 "nbformat_minor": 5
}
