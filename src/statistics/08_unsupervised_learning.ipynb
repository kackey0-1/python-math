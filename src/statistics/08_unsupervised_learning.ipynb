{
 "cells": [
  {
   "cell_type": "markdown",
   "id": "c6b60e3a-4823-4b18-aca7-873bf2310cf3",
   "metadata": {},
   "source": [
    "# 教師あり学習(分類)\n",
    "教師あり学習は、正解ラベル付きの学習データからモデルを学習させ、未知のデータに対して予測</br>\n",
    "カテゴリ別に分けてあるデータを学習し、未知のデータのカテゴリを予測</br>\n",
    "例: メールのスパム判定(スパムかスパムでないか、カテゴリを予測)</br>\n"
   ]
  },
  {
   "cell_type": "markdown",
   "id": "d295aeb0-7523-47dd-986c-df33f5851b5a",
   "metadata": {},
   "source": [
    "## 二項分類と多項分類\n",
    "- 二項分類（二値分類、２クラス分類）\n",
    "  - 分類するカテゴリー(クラスといいます)が２つの分類を指す\n",
    "  - データを直線で識別できる場合は線形分類、そうでない場合は非線形分類\n",
    "- 多項分類（多クラス分類）\n",
    "  - 分類するクラスが３つ以上の分類を指す\n"
   ]
  },
  {
   "cell_type": "markdown",
   "id": "129b6c37-439d-4212-9b5a-4dc5135ce0c2",
   "metadata": {},
   "source": [
    "## 分類の流れ\n",
    "1. データの前処理\n",
    "   1. データの整形、操作\n",
    "2. アルゴリズムの選択\n",
    "   2. アルゴリズムを選択\n",
    "   2. モデルの作成\n",
    "3. モデルの学習\n",
    "   3. モデルの精度検証\n",
    "   3. チューニングをするハイパーパラメーターの選択\n",
    "   3. パラメーターのチューニング\n",
    "4. モデルによる予測（推論)\n",
    "   4. 未知のデータを使ったテスト\n",
    "   4. WEBサービスなどに組み込み、AIモデルを実運用\n",
    "\n",
    "![](./images/unsupervised_learning_flow.png)\n"
   ]
  },
  {
   "cell_type": "markdown",
   "id": "4e563415-4328-4bf1-87be-190deb7c586e",
   "metadata": {},
   "source": [
    "## データを用意する方法1\n",
    "分類に適した架空のデータを作成するscikit-learn.datasetsモジュールの make_classification()を利用\n",
    "\n",
    "```python\n",
    "make_classification(n_samples=XX, \n",
    "                    n_classes=XX, \n",
    "                    n_features=XX, \n",
    "                    n_redundant=XX, \n",
    "                    random_state=XX)\n",
    "```\n",
    "- n_samples\n",
    "  - 用意するデータの個数\n",
    "- n_classes\n",
    "  - クラス数: default=2\n",
    "- n_features\n",
    "  - データの特徴量の個数\n",
    "- n_redundant\n",
    "  - 分類に不要な特徴量（余分な特徴量）の個数\n",
    "- random_state\n",
    "  - 乱数のシード（乱数のパターンを決定する要素）"
   ]
  },
  {
   "cell_type": "code",
   "execution_count": 18,
   "id": "8a6265ba-49d4-4910-b946-7bb2bac40a33",
   "metadata": {},
   "outputs": [
    {
     "data": {
      "image/png": "[encoded data removed]",
      "text/plain": [
       "<Figure size 432x288 with 1 Axes>"
      ]
     },
     "metadata": {
      "needs_background": "light"
     },
     "output_type": "display_data"
    }
   ],
   "source": [
    "from sklearn.datasets import make_classification\n",
    "import matplotlib.pyplot as plt\n",
    "import matplotlib\n",
    "\n",
    "# データX, ラベルyを生成\n",
    "X, y = make_classification(n_samples=50, n_classes=2, random_state=0)\n",
    "# y=0となるXの座標を青くプロット\n",
    "# y=1となるXの座標を赤くプロット\n",
    "plt.scatter(X[:, 0], X[:, 1], c=y, marker=\".\",\n",
    "            cmap=matplotlib.cm.get_cmap(name=\"bwr\"), alpha=0.7)\n",
    "plt.grid(True)\n",
    "plt.show()"
   ]
  },
  {
   "cell_type": "markdown",
   "id": "cac33b4c-a74b-4fbd-a87b-bb69ce210354",
   "metadata": {},
   "source": [
    "## データを用意する方法2\n",
    "scikit-learnライブラリにはデータの前処理やモデルの調整・評価を行うための関数\n",
    "\n",
    "- irisデータ\n",
    "  - がく片の長さ\n",
    "  - がく片の幅\n",
    "  - 花びらの長さ\n",
    "  - 花びらの幅\n",
    "\n",
    "４つの特徴量(単位はcm)と、3種の品種(0~2)が格納されている</br>\n",
    "![](./images/features.png)\n"
   ]
  },
  {
   "cell_type": "code",
   "execution_count": 28,
   "id": "6db75e38-d39f-4c7e-a323-44bc3836666b",
   "metadata": {},
   "outputs": [
    {
     "data": {
      "image/png": "[encoded data removed]",
      "text/plain": [
       "<Figure size 432x288 with 1 Axes>"
      ]
     },
     "metadata": {
      "needs_background": "light"
     },
     "output_type": "display_data"
    }
   ],
   "source": [
    "from sklearn import datasets\n",
    "import matplotlib.pyplot as plt\n",
    "import matplotlib\n",
    "\n",
    "iris = datasets.load_iris()\n",
    "# irisの 0列目=がくの長さ,2列目=花びらの長さ を格納\n",
    "X = iris.data[:, [0,2]]\n",
    "# irisのクラスラベルを格納\n",
    "y = iris.target\n",
    "\n",
    "# データの色付け、プロット\n",
    "# plt.scatter(x,           The data positions x axis.\n",
    "#             y,           The data positions y axis\n",
    "#             c=None,      The marker colors\n",
    "#             marker=None, The marker style\n",
    "#             alpha=None,  The alpha blending value, between 0 (transparent) and 1 (opaque)\n",
    "# )\n",
    "plt.scatter(X[:, 0], X[:, 1], c=y, marker=\".\",\n",
    "            cmap=matplotlib.cm.get_cmap(name=\"cool\"), alpha=0.7)\n",
    "plt.xlabel(\"Sepal[がく] length\")\n",
    "plt.ylabel(\"Petal[花びら] length\")\n",
    "plt.grid(True)\n",
    "plt.show()"
   ]
  },
  {
   "cell_type": "code",
   "execution_count": 29,
   "id": "a5bd7920-d296-43e4-8c95-deddec3045d8",
   "metadata": {},
   "outputs": [
    {
     "name": "stdout",
     "output_type": "stream",
     "text": [
      "150 150\n"
     ]
    }
   ],
   "source": [
    "from sklearn import datasets\n",
    "import matplotlib.pyplot as plt\n",
    "import matplotlib\n",
    "\n",
    "iris = datasets.load_iris()\n",
    "print(len(iris.target), len(iris.data[:, 0]))\n",
    "# y = iris.target"
   ]
  },
  {
   "cell_type": "markdown",
   "id": "1ccfe3aa-2ea7-4035-882d-fcacae39cd36",
   "metadata": {},
   "source": [
    "## 学習と予測\n",
    "トレーニングされたモデルの性能を評価するために、データセットを訓練データと検証データに分割</br>\n",
    "以下のように、scikit-learnのmodel_selectionモジュールのtrain_test_split()を使用して、</br>\n",
    "X配列とy配列を30%の検証データと70%の訓練データにランダムに分割"
   ]
  },
  {
   "cell_type": "code",
   "execution_count": 37,
   "id": "1289964c-4551-4ba3-bc34-02f0558cf723",
   "metadata": {},
   "outputs": [
    {
     "name": "stdout",
     "output_type": "stream",
     "text": [
      "Predicted value :[0 1 1 0 1 0 0 0 1 1 1 0 1 0 0 1 1 1 0 0 0 0 1 0 1]\n",
      "Correct data    :[0 1 1 0 1 0 0 0 1 0 1 0 1 0 0 1 1 1 0 0 0 0 1 0 1]\n",
      "Acuraccy        : 0.96 %\n",
      "Precision       : 0.9166666666666666 %\n",
      "Recall          : 1.0 %\n",
      "F-Value         : 0.9565217391304348 %\n"
     ]
    }
   ],
   "source": [
    "from sklearn.linear_model import LogisticRegression\n",
    "from sklearn.model_selection import train_test_split\n",
    "from sklearn.datasets import make_classification\n",
    "from sklearn.metrics import accuracy_score, precision_score, recall_score, f1_score\n",
    "\n",
    "# データの生成\n",
    "X, y = make_classification(n_samples=100, n_features=2,\n",
    "                           n_redundant=0, random_state=42)\n",
    "# 学習/検証用に分割\n",
    "train_X, test_X, train_y, test_y = train_test_split(X, y, random_state=42)\n",
    "# モデルの構築\n",
    "model = LogisticRegression(random_state=42)\n",
    "# train_Xとtrain_yを使ってモデルに学習\n",
    "model.fit(train_X, train_y)\n",
    "\n",
    "# test_Xに対するモデルの分類予測結果を格納\n",
    "pred_y = model.predict(test_X)\n",
    "\n",
    "print(\"Predicted value :\"+ str(pred_y))\n",
    "print(\"Correct data    :\"+ str(test_y))\n",
    "print(\"Acuraccy        : {} %\".format(accuracy_score(test_y, pred_y)))\n",
    "print(\"Precision       : {} %\".format(precision_score(test_y, pred_y)))\n",
    "print(\"Recall          : {} %\".format(recall_score(test_y, pred_y)))\n",
    "print(\"F-Value         : {} %\".format(f1_score(test_y, pred_y)))"
   ]
  },
  {
   "cell_type": "markdown",
   "id": "d0ece4ab-ef3a-4332-a9b3-c394e8f54b28",
   "metadata": {},
   "source": [
    "# Multiple Ways For Suppervised Learning(分類)"
   ]
  },
  {
   "cell_type": "markdown",
   "id": "19ca0cd1-663d-403a-8296-4465c4c33351",
   "metadata": {},
   "source": [
    "## ロジスティック回帰\n",
    "線形分離可能なデータの境界線を学習によって見つけて、データの分類を行う手法</br>\n",
    "\n",
    "直線でデータのカテゴリーのグループ分けができるデータを線形分離可能なデータ</br>\n",
    "この線形分離可能なデータをロジスティック回帰を用いて分類する\n",
    "\n",
    "- Cons\n",
    "  - データが線形分離可能でないと分類ができない点\n",
    "  - ⾼次元の疎なデータ(0が多いデータ)には適さない点\n",
    "  - 訓練データから学習した境界線がデータの近くを通るため、汎化能力が低い点\n",
    "\n",
    "![np.meshgrid](./images/np.meshgrid.png)\n"
   ]
  },
  {
   "cell_type": "code",
   "execution_count": 49,
   "id": "ad72d995-7249-4b2c-88b9-d451f60a768f",
   "metadata": {},
   "outputs": [
    {
     "name": "stdout",
     "output_type": "stream",
     "text": [
      "Predicted value :[1 0 2 1 1 0 1 2 1 1 2 0 0 0 0 1 2 1 1 2 0 2 0 2 2 2 2 2 0 0 0 0 1 0 0 2 1\n",
      " 0 0 0 2 1 1 0 0]\n",
      "Correct data    :[1 0 2 1 1 0 1 2 1 1 2 0 0 0 0 1 2 1 1 2 0 2 0 2 2 2 2 2 0 0 0 0 1 0 0 2 1\n",
      " 0 0 0 2 1 1 0 0]\n",
      "Acuraccy        : 1.0 %\n",
      "Precision       : 1.0 %\n",
      "Recall          : 1.0 %\n",
      "F-Value         : 1.0 %\n"
     ]
    },
    {
     "data": {
      "image/png": "[encoded data removed]",
      "text/plain": [
       "<Figure size 432x288 with 1 Axes>"
      ]
     },
     "metadata": {
      "needs_background": "light"
     },
     "output_type": "display_data"
    }
   ],
   "source": [
    "# パッケージをインポート\n",
    "import numpy as np\n",
    "import matplotlib\n",
    "import matplotlib.pyplot as plt\n",
    "from sklearn import datasets\n",
    "from sklearn.linear_model import LogisticRegression\n",
    "from sklearn.model_selection import train_test_split\n",
    "from sklearn.datasets import make_classification\n",
    "\n",
    "# データを取得\n",
    "iris = datasets.load_iris()\n",
    "# irisの0列目と2列目を格納\n",
    "X = iris.data[:, [0, 2]]\n",
    "# irisのクラスラベルを格納\n",
    "y = iris.target\n",
    "# trainデータ、testデータの分割\n",
    "train_X, test_X, train_y, test_y = train_test_split(\n",
    "    X, y, test_size=0.3, random_state=42)\n",
    "\n",
    "# ロジスティック回帰モデルの構築\n",
    "model = LogisticRegression()\n",
    "# train_Xとtrain_yを使ってモデルに学習\n",
    "model.fit(train_X, train_y)\n",
    "# test_Xに対するモデルの分類予測結果\n",
    "y_pred = model.predict(test_X)\n",
    "# print(\"train value     :\"+ str(train_y))\n",
    "print(\"Predicted value :\"+ str(y_pred))\n",
    "print(\"Correct data    :\"+ str(test_y))\n",
    "print(\"Acuraccy        : {} %\".format(accuracy_score(test_y, y_pred)))\n",
    "print(\"Precision       : {} %\".format(precision_score(test_y, y_pred, average=\"micro\")))\n",
    "print(\"Recall          : {} %\".format(recall_score(test_y, y_pred, average=\"micro\")))\n",
    "print(\"F-Value         : {} %\".format(f1_score(test_y, y_pred, average=\"micro\")))\n",
    "\n",
    "# 以下可視化\n",
    "# 全データを散布図にプロットし、ラベルごとに色を分ける\n",
    "plt.scatter(X[:, 0], X[:, 1], c=y, marker=\".\",\n",
    "            cmap=matplotlib.cm.get_cmap(name=\"cool\"), alpha=1.0)\n",
    "# グラフの範囲を決定\n",
    "x1_min, x1_max = X[:, 0].min() - 1, X[:, 0].max() + 1\n",
    "x2_min, x2_max = X[:, 1].min() - 1, X[:, 1].max() + 1\n",
    "# グラフを0.02ごとに区切った時の交点の座標を格納\n",
    "xx1, xx2 = np.meshgrid(np.arange(x1_min, x1_max, 0.02),\n",
    "                       np.arange(x2_min, x2_max, 0.02))\n",
    "Z = model.predict(np.array([xx1.ravel(), xx2.ravel()]).T).reshape(xx1.shape)\n",
    "# 全てのxx1,xx2のペアに対して、学習モデルで予測\n",
    "plt.contourf(xx1, xx2, Z, alpha=0.4,\n",
    "             cmap=matplotlib.cm.get_cmap(name=\"Wistia\"))\n",
    "# 座標(xx1, xx2)にZを描画\n",
    "plt.xlim(xx1.min(), xx1.max())\n",
    "plt.ylim(xx2.min(), xx2.max())\n",
    "plt.title(\"classification data using LogisticRegression\")\n",
    "plt.xlabel(\"Sepal length\")\n",
    "plt.ylabel(\"Petal length\")\n",
    "plt.grid(True)\n",
    "plt.show()"
   ]
  },
  {
   "cell_type": "markdown",
   "id": "a718a040-1eb5-48c7-9a3a-33a04b46ec39",
   "metadata": {},
   "source": [
    "## 線形SVM(Support Vector Machine)\n",
    "データの境界線を見つけ、データの分類を行う手法\n",
    "\n",
    "![](./images/svm.png)\n",
    "\n",
    "- Pros\n",
    "  - SVMは分類する境界線が2クラス間の最も離れた場所に引かれるため、ロジスティック回帰と比べて一般化されやすく、データの分類予測が向上する傾向がある\n",
    "- Cons\n",
    "  - データ量が増えると計算量が増えてしまうため、他の手法に比べ学習や予測が遅くなる傾向がある\n",
    "  - ロジスティック回帰と同様に、入力データが線形分離可能でないと正しく分類が行えない\n",
    "\n",
    "線形SVMは、scikit-learnのLinearSVC()で実装"
   ]
  },
  {
   "cell_type": "code",
   "execution_count": 3,
   "id": "af682af1-7f1b-4077-8ea3-0190b0acacbd",
   "metadata": {},
   "outputs": [
    {
     "name": "stdout",
     "output_type": "stream",
     "text": [
      "Accuracy: 1.000\n",
      "Accuracy: 1.000\n"
     ]
    },
    {
     "data": {
      "image/png": "[encoded data removed]",
      "text/plain": [
       "<Figure size 432x288 with 1 Axes>"
      ]
     },
     "metadata": {
      "needs_background": "light"
     },
     "output_type": "display_data"
    }
   ],
   "source": [
    "# パッケージをインポート\n",
    "import numpy as np\n",
    "import matplotlib\n",
    "import matplotlib.pyplot as plt\n",
    "from sklearn import datasets\n",
    "from sklearn.svm import LinearSVC\n",
    "from sklearn.model_selection import train_test_split\n",
    "from sklearn.datasets import make_classification\n",
    "from sklearn.metrics import accuracy_score\n",
    "\n",
    "iris = datasets.load_iris()\n",
    "X = iris.data[:, [0, 2]]\n",
    "y = iris.target\n",
    "train_X, test_X, train_y, test_y = train_test_split(\n",
    "    X, y, test_size=0.3, random_state=42)\n",
    "\n",
    "# モデルの構築\n",
    "model = LinearSVC(max_iter=10000)\n",
    "# train_Xとtrain_yを使ってモデルに学習\n",
    "model.fit(train_X, train_y)\n",
    "# test_Xとtest_yを用いたモデルの正解率を出力\n",
    "pred_y = model.predict(test_X)\n",
    "print(\"Accuracy: {:.3f}\".format(accuracy_score(test_y, pred_y)))\n",
    "print(\"Accuracy: {:.3f}\".format(model.score(test_X, test_y)))\n",
    "\n",
    "# 以下可視化の作業\n",
    "plt.scatter(X[:, 0], X[:, 1], c=y, marker=\".\",\n",
    "            cmap=matplotlib.cm.get_cmap(name=\"cool\"), alpha=1.0)\n",
    "\n",
    "x1_min, x1_max = X[:, 0].min() - 1, X[:, 0].max() + 1\n",
    "x2_min, x2_max = X[:, 1].min() - 1, X[:, 1].max() + 1\n",
    "xx1, xx2 = np.meshgrid(np.arange(x1_min, x1_max, 0.02),\n",
    "                       np.arange(x2_min, x2_max, 0.02))\n",
    "Z = model.predict(np.array([xx1.ravel(), xx2.ravel()]).T).reshape(xx1.shape)\n",
    "plt.contourf(xx1, xx2, Z, alpha=0.4,\n",
    "             cmap=matplotlib.cm.get_cmap(name=\"Wistia\"))\n",
    "plt.xlim(xx1.min(), xx1.max())\n",
    "plt.ylim(xx2.min(), xx2.max())\n",
    "plt.title(\"classification data using LinearSVC\")\n",
    "plt.xlabel(\"Sepal length\")\n",
    "plt.ylabel(\"Petal length\")\n",
    "plt.grid(True)\n",
    "plt.show()"
   ]
  },
  {
   "cell_type": "markdown",
   "id": "e1cc3e35-f6db-4f41-89d3-3653d07a97d1",
   "metadata": {},
   "source": [
    "## 非線形SVM\n",
    "入力データが線形分離でない限り使えないという欠点を持っていた</br>\n",
    "非線形SVMは線形SVMの欠点を取り除くため開発されたモデル\n",
    "\n",
    "![](./images/unlinear_svm.png)\n",
    "カーネル関数と呼ばれる変換式に従って、数学的処理を行いデータを変換し、</br>\n",
    "変換後の入力データが線形分離可能な状態となる場合がある</br>\n",
    "この処理を行いSVMを用いるモデルが非線形SVM\n",
    "\n",
    "カーネル関数による操作は複雑なのですが、その操作の計算を行わずともデータの操作後の内積が求められれば分類が可能なので、</br>\n",
    "計算コストが抑えられます。この計算コストの抑制手法をカーネルトリックとも呼ばれる\n",
    "\n",
    "SVMのモデルを作るにはscikit-learnのsvmサブモジュールにあるSVC()で実装\n"
   ]
  },
  {
   "cell_type": "code",
   "execution_count": 4,
   "id": "b2af05fe-72c4-445d-842f-fed75eb789f1",
   "metadata": {},
   "outputs": [
    {
     "name": "stdout",
     "output_type": "stream",
     "text": [
      "non-linear-SVM-score: 1.0\n",
      "linear-SVM-score: 1.0\n"
     ]
    },
    {
     "data": {
      "image/png": "[encoded data removed]",
      "text/plain": [
       "<Figure size 720x288 with 2 Axes>"
      ]
     },
     "metadata": {
      "needs_background": "light"
     },
     "output_type": "display_data"
    }
   ],
   "source": [
    "from sklearn.svm import LinearSVC\n",
    "from sklearn.svm import SVC\n",
    "from sklearn import datasets\n",
    "from sklearn.model_selection import train_test_split\n",
    "from sklearn.datasets import make_gaussian_quantiles\n",
    "import numpy as np\n",
    "import matplotlib.pyplot as plt\n",
    "import matplotlib\n",
    "\n",
    "# データの生成\n",
    "iris = datasets.load_iris()\n",
    "X = iris.data[:, [0, 2]]\n",
    "y = iris.target\n",
    "train_X, test_X, train_y, test_y = train_test_split(\n",
    "    X, y, test_size=0.3, random_state=42)\n",
    "\n",
    "# モデルの構築\n",
    "# 非線形SVMを実装\n",
    "model1 = SVC() \n",
    "# 線形SVMを実装\n",
    "model2 = LinearSVC(max_iter=10000)\n",
    "# train_Xとtrain_yを使ってモデルに学習させる\n",
    "model1.fit(train_X, train_y)\n",
    "model2.fit(train_X, train_y)\n",
    "# 正解率の算出\n",
    "print(\"non-linear-SVM-score: {}\".format(model1.score(test_X, test_y)))\n",
    "print(\"linear-SVM-score: {}\".format(model2.score(test_X, test_y)))\n",
    "\n",
    "# 以下可視化の作業\n",
    "fig, (axL, axR) = plt.subplots(ncols=2, figsize=(10, 4))\n",
    "axL.scatter(X[:, 0], X[:, 1], c=y, marker=\".\",\n",
    "            cmap=matplotlib.cm.get_cmap(name=\"cool\"), alpha=1.0)\n",
    "x1_min, x1_max = X[:, 0].min() - 1, X[:, 0].max() + 1\n",
    "x2_min, x2_max = X[:, 1].min() - 1, X[:, 1].max() + 1\n",
    "xx1, xx2 = np.meshgrid(np.arange(x1_min, x1_max, 0.02),\n",
    "                       np.arange(x2_min, x2_max, 0.02))\n",
    "Z1 = model1.predict(\n",
    "    np.array([xx1.ravel(), xx2.ravel()]).T).reshape(xx1.shape)\n",
    "axL.contourf(xx1, xx2, Z1, alpha=0.4,\n",
    "             cmap=matplotlib.cm.get_cmap(name=\"Wistia\"))\n",
    "axL.set_xlim(xx1.min(), xx1.max())\n",
    "axL.set_ylim(xx2.min(), xx2.max())\n",
    "axL.set_title(\"classification data using SVC\")\n",
    "axL.set_xlabel(\"Sepal length\")\n",
    "axL.set_ylabel(\"Petal length\")\n",
    "axL.grid(True)\n",
    "\n",
    "axR.scatter(X[:, 0], X[:, 1], c=y, marker=\".\",\n",
    "            cmap=matplotlib.cm.get_cmap(name=\"cool\"), alpha=1.0)\n",
    "x1_min, x1_max = X[:, 0].min() - 1, X[:, 0].max() + 1\n",
    "x2_min, x2_max = X[:, 1].min() - 1, X[:, 1].max() + 1\n",
    "xx1, xx2 = np.meshgrid(np.arange(x1_min, x1_max, 0.02),\n",
    "                       np.arange(x2_min, x2_max, 0.02))\n",
    "Z2 = model2.predict(\n",
    "    np.array([xx1.ravel(), xx2.ravel()]).T).reshape(xx1.shape)\n",
    "axR.contourf(xx1, xx2, Z2, alpha=0.4,\n",
    "             cmap=matplotlib.cm.get_cmap(name=\"Wistia\"))\n",
    "axR.set_xlim(xx1.min(), xx1.max())\n",
    "axR.set_ylim(xx2.min(), xx2.max())\n",
    "axR.set_title(\"classification data using LinearSVC\")\n",
    "axR.set_xlabel(\"Sepal length\")\n",
    "axR.grid(True)\n",
    "plt.show()\n"
   ]
  },
  {
   "cell_type": "markdown",
   "id": "d03b7901-2339-4757-828a-dcb5f6ef88a1",
   "metadata": {},
   "source": [
    "## 決定木\n",
    "決定木はこれまで紹介したロジスティック回帰やSVMとは違い、</br>\n",
    "データの要素（説明変数）の一つ一つに着目し、</br>\n",
    "その要素内でのある値を境にデータを分割し、データの属するクラスを決定する手法</br>\n",
    "\n",
    "- Pros\n",
    "  - 説明変数の一つ一つが目的変数にどのくらいの影響を与えているのかを見れる\n",
    "  - 分割を繰り返すことで枝分かれしていきますが、先に分割される条件に用いられる変数ほど影響力が大きいと捉えられる\n",
    "- Cons\n",
    "  - 線形分離不可能なデータは分類が難しい (例えば2次元データでは境界線が斜めに引けない)\n",
    "  - 学習が教師データに寄りすぎる(汎化されない)\n",
    "\n",
    "決定木を実装するにはscikit-learnのtreeサブモジュールにあるDecisionTreeClassifier()を用いて実装\n"
   ]
  },
  {
   "cell_type": "code",
   "execution_count": 8,
   "id": "4f29c9ff-9ad7-44e4-8d36-9a2c9fa69606",
   "metadata": {},
   "outputs": [
    {
     "name": "stdout",
     "output_type": "stream",
     "text": [
      "正解率: 0.9555555555555556\n"
     ]
    },
    {
     "data": {
      "image/png": "[encoded data removed]",
      "text/plain": [
       "<Figure size 432x288 with 1 Axes>"
      ]
     },
     "metadata": {
      "needs_background": "light"
     },
     "output_type": "display_data"
    }
   ],
   "source": [
    "import pandas as pd\n",
    "from sklearn.model_selection import train_test_split\n",
    "from sklearn import datasets\n",
    "import numpy as np\n",
    "import matplotlib.pyplot as plt\n",
    "import matplotlib\n",
    "from sklearn.tree import DecisionTreeClassifier\n",
    "\n",
    "# データの生成\n",
    "iris = datasets.load_iris()\n",
    "X = iris.data[:, [0, 2]]\n",
    "y = iris.target\n",
    "train_X, test_X, train_y, test_y = train_test_split(\n",
    "    X, y, test_size=0.3, random_state=42)\n",
    "\n",
    "# モデルの構築\n",
    "model = DecisionTreeClassifier()\n",
    "# モデルを学習\n",
    "model.fit(train_X, train_y)\n",
    "# test_Xとtest_yを用いたモデルの正解率を出力\n",
    "print(\"正解率: {}\".format(model.score(test_X, test_y)))\n",
    "# 以下可視化\n",
    "plt.scatter(X[:, 0], X[:, 1], c=y, marker=\".\",\n",
    "            cmap=matplotlib.cm.get_cmap(name=\"cool\"), alpha=1.0)\n",
    "\n",
    "x1_min, x1_max = X[:, 0].min() - 1, X[:, 0].max() + 1\n",
    "x2_min, x2_max = X[:, 1].min() - 1, X[:, 1].max() + 1\n",
    "xx1, xx2 = np.meshgrid(np.arange(x1_min, x1_max, 0.02),\n",
    "                       np.arange(x2_min, x2_max, 0.02))\n",
    "Z = model.predict(np.array([xx1.ravel(), xx2.ravel()]).T).reshape(xx1.shape)\n",
    "plt.contourf(xx1, xx2, Z, alpha=0.4,\n",
    "             cmap=matplotlib.cm.get_cmap(name=\"Wistia\"))\n",
    "plt.xlim(xx1.min(), xx1.max())\n",
    "plt.ylim(xx2.min(), xx2.max())\n",
    "plt.title(\"classification data using DecisionTreeClassifier\")\n",
    "plt.xlabel(\"Sepal length\")\n",
    "plt.ylabel(\"Petal length\")\n",
    "plt.grid(True)\n",
    "plt.show()"
   ]
  },
  {
   "cell_type": "markdown",
   "id": "7c464472-84b5-4980-a391-c7b9c79c267c",
   "metadata": {},
   "source": [
    "## ランダムフォレスト\n",
    "前述の決定木の簡易版のモデルを複数作り、分類の結果をモデルの多数決で決める手法</br>\n",
    "複数の簡易分類器を一つの分類器にまとめて学習させる アンサンブル学習と呼ばれる学習の手法</br>\n",
    "\n",
    "決定木では全ての説明変数を使用していたのに対し、ランダムフォレストの一つ一つの決定木は、</br>\n",
    "ランダムに決められた少数の説明変数だけ使用してデータの属するクラスを決定</br>\n",
    "その上で、複数の簡易決定木のモデルから出力されるクラスのうち、最も多いクラスを結果として出力\n",
    "\n",
    "- Pros\n",
    "  - 線形分離可能でない複雑な識別範囲を持つデータ集合の分類にも使える\n",
    "- Cons\n",
    "  - 決定木と同じように、説明変数の数に対してデータの数が少ないと決定木の分割ができず、予測の精度が下がってしまう\n",
    "\n",
    "scikit-learnのensembleサブモジュールにあるRandomForestClassifier()を用いて実装"
   ]
  },
  {
   "cell_type": "code",
   "execution_count": 12,
   "id": "0c660da7-3d7e-46ef-8506-42f00f12a19a",
   "metadata": {},
   "outputs": [
    {
     "name": "stdout",
     "output_type": "stream",
     "text": [
      "Random forest: 0.9555555555555556\n",
      "Decision tree: 1.0\n"
     ]
    },
    {
     "data": {
      "image/png": "[encoded data removed]",
      "text/plain": [
       "<Figure size 720x288 with 2 Axes>"
      ]
     },
     "metadata": {
      "needs_background": "light"
     },
     "output_type": "display_data"
    }
   ],
   "source": [
    "import pandas as pd\n",
    "from sklearn import datasets\n",
    "from sklearn.model_selection import train_test_split\n",
    "import numpy as np\n",
    "import matplotlib.pyplot as plt\n",
    "import matplotlib\n",
    "from sklearn.ensemble import RandomForestClassifier\n",
    "from sklearn.tree import DecisionTreeClassifier\n",
    "\n",
    "# データの生成\n",
    "iris = datasets.load_iris()\n",
    "X = iris.data[:, [0, 2]]\n",
    "y = iris.target\n",
    "train_X, test_X, train_y, test_y = train_test_split(\n",
    "    X, y, test_size=0.3, random_state=42)\n",
    "\n",
    "# モデルの構築\n",
    "model1 = DecisionTreeClassifier()\n",
    "model2 = RandomForestClassifier()\n",
    "\n",
    "# モデルの学習\n",
    "model1.fit(train_X, train_y)\n",
    "model2.fit(train_X, train_y)\n",
    "\n",
    "# 正解率を算出\n",
    "print(\"Random forest: {}\".format(model1.score(test_X, test_y)))\n",
    "print(\"Decision tree: {}\".format(model2.score(test_X, test_y)))\n",
    "\n",
    "# 以下可視化作業です\n",
    "fig, (axL, axR) = plt.subplots(ncols=2, figsize=(10, 4))\n",
    "axL.scatter(X[:, 0], X[:, 1], c=y, marker=\".\",\n",
    "            cmap=matplotlib.cm.get_cmap(name=\"cool\"), alpha=1.0)\n",
    "x1_min, x1_max = X[:, 0].min() - 1, X[:, 0].max() + 1\n",
    "x2_min, x2_max = X[:, 1].min() - 1, X[:, 1].max() + 1\n",
    "xx1, xx2 = np.meshgrid(np.arange(x1_min, x1_max, 0.02),\n",
    "                       np.arange(x2_min, x2_max, 0.02))\n",
    "Z1 = model1.predict(\n",
    "    np.array([xx1.ravel(), xx2.ravel()]).T).reshape(xx1.shape)\n",
    "axL.contourf(xx1, xx2, Z1, alpha=0.4,\n",
    "             cmap=matplotlib.cm.get_cmap(name=\"Wistia\"))\n",
    "axL.set_xlim(xx1.min(), xx1.max())\n",
    "axL.set_ylim(xx2.min(), xx2.max())\n",
    "axL.set_title(\"classification data using RandomForestClassifier\")\n",
    "axL.set_xlabel(\"Sepal length\")\n",
    "axL.set_ylabel(\"Petal length\")\n",
    "axL.grid(True)\n",
    "\n",
    "axR.scatter(X[:, 0], X[:, 1], c=y, marker=\".\",\n",
    "            cmap=matplotlib.cm.get_cmap(name=\"cool\"), alpha=1.0)\n",
    "x1_min, x1_max = X[:, 0].min() - 1, X[:, 0].max() + 1\n",
    "x2_min, x2_max = X[:, 1].min() - 1, X[:, 1].max() + 1\n",
    "xx1, xx2 = np.meshgrid(np.arange(x1_min, x1_max, 0.02),\n",
    "                       np.arange(x2_min, x2_max, 0.02))\n",
    "Z2 = model2.predict(\n",
    "    np.array([xx1.ravel(), xx2.ravel()]).T).reshape(xx1.shape)\n",
    "axR.contourf(xx1, xx2, Z2, alpha=0.4,\n",
    "             cmap=matplotlib.cm.get_cmap(name=\"Wistia\"))\n",
    "axR.set_xlim(xx1.min(), xx1.max())\n",
    "axR.set_ylim(xx2.min(), xx2.max())\n",
    "axR.set_title(\"classification data using DecisionTreeClassifier\")\n",
    "axR.set_xlabel(\"Sepal length\")\n",
    "axR.grid(True)\n",
    "plt.show()"
   ]
  },
  {
   "cell_type": "markdown",
   "id": "092be4c6-5a62-4d8d-8acc-a2226a96fac3",
   "metadata": {},
   "source": [
    "## k-NN\n",
    "k近傍法とも呼ばれ、予測をするデータと類似したデータをいくつか見つけ、多数決により分類結果を決める手法</br>\n",
    "怠惰学習と呼ばれる学習の種類の一手法であり、学習コスト（学習にかかる計算量）が0なのが特徴</br>\n",
    "k-NNは教師データから学習するわけではなく、予測時に教師データを直接参照してラベルを予測\n",
    "\n",
    "### 結果の予測フロー\n",
    "1. 教師データを予測に用いるデータとの類似度で並べ直す\n",
    "2. 分類器に設定されたk個分のデータを類似度の高い順に参照する\n",
    "3. 参照された教師データが属するクラスのなかで最も多かったものを予測結果として出力する\n",
    "\n",
    "- Pros\n",
    "  - 学習コストが0\n",
    "  - アルゴリズムとしては比較的単純だが高い予測精度が出やすい点\n",
    "  - 複雑な形の境界線も表現しやすい点\n",
    "- Cons\n",
    "  - 分類器に指定する自然数kの個数を増やしすぎると、識別範囲の平均化が進み、予測精度が下がってしまう点\n",
    "  - 予測時に毎回計算を行うため、教師データや予測データの量が増えると計算量が増えてしまい、低速なアルゴリズムとなってしまう点\n",
    "\n",
    "\n",
    "以下の画像は、kkの数の違いによる分類過程の様子の違いを表してしまう</br>\n",
    "灰色の点は、k=3では水色の点の方が周りに多いため、水色の点だと予測されますが、 </br>\n",
    "k=7では緑色の点の方が多いため、緑色の点ではないかという予測に変わる</br>\n",
    "\n",
    "![](./images/pie.svg)"
   ]
  },
  {
   "cell_type": "code",
   "execution_count": 13,
   "id": "2c3cd77d-6242-47c0-8992-57b10ddaa5fd",
   "metadata": {},
   "outputs": [
    {
     "name": "stdout",
     "output_type": "stream",
     "text": [
      "0.9777777777777777\n"
     ]
    },
    {
     "data": {
      "image/png": "[encoded data removed]",
      "text/plain": [
       "<Figure size 432x288 with 1 Axes>"
      ]
     },
     "metadata": {
      "needs_background": "light"
     },
     "output_type": "display_data"
    }
   ],
   "source": [
    "import pandas as pd\n",
    "from sklearn import datasets\n",
    "from sklearn.model_selection import train_test_split\n",
    "import numpy as np\n",
    "import matplotlib.pyplot as plt\n",
    "import matplotlib\n",
    "from sklearn.neighbors import KNeighborsClassifier\n",
    "\n",
    "# データの生成\n",
    "iris = datasets.load_iris()\n",
    "X = iris.data[:, [0, 2]]\n",
    "y = iris.target\n",
    "train_X, test_X, train_y, test_y = train_test_split(\n",
    "    X, y, test_size=0.3, random_state=42)\n",
    "\n",
    "# モデルの構築\n",
    "model = KNeighborsClassifier()\n",
    "\n",
    "# モデルの学習\n",
    "model.fit(train_X, train_y)\n",
    "\n",
    "# 正解率の表示\n",
    "print(model.score(test_X, test_y))\n",
    "\n",
    "# 以下可視化\n",
    "plt.scatter(X[:, 0], X[:, 1], c=y, marker=\".\",\n",
    "            cmap=matplotlib.cm.get_cmap(name=\"cool\"), alpha=1.0)\n",
    "\n",
    "x1_min, x1_max = X[:, 0].min() - 1, X[:, 0].max() + 1\n",
    "x2_min, x2_max = X[:, 1].min() - 1, X[:, 1].max() + 1\n",
    "xx1, xx2 = np.meshgrid(np.arange(x1_min, x1_max, 0.02),\n",
    "                       np.arange(x2_min, x2_max, 0.02))\n",
    "Z = model.predict(np.array([xx1.ravel(), xx2.ravel()]).T).reshape(xx1.shape)\n",
    "plt.contourf(xx1, xx2, Z, alpha=0.4, cmap=matplotlib.cm.get_cmap(name=\"Wistia\"))\n",
    "plt.xlim(xx1.min(), xx1.max())\n",
    "plt.ylim(xx2.min(), xx2.max())\n",
    "plt.title(\"classification data using KNeighborsClassifier\")\n",
    "plt.xlabel(\"Sepal length\")\n",
    "plt.ylabel(\"Petal length\")\n",
    "plt.grid(True)\n",
    "plt.show()"
   ]
  },
  {
   "cell_type": "markdown",
   "id": "076fc092-175a-4fe6-9b13-252cca670010",
   "metadata": {},
   "source": [
    "# ハイパーパラメーターとチューニング1\n",
    "機械学習ではすべての学習過程を自動化することは難しく、人の手でモデルを調整しなければならない場合が存在する</br>\n",
    "ハイパーパラメーターとは、機械学習のモデルが持つパラメーターの中で人が調整をしないといけないパラメーターを指す</br>\n",
    "ハイパーパラメーターは選択した手法によって異なる\n"
   ]
  },
  {
   "cell_type": "markdown",
   "id": "47a364d1-569f-4073-8bde-13a30208885a",
   "metadata": {},
   "source": [
    "## チューニング\n",
    "ハイパーパラメーターの調整をチューニングと呼ぶ</br>\n",
    "調整方法は、値をモデルに直接入力する方法以外に、ハイパーパラメーターの値の範囲を指定し、最適な値を探す方法も存在する</br>\n",
    "scikit-learnでは、モデルの構築時にパラメーターに値を入力することで、パラメーターのチューニングが可能\n"
   ]
  },
  {
   "cell_type": "markdown",
   "id": "d2d56ea9-d837-4d9a-8fa0-fd0adb90975c",
   "metadata": {},
   "source": [
    "## ロジスティック回帰チューニング\n",
    "### パラメーター C\n",
    "ロジスティック回帰にはCというパラメーターが存在する</br>\n",
    "このCは、教師データの分類の間違いに対して、モデルが学習する識別境界線をどのくらい厳しくするのかという指標になる\n",
    "\n",
    "Cの値が大きいほど、モデルは教師データを完全に分類できるような識別線を学習するようになる</br>\n",
    "しかし、教師データに対しては過学習になり、訓練データ以外のデータに予測を行うと、正解率が下がる場合が多くなる</br>\n",
    "\n",
    "Cの値を小さくすると、教師データの分類の誤りと外れ値データに寛容になり、より一般化された境界線を得やすくなる</br>\n",
    "ただし、外れ値の少ないデータでは、境界線がうまく識別できていないモデルになる場合もある</br>\n",
    "\n",
    "note: scikit-learnのロジスティック回帰モデルにおいて、Cの初期値は1.0\n"
   ]
  },
  {
   "cell_type": "code",
   "execution_count": 16,
   "id": "e2d652da-a175-4497-9446-1ef9875d0da7",
   "metadata": {},
   "outputs": [
    {
     "data": {
      "image/png": "[encoded data removed]",
      "text/plain": [
       "<Figure size 432x288 with 1 Axes>"
      ]
     },
     "metadata": {
      "needs_background": "light"
     },
     "output_type": "display_data"
    }
   ],
   "source": [
    "import matplotlib.pyplot as plt\n",
    "from sklearn.linear_model import LogisticRegression\n",
    "from sklearn.datasets import make_classification\n",
    "from sklearn import preprocessing\n",
    "from sklearn.model_selection import train_test_split\n",
    "\n",
    "# データの生成\n",
    "X, y = make_classification(\n",
    "    n_samples=1250, n_features=4, n_informative=2, n_redundant=2, random_state=42)\n",
    "train_X, test_X, train_y, test_y = train_test_split(X, y, random_state=42)\n",
    "\n",
    "# Cの値の範囲を設定(今回は1e-5,1e-4,1e-3,0.01,0.1,1,10,100,1000,10000)\n",
    "C_list = [10 ** i for i in range(-5, 5)]\n",
    "\n",
    "# グラフ描画用の空リストを用意\n",
    "train_accuracy = []\n",
    "test_accuracy = []\n",
    "\n",
    "for C in C_list:\n",
    "    model = LogisticRegression(C=C, random_state=0)\n",
    "    model.fit(train_X, train_y)\n",
    "    train_accuracy.append(model.score(train_X, train_y))\n",
    "    test_accuracy.append(model.score(test_X, test_y))\n",
    "    \n",
    "# グラフの準備\n",
    "# semilogx()はxのスケールを10のx乗のスケールに変更\n",
    "plt.semilogx(C_list, train_accuracy, label=\"accuracy of train_data\")\n",
    "plt.semilogx(C_list, test_accuracy, label=\"accuracy of test_data\")\n",
    "plt.title(\"accuracy by changing C\")\n",
    "plt.xlabel(\"C\")\n",
    "plt.ylabel(\"accuracy\")\n",
    "plt.legend()\n",
    "plt.show()"
   ]
  },
  {
   "cell_type": "markdown",
   "id": "34820cea-79be-4ab9-b307-baae2d05465a",
   "metadata": {},
   "source": [
    "### パラメーター penalty\n",
    "Cが分類の誤りの許容度だったのに対し、penaltyはモデルの複雑さに対するペナルティ</br>\n",
    "penaltyに入力できる値は、「L1」と「L2」の2つあり、</br>\n",
    "基本的には「L2」を選ぶが、「L1」を選んだほうが欲しいデータが得られる場合もある\n",
    "\n",
    "- L1\n",
    "  - データの特徴量の削減により、識別境界線の一般化を図るペナルティ\n",
    "- L2\n",
    "  - データ全体の重みの減少により、識別境界線の一般化を図るペナルティ\n"
   ]
  },
  {
   "cell_type": "code",
   "execution_count": 49,
   "id": "0115e829-ad27-4158-90ea-82ea753ea8ab",
   "metadata": {},
   "outputs": [
    {
     "name": "stdout",
     "output_type": "stream",
     "text": [
      "[0.9306296691568837, 0.9306296691568837, 0.9306296691568837, 0.9306296691568837, 0.9306296691568837, 0.9316969050160085, 0.9316969050160085, 0.9316969050160085, 0.9316969050160085, 0.9316969050160085, 0.9316969050160085, 0.9316969050160085, 0.9316969050160085]\n",
      "[0.9265175718849841, 0.9265175718849841, 0.9265175718849841, 0.9265175718849841, 0.9265175718849841, 0.9265175718849841, 0.9265175718849841, 0.9265175718849841, 0.9265175718849841, 0.9265175718849841, 0.9265175718849841, 0.9265175718849841, 0.9265175718849841]\n"
     ]
    },
    {
     "data": {
      "image/png": "[encoded data removed]",
      "text/plain": [
       "<Figure size 432x288 with 1 Axes>"
      ]
     },
     "metadata": {
      "needs_background": "light"
     },
     "output_type": "display_data"
    }
   ],
   "source": [
    "import matplotlib.pyplot as plt\n",
    "from sklearn.linear_model import LogisticRegression\n",
    "from sklearn.datasets import make_classification\n",
    "from sklearn import preprocessing\n",
    "from sklearn.model_selection import train_test_split\n",
    "\n",
    "# データの生成\n",
    "X, y = make_classification(\n",
    "    n_samples=1250, n_features=4, n_informative=2, n_redundant=2, random_state=42)\n",
    "train_X, test_X, train_y, test_y = train_test_split(X, y, random_state=42)\n",
    "\n",
    "# penaltyを各種設定\n",
    "penaltys = [\"none\", \"l1\", \"l2\"]\n",
    "for i in range(10):\n",
    "    penaltys.append(\"elastic_net_0.{}\".format(i))\n",
    "\n",
    "# グラフ描画用の空リストを用意\n",
    "train_accuracy = []\n",
    "test_accuracy = []\n",
    "\n",
    "for penalty in penaltys:\n",
    "    if penalty == \"l1\":\n",
    "        model = LogisticRegression(penalty=penalty, solver=\"liblinear\", random_state=0)\n",
    "    elif penalty == \"none\" or penalty == \"l2\":\n",
    "        model = LogisticRegression(penalty=penalty, random_state=0)\n",
    "    else:\n",
    "        model = LogisticRegression(penalty=\"elasticnet\", l1_ratio=float(penalty[-3:]), max_iter=10000, solver=\"saga\", random_state=0)\n",
    "    model.fit(train_X, train_y)\n",
    "    train_accuracy.append(model.score(train_X, train_y))\n",
    "    test_accuracy.append(model.score(test_X, test_y))\n",
    "    \n",
    "# グラフの準備\n",
    "# semilogx()はxのスケールを10のx乗のスケールに変更\n",
    "print(train_accuracy)\n",
    "print(test_accuracy)\n",
    "plt.semilogx(penaltys, train_accuracy, label=\"accuracy of train_data\")\n",
    "plt.semilogx(penaltys, test_accuracy, label=\"accuracy of test_data\")\n",
    "plt.title(\"accuracy by changing penalty\")\n",
    "plt.xlabel(\"penalty\")\n",
    "plt.ylabel(\"accuracy\")\n",
    "plt.legend()\n",
    "plt.show()"
   ]
  },
  {
   "cell_type": "markdown",
   "id": "8afbcdcc-9404-41d6-b454-01924524e556",
   "metadata": {},
   "source": [
    "### パラメーター multi_class\n",
    "multi_classは多クラス分類を行う際にモデルがどういった動作を行うか決めるパラメーター\n",
    "\n",
    "- ovr\n",
    "  - クラスに対して「属する/属さない」の二値分類の問題に適している\n",
    "- multinomial\n",
    "  - 各クラスに分類される確率も考慮され、「属する/属さない」だけではなく「どれくらい属する可能性があるか」を扱う問題に適している\n"
   ]
  },
  {
   "cell_type": "markdown",
   "id": "89b2922a-896d-4648-81ac-4b5026f30ab7",
   "metadata": {},
   "source": [
    "### パラメーター random_state\n",
    "random_stateは、その順番を制御するためのパラメーター</br>\n",
    "ロジスティック回帰モデルの場合、データの処理順によって大きく境界線が変わる場合がある\n",
    "random_stateの値を固定することにより、同じデータの学習結果を出力できる\n"
   ]
  },
  {
   "cell_type": "markdown",
   "id": "14442c78-6abb-4543-b3fa-ecc93e0d0b9f",
   "metadata": {},
   "source": [
    "## 線分SVMチューニング\n",
    "### パラメーター C\n",
    "ロジスティック回帰と同様に、分類の誤りの許容度を示すパラメーターCが定義されていて、同じ使い方</br>\n",
    "線分SVMはロジスティック回帰に比べて、Cによるデータのラベルにおける予測精度の変動が激しくなる</br>\n",
    "線分SVMのアルゴリズムはロジスティック回帰に比べて、より汎化された境界線を得るため、</br>\n",
    "誤りの許容度が上下するとサポートベクターが変化し、正解率が変動\n",
    "\n",
    "線形SVMモデルでは、Cの初期値は1.0。モジュールはLinearSVCを利用"
   ]
  },
  {
   "cell_type": "code",
   "execution_count": 53,
   "id": "b949b71b-eb36-442d-ad41-b35da72912fe",
   "metadata": {},
   "outputs": [
    {
     "name": "stderr",
     "output_type": "stream",
     "text": [
      "/Users/k-kakimoto/dev/python-math/.ven/lib/python3.9/site-packages/sklearn/svm/_base.py:1206: ConvergenceWarning: Liblinear failed to converge, increase the number of iterations.\n",
      "  warnings.warn(\n",
      "/Users/k-kakimoto/dev/python-math/.ven/lib/python3.9/site-packages/sklearn/svm/_base.py:1206: ConvergenceWarning: Liblinear failed to converge, increase the number of iterations.\n",
      "  warnings.warn(\n",
      "/Users/k-kakimoto/dev/python-math/.ven/lib/python3.9/site-packages/sklearn/svm/_base.py:1206: ConvergenceWarning: Liblinear failed to converge, increase the number of iterations.\n",
      "  warnings.warn(\n",
      "/Users/k-kakimoto/dev/python-math/.ven/lib/python3.9/site-packages/sklearn/svm/_base.py:1206: ConvergenceWarning: Liblinear failed to converge, increase the number of iterations.\n",
      "  warnings.warn(\n"
     ]
    },
    {
     "data": {
      "image/png": "[encoded data removed]",
      "text/plain": [
       "<Figure size 432x288 with 1 Axes>"
      ]
     },
     "metadata": {
      "needs_background": "light"
     },
     "output_type": "display_data"
    },
    {
     "data": {
      "image/png": "[encoded data removed]",
      "text/plain": [
       "<Figure size 432x288 with 1 Axes>"
      ]
     },
     "metadata": {
      "needs_background": "light"
     },
     "output_type": "display_data"
    }
   ],
   "source": [
    "import matplotlib.pyplot as plt\n",
    "from sklearn.linear_model import LogisticRegression\n",
    "from sklearn.svm import LinearSVC\n",
    "from sklearn.datasets import make_classification\n",
    "from sklearn import preprocessing\n",
    "from sklearn.model_selection import train_test_split\n",
    "\n",
    "# データの生成\n",
    "X, y = make_classification(\n",
    "    n_samples=1250, n_features=4, n_informative=2, n_redundant=2, random_state=42)\n",
    "train_X, test_X, train_y, test_y = train_test_split(X, y, random_state=42)\n",
    "\n",
    "# Cの値の範囲を設定(今回は1e-5,1e-4,1e-3,0.01,0.1,1,10,100,1000,10000)\n",
    "C_list = [10 ** i for i in range(-5, 5)]\n",
    "\n",
    "# グラフ描画用の空リストを用意\n",
    "svm_train_accuracy = []\n",
    "svm_test_accuracy = []\n",
    "log_train_accuracy = []\n",
    "log_test_accuracy = []\n",
    "\n",
    "for C in C_list:\n",
    "    # 線形SVMのモデルを構築\n",
    "    model1 = LinearSVC(C=C, random_state=0, max_iter=10000)\n",
    "    model1.fit(train_X, train_y)\n",
    "    svm_train_accuracy.append(model1.score(train_X, train_y))\n",
    "    svm_test_accuracy.append(model1.score(test_X, test_y))\n",
    "    # ロジスティック回帰のモデルを構築\n",
    "    model2 = LogisticRegression(C=C, random_state=0, max_iter=10000)\n",
    "    model2.fit(train_X, train_y)\n",
    "    log_train_accuracy.append(model2.score(train_X, train_y))\n",
    "    log_test_accuracy.append(model2.score(test_X, test_y))\n",
    "    \n",
    "# グラフの準備\n",
    "# semilogx()はxのスケールを10のx乗のスケールに変更\n",
    "fig = plt.figure()\n",
    "plt.subplots_adjust(wspace=0.4, hspace=0.4)\n",
    "ax = fig.add_subplot(1, 1, 1)\n",
    "ax.grid(True)\n",
    "ax.set_title(\"SVM\")\n",
    "ax.set_xlabel(\"C\")\n",
    "ax.set_ylabel(\"accuracy\")\n",
    "ax.semilogx(C_list, svm_train_accuracy, label=\"accuracy of train_data\")\n",
    "ax.semilogx(C_list, svm_test_accuracy, label=\"accuracy of test_data\")\n",
    "ax.legend()\n",
    "ax.plot()\n",
    "plt.show()\n",
    "fig2 =plt.figure()\n",
    "ax2 = fig2.add_subplot(1, 1, 1)\n",
    "ax2.grid(True)\n",
    "ax2.set_title(\"LogisticRegression\")\n",
    "ax2.set_xlabel(\"C\")\n",
    "ax2.set_ylabel(\"accuracy\")\n",
    "ax2.semilogx(C_list, log_train_accuracy, label=\"accuracy of train_data\")\n",
    "ax2.semilogx(C_list, log_test_accuracy, label=\"accuracy of test_data\")\n",
    "ax2.legend()\n",
    "ax2.plot()\n",
    "plt.show()"
   ]
  },
  {
   "cell_type": "markdown",
   "id": "52e95d0d-bc38-4a97-b654-7a3617cb6f12",
   "metadata": {},
   "source": [
    "### パラメーター penalty\n",
    "線分SVMにもロジスティック回帰と同様に、penaltyのパラメーター</br>\n",
    "設定できる値も同じく、\"L1\"と\"L2\"\n",
    "\n",
    "- L1\n",
    "  - データの特徴量の削減により、識別境界線の一般化を図るペナルティ\n",
    "- L2\n",
    "  - データ全体の重みの減少により、識別境界線の一般化を図るペナルティ\n",
    "\n",
    "### パラメーター multi_class\n",
    "multi_classは、多項分類を行う際にモデルがどういった動作を行うかを決めるパラメーター</br>\n",
    "線形SVMでは、「ovr」と「crammer_singer」の2つの値が用意されていて、</br>\n",
    "基本的にはovrの方が、動作が軽く、良い結果が出る\n",
    "\n",
    "### パラメーター random_state\n",
    "結果の固定(乱数の固定)に用いられるrandom_stateは、SVMの場合、サポートベクターの決定にも関わる"
   ]
  },
  {
   "cell_type": "markdown",
   "id": "81ff6edd-7cb7-423e-95a1-7a9f7474e2b7",
   "metadata": {},
   "source": [
    "## 非線分SVMチューニング\n",
    "### パラメーター C\n",
    "非線形SVMではCを調整し、学習時に分類の誤りをどの程度許容するかを制御\n"
   ]
  },
  {
   "cell_type": "code",
   "execution_count": 54,
   "id": "67738be4-7c7f-46ca-838f-94831cf30eaf",
   "metadata": {},
   "outputs": [
    {
     "data": {
      "image/png": "[encoded data removed]",
      "text/plain": [
       "<Figure size 432x288 with 1 Axes>"
      ]
     },
     "metadata": {
      "needs_background": "light"
     },
     "output_type": "display_data"
    }
   ],
   "source": [
    "import matplotlib.pyplot as plt\n",
    "from sklearn.svm import SVC\n",
    "from sklearn.datasets import make_gaussian_quantiles\n",
    "from sklearn import preprocessing\n",
    "from sklearn.model_selection import train_test_split\n",
    "\n",
    "# データの生成\n",
    "X, y = make_gaussian_quantiles(n_samples=1250, n_features=2, random_state=42)\n",
    "train_X, test_X, train_y, test_y = train_test_split(X, y, random_state=42)\n",
    "\n",
    "# Cの値の範囲を設定(今回は1e-5,1e-4,1e-3,0.01,0.1,1,10,100,1000,10000)\n",
    "C_list = [10 ** i for i in range(-5, 5)]\n",
    "\n",
    "# グラフ描画用の空リストを用意\n",
    "train_accuracy = []\n",
    "test_accuracy = []\n",
    "for C in C_list:\n",
    "    model = SVC(C=C, random_state=0)\n",
    "    model.fit(train_X, train_y)\n",
    "    train_accuracy.append(model.score(train_X, train_y))\n",
    "    test_accuracy.append(model.score(test_X, test_y))\n",
    "# グラフの準備\n",
    "# semilogx()はxのスケールを10のx乗のスケールに変更\n",
    "plt.semilogx(C_list, train_accuracy, label=\"accuracy of train_data\")\n",
    "plt.semilogx(C_list, test_accuracy, label=\"accuracy of test_data\")\n",
    "plt.title(\"accuracy with changing C\")\n",
    "plt.xlabel(\"C\")\n",
    "plt.ylabel(\"accuracy\")\n",
    "plt.legend()\n",
    "plt.show()"
   ]
  },
  {
   "cell_type": "markdown",
   "id": "833434eb-1669-487d-8711-9b85bb9ea8d7",
   "metadata": {},
   "source": [
    "### パラメーター kernel\n",
    "kernelは、非線形SVMの中でも特に重要なパラメーター</br>\n",
    "受け取ったデータを操作して、分類しやすい形にするための関数を定義</br>\n",
    "\n",
    "kernelは、linear、rbf、poly、sigmoid、precomputedを設定可能\n",
    "デフォルト=rbf\n",
    "\n",
    "- linear\n",
    "  - 線形SVMであり、LinearSVCとほぼ同じ\n",
    "  - 特殊な理由がない限りは、LinearSVCを使用すること\n",
    "- rdf \n",
    "- poly\n",
    "  - 立体投影のようなもの\n",
    "  - rbfは他のものに比べ、比較的高い正解率が出ることが多いので、通常はデフォルトであるrbfを使用\n",
    "- sigmoid\n",
    "  - ロジスティック回帰モデルと同じ処理\n",
    "- precomputed\n",
    "  - データが前処理によって、すでに整形済みの場合に用いる\n"
   ]
  },
  {
   "cell_type": "markdown",
   "id": "d956851b-46ae-4e56-87c2-41bacfa0f298",
   "metadata": {},
   "source": [
    "### パラメーター decision_function_shape\n",
    "decision_function_shapeは、SVCにおけるmulti_classパラメーターのようなもの\n",
    "\n",
    "- ovo\n",
    "  - クラス同士のペアを作り、そのペアでの二項分類を行い、多数決で属するクラスを決定\n",
    "  - ovoは計算量が多いため、データ量が増大すると動作が重くなる\n",
    "- ovr\n",
    "  - 1つのクラスとそれ以外を分類し、多数決で属するクラスを決定\n",
    "\n",
    "### パラメーター random_state\n",
    "random_stateはデータの処理順に関係するパラメーター</br>\n",
    "予測結果を再現するために、学習の段階では固定を推奨\n"
   ]
  },
  {
   "cell_type": "code",
   "execution_count": 55,
   "id": "651f4d9d-54f6-439a-8377-b60106025e70",
   "metadata": {},
   "outputs": [
    {
     "name": "stdout",
     "output_type": "stream",
     "text": [
      "0.9488817891373802\n"
     ]
    }
   ],
   "source": [
    "import numpy as np\n",
    "from sklearn.svm import SVC\n",
    "from sklearn.datasets import make_classification\n",
    "from sklearn import preprocessing\n",
    "from sklearn.model_selection import train_test_split\n",
    "\n",
    "# データの生成\n",
    "X, y = make_classification(\n",
    "    n_samples=1250, n_features=4, n_informative=2, n_redundant=2, random_state=42)\n",
    "train_X, test_X, train_y, test_y = train_test_split(X, y, random_state=42)\n",
    "\n",
    "# 乱数生成器の構築\n",
    "random_state = np.random.RandomState()\n",
    "# モデルの構築\n",
    "model = SVC(random_state=random_state)\n",
    "# モデルの学習\n",
    "model.fit(train_X, train_y)\n",
    "# テストデータに対する正解率を出力\n",
    "print(model.score(test_X, test_y))"
   ]
  },
  {
   "cell_type": "markdown",
   "id": "8a28d6f2-d9a7-42fc-baa1-d03d1caf2b10",
   "metadata": {},
   "source": [
    "# ハイパーパラメーターとチューニング2\n",
    "## 決定木\n",
    "### パラメーター max_depth\n",
    "max_depthは、モデルが学習する木の深さの最大値のパラメーター</br>\n",
    "max_depthの値を設定しないと、木は教師データを正しく分類できるまで、データを分割し続ける</br>\n",
    "この結果、教師データに過剰に適合した、一般性の低いモデルが作成されることがある</br>\n",
    "max_depthの値が大きすぎても、分類が終了した段階で木の成長は止まるため、上記と同じ状態になる\n",
    "\n",
    "max_depth の設定による木の深さや制限を、「決定木の枝刈り」と呼ぶ\n",
    "\n",
    "### パラメーター random_state\n",
    "random_stateは、決定木の学習過程に関わるパラメーター</br>\n",
    "決定木は、分割を行う時点で、データの分類を説明できる要素の値を見つける。</br>\n",
    "しかし、データの分類を説明できる要素の値は、多くの候補が存在する</br>\n",
    "そのため、random_state で乱数の生成の固定することにより、出力結果を一定化</br>"
   ]
  },
  {
   "cell_type": "code",
   "execution_count": 56,
   "id": "bf55f0a7-24c0-4aa2-9019-cd16cce56472",
   "metadata": {},
   "outputs": [
    {
     "data": {
      "image/png": "[encoded data removed]",
      "text/plain": [
       "<Figure size 432x288 with 1 Axes>"
      ]
     },
     "metadata": {
      "needs_background": "light"
     },
     "output_type": "display_data"
    }
   ],
   "source": [
    "import matplotlib.pyplot as plt\n",
    "from sklearn.datasets import make_classification\n",
    "from sklearn.tree import DecisionTreeClassifier\n",
    "from sklearn.model_selection import train_test_split\n",
    "\n",
    "# データの生成\n",
    "X, y = make_classification(\n",
    "    n_samples=1000, n_features=5, n_informative=3, n_redundant=0, random_state=42)\n",
    "train_X, test_X, train_y, test_y = train_test_split(X, y, random_state=42)\n",
    "\n",
    "# max_depthの値の範囲(1から10)\n",
    "depth_list = [i for i in range(1, 11)]\n",
    "\n",
    "# 正解率を格納する空リストを作成\n",
    "accuracy = []\n",
    "\n",
    "# max_depthを変えながらモデルを学習\n",
    "for max_depth in depth_list:\n",
    "    model = DecisionTreeClassifier(max_depth=max_depth)\n",
    "    model.fit(train_X, train_y)\n",
    "    accuracy.append(model.score(test_X, test_y))\n",
    "\n",
    "# グラフのプロット\n",
    "plt.plot(depth_list, accuracy)\n",
    "plt.xlabel(\"max_depth\")\n",
    "plt.ylabel(\"accuracy\")\n",
    "plt.title(\"accuracy by changing max_depth\")\n",
    "plt.show()"
   ]
  },
  {
   "cell_type": "markdown",
   "id": "b22f8d5f-9096-4f2c-b5b6-3b7122e9c910",
   "metadata": {},
   "source": [
    "## ランダムフォレストのハイパーパラメーター\n",
    "### パラメーター n_estimators\n",
    "ランダムフォレストの特徴として、複数の簡易決定木による多数決で結果が決定される</br>\n",
    "その簡易決定木の個数を決めるのが、このn_estimatorsというパラメーター\n",
    "\n",
    "### パラメーター max_depth\n",
    "max_depthは、簡易決定木の深さを指定するパラメーター</br>\n",
    "パラメータの指定により、個々の決定木の過学習を防ぐ\n",
    "\n"
   ]
  },
  {
   "cell_type": "code",
   "execution_count": 57,
   "id": "8207d38d-9092-472a-be02-cd218d0c122f",
   "metadata": {},
   "outputs": [
    {
     "data": {
      "image/png": "[encoded data removed]",
      "text/plain": [
       "<Figure size 432x288 with 1 Axes>"
      ]
     },
     "metadata": {
      "needs_background": "light"
     },
     "output_type": "display_data"
    }
   ],
   "source": [
    "import matplotlib.pyplot as plt\n",
    "from sklearn.datasets import make_classification\n",
    "from sklearn.ensemble import RandomForestClassifier\n",
    "from sklearn.model_selection import train_test_split\n",
    "\n",
    "# データの生成\n",
    "X, y = make_classification(\n",
    "    n_samples=1000, n_features=4, n_informative=3, n_redundant=0, random_state=42)\n",
    "train_X, test_X, train_y, test_y = train_test_split(X, y, random_state=42)\n",
    "\n",
    "# n_estimatorsの値の範囲(1から20)\n",
    "n_estimators_list = [i for i in range(1, 21)]\n",
    "\n",
    "# 正解率を格納する空リストを作成\n",
    "accuracy = []\n",
    "# n_estimatorsを変えながらモデルを学習\n",
    "for n_estimators in n_estimators_list:\n",
    "    model = RandomForestClassifier(n_estimators=n_estimators)\n",
    "    model.fit(train_X, train_y)\n",
    "    accuracy.append(model.score(test_X, test_y))\n",
    "\n",
    "# グラフのプロット\n",
    "plt.plot(n_estimators_list, accuracy)\n",
    "plt.title(\"accuracy by n_estimators increasement\")\n",
    "plt.xlabel(\"n_estimators\")\n",
    "plt.ylabel(\"accuracy\")\n",
    "plt.show()"
   ]
  },
  {
   "cell_type": "markdown",
   "id": "e973e46c-0a5a-445d-ab25-949937ced7e2",
   "metadata": {},
   "source": [
    "### パラメーター random_state\n",
    "random_stateは、学習に用いるデータの順番を固定する重要なパラメーター</br>\n",
    "下のコードは、実際にrandom_stateを変更した際に、スコアにどれだけのバラツキが出るかを表現した"
   ]
  },
  {
   "cell_type": "code",
   "execution_count": null,
   "id": "f3712681-e900-40d0-b05d-bf245a7f8969",
   "metadata": {},
   "outputs": [],
   "source": [
    "import matplotlib.pyplot as plt\n",
    "from sklearn.datasets import make_classification\n",
    "from sklearn.ensemble import RandomForestClassifier\n",
    "from sklearn.model_selection import train_test_split\n",
    "\n",
    "# データの生成\n",
    "X, y = make_classification(\n",
    "    n_samples=1000, n_features=4, n_informative=3, n_redundant=0, random_state=42)\n",
    "train_X, test_X, train_y, test_y = train_test_split(X, y, random_state=42)\n",
    "\n",
    "# r_seedsの値の範囲(0から99)\n",
    "r_seeds = [i for i in range(100)]\n",
    "\n",
    "# 正解率を格納する空リストを作成\n",
    "accuracy = []\n",
    "# random_stateを変えながらモデルを学習\n",
    "for seed in r_seeds:\n",
    "    model = RandomForestClassifier(random_state=seed)\n",
    "    model.fit(train_X, train_y)\n",
    "    accuracy.append(model.score(test_X, test_y))\n",
    "\n",
    "# グラフのプロット\n",
    "plt.plot(r_seeds, accuracy)\n",
    "plt.xlabel(\"seed\")\n",
    "plt.ylabel(\"accuracy\")\n",
    "plt.title(\"accuracy by changing seed\")\n",
    "plt.show()"
   ]
  },
  {
   "cell_type": "markdown",
   "id": "9313aef9-ccb0-4631-9b19-1b90988e0c08",
   "metadata": {},
   "source": [
    "## k-NN\n",
    "### パラメーター n_neighbors\n",
    "k近傍法（k-NN）とは、分類したい未知のデータの近くにあるデータからラベルを予測するアルゴリズム</br>\n",
    "n_neighbors の数が多すぎると、データの類似度に幅が出るため、分類範囲の狭いカテゴリーではうまく分類されない場合がある\n",
    "\n"
   ]
  },
  {
   "cell_type": "code",
   "execution_count": null,
   "id": "e6386539-0593-4c86-86cf-4b4159f836a5",
   "metadata": {},
   "outputs": [],
   "source": [
    "import matplotlib.pyplot as plt\n",
    "from sklearn.datasets import make_classification\n",
    "from sklearn.neighbors import KNeighborsClassifier\n",
    "from sklearn.model_selection import train_test_split\n",
    "\n",
    "# データの生成\n",
    "X, y = make_classification(\n",
    "    n_samples=1000, n_features=4, n_informative=3, n_redundant=0, random_state=42)\n",
    "train_X, test_X, train_y, test_y = train_test_split(X, y, random_state=42)\n",
    "\n",
    "# n_neighborsの値の範囲(1から10)\n",
    "k_list = [i for i in range(1, 11)]\n",
    "\n",
    "# 正解率を格納する空リストを作成\n",
    "accuracy = []\n",
    "# n_neighborsを変えながらモデルを学習\n",
    "for k in k_list:\n",
    "    model = KNeighborsClassifier(n_neighbors=k)\n",
    "    model.fit(train_X, train_y)\n",
    "    accuracy.append(model.score(test_X, test_y))\n",
    "\n",
    "# グラフのプロット\n",
    "plt.plot(k_list, accuracy)\n",
    "plt.xlabel(\"n_neighbor\")\n",
    "plt.ylabel(\"accuracy\")\n",
    "plt.title(\"accuracy by changing n_neighbor\")\n",
    "plt.show()"
   ]
  },
  {
   "cell_type": "markdown",
   "id": "23a76b98-3f81-4969-897d-8811f5fe1010",
   "metadata": {},
   "source": [
    "# チューニングの自動化\n",
    "主要な手法の中で、よく使われるパラメーターを紹介したが、</br>\n",
    "これら全てのパラメーターを都度変えて、結果を確認するのは時間と手間がかかる\n",
    "\n",
    "そこで、パラメーターの範囲を指定して、精度の良いパラメーターセットを計算機に見つけてもらうという方法を使う\n",
    "\n",
    "## グリッドサーチ\n",
    "- 調整したいハイパーパラメーターの値の候補を、明示的に複数指定してパラメーターセットを作成\n",
    "- モデルの評価を繰り返すことにより、最適なパラメーターセットが作成"
   ]
  },
  {
   "cell_type": "code",
   "execution_count": 59,
   "id": "3aedb005-5a59-4ff4-bf4c-b4483aaa54bb",
   "metadata": {},
   "outputs": [
    {
     "name": "stdout",
     "output_type": "stream",
     "text": [
      "パラメーター:{'C': 10, 'decision_function_shape': 'ovr', 'kernel': 'rbf', 'random_state': 42}\n",
      "ベストスコア: 0.9888888888888889\n",
      "\n",
      "調整なし\n",
      "0.9866666666666667\n"
     ]
    }
   ],
   "source": [
    "import scipy.stats\n",
    "from sklearn.datasets import load_digits\n",
    "from sklearn.svm import SVC\n",
    "from sklearn.model_selection import GridSearchCV\n",
    "from sklearn.model_selection import train_test_split\n",
    "from sklearn.metrics import accuracy_score\n",
    "\n",
    "data = load_digits()\n",
    "train_X, test_X, train_y, test_y = train_test_split(data.data, data.target, random_state=42)\n",
    "\n",
    "# パラメーターの値の候補を設定\n",
    "model_param_set_grid = {SVC(): {\"kernel\": [\"linear\", \"poly\", \"rbf\", \"sigmoid\"],\n",
    "                                \"C\": [10 ** i for i in range(-5, 5)],\n",
    "                                \"decision_function_shape\": [\"ovr\", \"ovo\"],\n",
    "                                \"random_state\": [42]}}\n",
    "              \n",
    "max_score = 0\n",
    "best_param = None\n",
    "\n",
    "# グリッドサーチでパラメーターを探索\n",
    "for model, param in model_param_set_grid.items():\n",
    "    clf = GridSearchCV(model, param)\n",
    "    clf.fit(train_X, train_y)\n",
    "    pred_y = clf.predict(test_X)\n",
    "    score = accuracy_score(test_y, pred_y)\n",
    "    if max_score < score:\n",
    "        max_score = score\n",
    "        best_param = clf.best_params_\n",
    "                        \n",
    "print(\"パラメーター:{}\".format(best_param))\n",
    "print(\"ベストスコア:\",max_score)\n",
    "svm = SVC()\n",
    "svm.fit(train_X, train_y)\n",
    "print()\n",
    "print('調整なし')\n",
    "print(svm.score(test_X, test_y))\n"
   ]
  },
  {
   "cell_type": "markdown",
   "id": "804cf0c7-857c-4e7f-970b-28fc762949f6",
   "metadata": {},
   "source": [
    "## ランダムサーチ\n",
    "ランダムサーチはパラメーターが取りうる値の範囲を指定し、</br>\n",
    "確率で決定されたパラメーターセットを用いてモデルの評価を行うことを繰り返し、</br>\n",
    "最適なパラメーターセットを探す方法</br>\n",
    "\n",
    "- 値の候補を明示的に指定するため、パラメーターの値に文字列や整数、True or Falseといった数学的に連続ではない値をとるパラメーターの探索に向いている\n",
    "- パラメーターの候補を網羅するようにパラメーターセットが作成されるため、多数のパラメーターを同時にチューニングするのは不向き\n"
   ]
  },
  {
   "cell_type": "code",
   "execution_count": 60,
   "id": "300fd2c2-8178-43f4-995f-61a607c92075",
   "metadata": {},
   "outputs": [
    {
     "name": "stdout",
     "output_type": "stream",
     "text": [
      "パラメーター:{'C': 132.08173719499345, 'decision_function_shape': 'ovr', 'kernel': 'rbf', 'random_state': 42}\n",
      "ベストスコア: 0.9888888888888889\n",
      "\n",
      "調整なし\n",
      "0.9866666666666667\n"
     ]
    }
   ],
   "source": [
    "import scipy.stats\n",
    "from sklearn.datasets import load_digits\n",
    "from sklearn.svm import SVC\n",
    "from sklearn.model_selection import RandomizedSearchCV\n",
    "from sklearn.model_selection import train_test_split\n",
    "from sklearn.metrics import accuracy_score\n",
    "\n",
    "data = load_digits()\n",
    "train_X, test_X, train_y, test_y = train_test_split(data.data, data.target, random_state=42)\n",
    "\n",
    "# パラメーターの値の候補を設定\n",
    "model_param_set_random =  {SVC(): {\n",
    "        \"kernel\": [\"linear\", \"poly\", \"rbf\", \"sigmoid\"],\n",
    "        \"C\": scipy.stats.uniform(0.00001, 1000),\n",
    "        \"decision_function_shape\": [\"ovr\", \"ovo\"],\n",
    "        \"random_state\": [42]}}\n",
    "\n",
    "max_score = 0\n",
    "best_param = None\n",
    "\n",
    "# ランダムサーチでパラメーターを探索\n",
    "for model, param in model_param_set_random.items():\n",
    "    clf = RandomizedSearchCV(model, param)\n",
    "    clf.fit(train_X, train_y)\n",
    "    pred_y = clf.predict(test_X)\n",
    "    score = accuracy_score(test_y, pred_y)\n",
    "    if max_score < score:\n",
    "        max_score = score\n",
    "        best_param = clf.best_params_\n",
    "        \n",
    "print(\"パラメーター:{}\".format(best_param))\n",
    "print(\"ベストスコア:\",max_score)\n",
    "svm = SVC()\n",
    "svm.fit(train_X, train_y)\n",
    "print()\n",
    "print('調整なし')\n",
    "print(svm.score(test_X, test_y))\n"
   ]
  },
  {
   "cell_type": "code",
   "execution_count": null,
   "id": "553ca53d-423b-497f-b21a-82d1174cc8b0",
   "metadata": {},
   "outputs": [],
   "source": []
  }
 ],
 "metadata": {
  "kernelspec": {
   "display_name": "Python 3 (ipykernel)",
   "language": "python",
   "name": "python3"
  },
  "language_info": {
   "codemirror_mode": {
    "name": "ipython",
    "version": 3
   },
   "file_extension": ".py",
   "mimetype": "text/x-python",
   "name": "python",
   "nbconvert_exporter": "python",
   "pygments_lexer": "ipython3",
   "version": "3.9.9"
  }
 },
 "nbformat": 4,
 "nbformat_minor": 5
}
