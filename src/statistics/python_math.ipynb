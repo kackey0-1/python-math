{
 "cells": [
  {
   "cell_type": "markdown",
   "metadata": {},
   "source": [
    "# Normal Distribution"
   ]
  },
  {
   "cell_type": "code",
   "execution_count": 6,
   "metadata": {},
   "outputs": [
    {
     "ename": "ModuleNotFoundError",
     "evalue": "No module named 'matplotlib'",
     "output_type": "error",
     "traceback": [
      "\u001b[0;31m---------------------------------------------------------------------------\u001b[0m",
      "\u001b[0;31mModuleNotFoundError\u001b[0m                       Traceback (most recent call last)",
      "\u001b[0;32m/var/folders/ht/jxpc68cx6flfn8khw5l066lm0000gn/T/ipykernel_61055/3916273209.py\u001b[0m in \u001b[0;36m<module>\u001b[0;34m\u001b[0m\n\u001b[1;32m      1\u001b[0m \u001b[0;32mimport\u001b[0m \u001b[0mnumpy\u001b[0m \u001b[0;32mas\u001b[0m \u001b[0mnp\u001b[0m\u001b[0;34m\u001b[0m\u001b[0;34m\u001b[0m\u001b[0m\n\u001b[0;32m----> 2\u001b[0;31m \u001b[0;32mimport\u001b[0m \u001b[0mmatplotlib\u001b[0m\u001b[0;34m.\u001b[0m\u001b[0mpyplot\u001b[0m \u001b[0;32mas\u001b[0m \u001b[0mplt\u001b[0m\u001b[0;34m\u001b[0m\u001b[0;34m\u001b[0m\u001b[0m\n\u001b[0m\u001b[1;32m      3\u001b[0m \u001b[0;34m\u001b[0m\u001b[0m\n\u001b[1;32m      4\u001b[0m \u001b[0;31m# シードの値を0に設定してください\u001b[0m\u001b[0;34m\u001b[0m\u001b[0;34m\u001b[0m\u001b[0m\n\u001b[1;32m      5\u001b[0m \u001b[0mnp\u001b[0m\u001b[0;34m.\u001b[0m\u001b[0mrandom\u001b[0m\u001b[0;34m.\u001b[0m\u001b[0mseed\u001b[0m\u001b[0;34m(\u001b[0m\u001b[0;36m0\u001b[0m\u001b[0;34m)\u001b[0m\u001b[0;34m\u001b[0m\u001b[0;34m\u001b[0m\u001b[0m\n",
      "\u001b[0;31mModuleNotFoundError\u001b[0m: No module named 'matplotlib'"
     ]
    }
   ],
   "source": [
    "import numpy as np\n",
    "import matplotlib.pyplot as plt\n",
    "\n",
    "# シードの値を0に設定してください\n",
    "np.random.seed(0)\n",
    "\n",
    "# 平均0・分散1の正規分布に従う乱数を、3行2列の2次元配列として6つ生成し、aに代入してください。\n",
    "# arr_1 = np.random.randn(3, 2)import numpy as np\n",
    "# 正規分布に従う乱数を10,000個生成し、変数x に代入してください\n",
    "x = np.random.randn(10000)\n",
    "\n",
    "# 可視化\n",
    "plt.hist(x, bins='auto')\n",
    "plt.show()"
   ]
  },
  {
   "cell_type": "markdown",
   "metadata": {},
   "source": [
    "# dfのインデックスが1から始まるように設定してください"
   ]
  },
  {
   "cell_type": "code",
   "execution_count": 2,
   "metadata": {
    "colab": {
     "base_uri": "https://localhost:8080/",
     "height": 450
    },
    "id": "RwHeufVxQ0Sz",
    "outputId": "5d6c42bb-98f4-41cd-9241-0b58303ce485"
   },
   "outputs": [
    {
     "name": "stdout",
     "output_type": "stream",
     "text": [
      "   apple  orange  banana  strawberry  kiwifruit\n",
      "1     10       5       8          12          3\n",
      "2     30      25      12          10          8\n"
     ]
    }
   ],
   "source": [
    "import pandas as pd\n",
    "import numpy as np\n",
    "\n",
    "index = [\"apple\", \"orange\", \"banana\", \"strawberry\", \"kiwifruit\"]\n",
    "data1 = [10, 5, 8, 12, 3]\n",
    "data2 = [30, 25, 12, 10, 8]\n",
    "\n",
    "series1 = pd.Series(data1, index=index)\n",
    "series2 = pd.Series(data2, index=index)\n",
    "df = pd.DataFrame([series1, series2])\n",
    "\n",
    "# dfのインデックスが1から始まるように設定してください\n",
    "# df.index = [1, 2, 3, 4, 5]\n",
    "# df.index \n",
    "# df.index = np.arange(1,len(df)+1)\n",
    "df.index = [1, 2]\n",
    "\n",
    "print(df)"
   ]
  },
  {
   "cell_type": "markdown",
   "metadata": {},
   "source": [
    "# 指定のインデックスとカラムを持つDataFrameを乱数によって作成する関数"
   ]
  },
  {
   "cell_type": "code",
   "execution_count": 4,
   "metadata": {
    "id": "VYIpZGJJTktj"
   },
   "outputs": [
    {
     "name": "stdout",
     "output_type": "stream",
     "text": [
      "      X                   Y              \n",
      "  apple orange banana apple orange banana\n",
      "1    45     68     37    38     76     17\n",
      "2    48     10     88    13      6      2\n",
      "3    65     84     71    73     80     77\n",
      "4    68     22     89    10     65     72\n",
      "\n",
      "1    17\n",
      "2     2\n",
      "3    77\n",
      "4    72\n",
      "Name: (Y, banana), dtype: int64\n"
     ]
    }
   ],
   "source": [
    "import numpy as np\n",
    "import pandas as pd\n",
    "\n",
    "# 指定のインデックスとカラムを持つDataFrameを乱数によって作成する関数\n",
    "def make_random_df(index, columns, seed):\n",
    "    np.random.seed(seed)\n",
    "    df = pd.DataFrame()\n",
    "    for column in columns:\n",
    "        df[column] = np.random.choice(range(1, 101), len(index))\n",
    "    df.index = index\n",
    "    return df\n",
    "\n",
    "columns = [\"apple\", \"orange\", \"banana\"]\n",
    "df_data1 = make_random_df(range(1, 5), columns, 0)\n",
    "df_data2 = make_random_df(range(1, 5), columns, 1)\n",
    "\n",
    "# df_data1とdf_data2を横方向に連結し、keysに\"X\", \"Y\"を指定してMultiIndexにしてdfに代入してください\n",
    "df = pd.concat([df_data1, df_data2], axis=1, keys=[\"X\", \"Y\"])\n",
    "\n",
    "# dfの\"Y\"ラベルの\"banana\"をY_bananaに代入してください。\n",
    "Y_banana = df[\"Y\", \"banana\"]\n",
    "\n",
    "print(df)\n",
    "print()\n",
    "print(Y_banana)"
   ]
  },
  {
   "cell_type": "markdown",
   "metadata": {},
   "source": [
    "コンピュータは「シード」を元に乱数を生成します。シードとは乱数生成の基となる初期値であり、一番最初の乱数を求めるのに使われる値です。\n",
    "シードの値を固定すると次の乱数も同じ値を生成するので常に同じ乱数列の生成が可能です。\n",
    "numpy.random.seed()に毎回同じシード値（整数）を指定することで、実行の都度同じ乱数列を生成するので、\n",
    "同条件であれば乱数を用いていても同じ計算結果を得ることが可能です。そのため、デバッグ時など再現性が必要な出力をする際に利用されます。"
   ]
  },
  {
   "cell_type": "code",
   "execution_count": 5,
   "metadata": {},
   "outputs": [
    {
     "name": "stdout",
     "output_type": "stream",
     "text": [
      "シードを設定しない場合\n",
      "X: [-1.10593508 -1.65451545 -2.3634686   1.13534535 -1.01701414]\n",
      "Y: [ 0.63736181 -0.85990661  1.77260763 -1.11036305  0.18121427]\n",
      "\n",
      "シードを設定した場合\n",
      "x: [1.76405235 0.40015721 0.97873798 2.2408932  1.86755799]\n",
      "y: [-0.97727788  0.95008842 -0.15135721 -0.10321885  0.4105985 ]\n"
     ]
    }
   ],
   "source": [
    "import numpy as np\n",
    "\n",
    "# 初期化せず適当な乱数が一致するかを確認\n",
    "# X, Y にそれぞれ5つの乱数を格納\n",
    "X = np.random.randn(5)\n",
    "Y = np.random.randn(5)\n",
    "\n",
    "# X, Y の値を出力する\n",
    "print(\"シードを設定しない場合\")\n",
    "print(\"X:\", X)\n",
    "print(\"Y:\", Y)\n",
    "print()\n",
    "\n",
    "# シードを設定\n",
    "np.random.seed(0)\n",
    "\n",
    "# 乱数列を変数x に代入\n",
    "x = np.random.randn(5)\n",
    "\n",
    "# 再び乱数列を作り別の変数y に代入\n",
    "y = np.random.randn(5)\n",
    "\n",
    "# x, y の値を出力し、一致するか確認します\n",
    "print(\"シードを設定した場合\")\n",
    "print(\"x:\", x)\n",
    "print(\"y:\", y)\n"
   ]
  },
  {
   "cell_type": "code",
   "execution_count": null,
   "metadata": {},
   "outputs": [],
   "source": []
  }
 ],
 "metadata": {
  "colab": {
   "authorship_tag": "ABX9TyM7Dap1qIafjrEIgBiJp69p",
   "collapsed_sections": [],
   "include_colab_link": true,
   "mount_file_id": "1sD_FXew6KbCTiLJiI2bjsof3gdm0hrju",
   "name": "python-math",
   "provenance": []
  },
  "kernelspec": {
   "display_name": "Python 3 (ipykernel)",
   "language": "python",
   "name": "python3"
  },
  "language_info": {
   "codemirror_mode": {
    "name": "ipython",
    "version": 3
   },
   "file_extension": ".py",
   "mimetype": "text/x-python",
   "name": "python",
   "nbconvert_exporter": "python",
   "pygments_lexer": "ipython3",
   "version": "3.9.9"
  }
 },
 "nbformat": 4,
 "nbformat_minor": 4
}
