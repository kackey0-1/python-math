{
 "cells": [
  {
   "cell_type": "code",
   "execution_count": 11,
   "metadata": {
    "collapsed": true
   },
   "outputs": [
    {
     "name": "stdout",
     "output_type": "stream",
     "text": [
      "Counter({'aa': 6, 'bb': 3, 'cc': 3})\n"
     ]
    }
   ],
   "source": [
    "from collections import Counter\n",
    "lst = [\"aa\", \"bb\", \"aa\", \"cc\"]\n",
    "count = Counter(lst)\n",
    "# print(count)\n",
    "\n",
    "lst = [[\"aa\", \"bb\", \"aa\", \"cc\"], [\"aa\", \"bb\", \"aa\", \"cc\"], [\"aa\", \"bb\", \"aa\", \"cc\"]]\n",
    "c = Counter([_ for i in range(len(lst)) for _ in lst[i]])\n",
    "print(c)"
   ]
  },
  {
   "cell_type": "code",
   "execution_count": null,
   "outputs": [],
   "source": [],
   "metadata": {
    "collapsed": false,
    "pycharm": {
     "name": "#%%\n"
    }
   }
  }
 ],
 "metadata": {
  "kernelspec": {
   "display_name": "Python 3",
   "language": "python",
   "name": "python3"
  },
  "language_info": {
   "codemirror_mode": {
    "name": "ipython",
    "version": 2
   },
   "file_extension": ".py",
   "mimetype": "text/x-python",
   "name": "python",
   "nbconvert_exporter": "python",
   "pygments_lexer": "ipython2",
   "version": "2.7.6"
  }
 },
 "nbformat": 4,
 "nbformat_minor": 0
}