{
 "cells": [
  {
   "cell_type": "code",
   "execution_count": 11,
   "metadata": {
    "collapsed": true
   },
   "outputs": [
    {
     "name": "stdout",
     "output_type": "stream",
     "text": [
      "Counter({'aa': 6, 'bb': 3, 'cc': 3})\n"
     ]
    }
   ],
   "source": [
    "from collections import Counter\n",
    "lst = [\"aa\", \"bb\", \"aa\", \"cc\"]\n",
    "count = Counter(lst)\n",
    "# print(count)\n",
    "\n",
    "lst = [[\"aa\", \"bb\", \"aa\", \"cc\"], [\"aa\", \"bb\", \"aa\", \"cc\"], [\"aa\", \"bb\", \"aa\", \"cc\"]]\n",
    "c = Counter([_ for i in range(len(lst)) for _ in lst[i]])\n",
    "print(c)"
   ]
  },
  {
   "cell_type": "markdown",
   "source": [
    "# train & test data creation"
   ],
   "metadata": {
    "collapsed": false,
    "pycharm": {
     "name": "#%% md\n"
    }
   }
  },
  {
   "cell_type": "code",
   "execution_count": 7,
   "outputs": [
    {
     "name": "stdout",
     "output_type": "stream",
     "text": [
      "{'question': 'Earth science is the study of', 'answerChoices': {'a': 'solid Earth.', 'b': 'Earths oceans.', 'c': 'Earths atmosphere.', 'd': 'all of the above'}, 'correctAnswer': 'd'}\n"
     ]
    }
   ],
   "source": [
    "import json\n",
    "\n",
    "with open(\"./tqa_train_val_test/train/tqa_v1_train.json\") as f:\n",
    "# with open(\"./tqa_train_val_test/test/tqa_v2_test.json\") as f:\n",
    "    train = json.load(f)\n",
    "\n",
    "# trainはリストで、各要素に質問と回答の候補、答えが辞書型のデータとして格納されています。\n",
    "# train[0] = {'answerChoices': {'a': 'solid Earth.',\n",
    "#  'b': 'Earths oceans.',\n",
    "#  'c': 'Earths atmosphere.',\n",
    "#  'd': 'all of the above'},\n",
    "# 'correctAnswer': 'd',\n",
    "# 'question': 'Earth science is the study of'}\n",
    "# fixed_data = train[0]\n",
    "fixed_data = []\n",
    "for t in train:\n",
    "    for key, value in t[\"questions\"][\"nonDiagramQuestions\"].items():\n",
    "        if value[\"beingAsked\"] is not None \\\n",
    "                and value[\"answerChoices\"] is not None \\\n",
    "                and value[\"correctAnswer\"] is not None \\\n",
    "                and value[\"questionType\"] == \"Multiple Choice\":\n",
    "            dic = {\n",
    "                \"question\": value[\"beingAsked\"][\"processedText\"],\n",
    "                \"answerChoices\": {\n",
    "                    \"a\": value[\"answerChoices\"].get(\"a\")[\"processedText\"] if value[\"answerChoices\"].get(\"a\") is not None else \"\",\n",
    "                    \"b\": value[\"answerChoices\"].get(\"b\")[\"processedText\"] if value[\"answerChoices\"].get(\"b\") is not None else \"\",\n",
    "                    \"c\": value[\"answerChoices\"].get(\"c\")[\"processedText\"] if value[\"answerChoices\"].get(\"c\") is not None else \"\",\n",
    "                    \"d\": value[\"answerChoices\"].get(\"d\")[\"processedText\"] if value[\"answerChoices\"].get(\"d\") is not None else \"\",\n",
    "                },\n",
    "                \"correctAnswer\": value[\"correctAnswer\"][\"processedText\"],\n",
    "            }\n",
    "            fixed_data.append(dic)\n",
    "print(fixed_data[0])\n",
    "\n",
    "with open(\"./tqa_train_val_test/train.json\", \"w\") as j:\n",
    "# with open(\"./tqa_train_val_test/val.json\", \"w\") as j:\n",
    "    j.write(json.dumps(fixed_data))\n"
   ],
   "metadata": {
    "collapsed": false,
    "pycharm": {
     "name": "#%%\n"
    }
   }
  },
  {
   "cell_type": "markdown",
   "source": [
    "# 単語辞書の作成"
   ],
   "metadata": {
    "collapsed": false,
    "pycharm": {
     "name": "#%% md\n"
    }
   }
  },
  {
   "cell_type": "code",
   "execution_count": null,
   "outputs": [],
   "source": [
    "import json\n",
    "import re\n",
    "from collections import Counter\n",
    "import itertools\n",
    "\n",
    "with open(\"./tqa_train_val_test/train.json\") as f:\n",
    "    j = json.load(f)\n",
    "\n",
    "wakatiO = []\n",
    "for row in j:\n",
    "    for key, value in row.items():\n",
    "        # keys: question, choices, correctAnswer\n",
    "        if key == \"question\" or key == \"correctAnswer\":\n",
    "            wakatiO.append(value.lower().split())\n",
    "        else:\n",
    "            for k, v in value.items():\n",
    "                # print(v)\n",
    "                re.sub(\"[_.,]+\", \"\", v)\n",
    "                wakatiO.append(v.lower().split())\n",
    "\n",
    "# 単語の出現数をカウントしてください\n",
    "# word_freq = Counter([_ for i in range(len(wakatiO)) for _ in wakatiO[i]])\n",
    "word_freq = Counter(itertools.chain(*wakatiO))\n",
    "\n",
    "# 単語を出現数順に並べ替え、dicに追加してください\n",
    "dic = []\n",
    "for word_uniq in word_freq.most_common():\n",
    "    dic.append(word_uniq[0])\n",
    "\n",
    "# 単語にIDを付与し辞書を作成\n",
    "# enumerate(dic) は、for文を使用して`dic`からインデックスを`i`、要素を`word_uniq`に取得\n",
    "dic_inv = {}\n",
    "for i, word_uniq in enumerate(dic, start=1):\n",
    "    dic_inv.update({word_uniq: i})\n",
    "\n",
    "# 辞書の表示\n",
    "print(dic_inv)\n",
    "with open(\"./tqa_train_val_test/word2id.json\", \"w\") as j:\n",
    "    j.write(json.dumps(dic_inv))"
   ],
   "metadata": {
    "collapsed": false,
    "pycharm": {
     "name": "#%%\n",
     "is_executing": true
    }
   }
  },
  {
   "cell_type": "code",
   "execution_count": null,
   "outputs": [],
   "source": [],
   "metadata": {
    "collapsed": false,
    "pycharm": {
     "name": "#%%\n",
     "is_executing": true
    }
   }
  },
  {
   "cell_type": "code",
   "execution_count": null,
   "outputs": [],
   "source": [],
   "metadata": {
    "collapsed": false,
    "pycharm": {
     "name": "#%%\n"
    }
   }
  }
 ],
 "metadata": {
  "kernelspec": {
   "display_name": "Python 3",
   "language": "python",
   "name": "python3"
  },
  "language_info": {
   "codemirror_mode": {
    "name": "ipython",
    "version": 2
   },
   "file_extension": ".py",
   "mimetype": "text/x-python",
   "name": "python",
   "nbconvert_exporter": "python",
   "pygments_lexer": "ipython2",
   "version": "2.7.6"
  }
 },
 "nbformat": 4,
 "nbformat_minor": 0
}