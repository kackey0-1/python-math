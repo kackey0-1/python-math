{
 "cells": [
  {
   "cell_type": "markdown",
   "id": "a50c778d-0bbf-4ec9-b289-fd9d1eff83ab",
   "metadata": {},
   "source": [
    "# 教師あり学習(回帰)"
   ]
  },
  {
   "cell_type": "markdown",
   "id": "d86821ed-fe1b-4e9b-aba6-7fa6ffd16aef",
   "metadata": {},
   "source": [
    "## 線形回帰とは?\n",
    "\n",
    "回帰分析とは、予測したいデータに対し、すでにわかっているデータの関係性を元に推定するアプローチ</br>\n",
    "\n",
    "### サンプル\n",
    "例えば毎分一定量の水が溜まるタンクがある</br>\n",
    "2分後には8L、4分後には16L溜まる</br>\n",
    "5分後にはどれくらいタンクに水量が溜まっているか</br>\n",
    "\n",
    "V=4t (V:水の量(L)、t:時間(分))\n",
    "\n",
    "- 予測したい数値：5分後に溜まっている水量\n",
    "- すでに分かっているデータ：2分後には8L、4分後には16L溜まる\n",
    "\n",
    "回帰ではすでに分かっているデータの関係性(V = 4 tV=4t)を元に、予測したいデータ（5分後に溜まっている水量）を推定\n",
    "\n",
    "## scikit-learnを使って線形回帰"
   ]
  },
  {
   "cell_type": "code",
   "execution_count": 9,
   "id": "88c32ea6-6ffb-4a8b-9509-66911051af5e",
   "metadata": {},
   "outputs": [
    {
     "name": "stdout",
     "output_type": "stream",
     "text": [
      "[28.83885359 36.00783288 15.08324755 25.23090886 18.87864064 23.21398327\n",
      " 17.5931124  14.30508093 23.05438985 20.62008346 24.78514683 18.66833668\n",
      " -6.9788951  21.83575737 19.20898992 26.2868054  20.54379176  5.65713224\n",
      " 40.42358065 17.64146116 27.32258958 30.05056174 11.15013704 24.11530393\n",
      " 17.89145648 15.79348591 22.94743453 14.2586068  22.26731194 19.24709013\n",
      " 22.26897546 25.24344002 25.69165643 17.98759507 16.70286649 17.11631225\n",
      " 31.19643534 20.17835831 23.71828436 24.79196868 13.94575895 32.00389982\n",
      " 42.53869791 17.44523722 27.15354457 17.07482215 13.89272021 26.06440323\n",
      " 20.36888769 29.97813037 21.35346608 34.32287916 15.88498671 26.17757739\n",
      " 39.50970314 22.84123308 18.95049088 32.68913818 25.02057949 12.90539147\n",
      " 22.76052302 30.53884316 31.60797905 15.92162168 20.50670563 16.50798147\n",
      " 20.50202198 26.00723901 30.63860954 11.42877835 20.53765181 27.56249175\n",
      " 10.85162601 15.96871769 23.87570192  5.66369672 21.47818991 41.2820034\n",
      " 18.56559986  9.08857252 20.97848452 13.0630057  20.99054395  9.34050291\n",
      " 23.13686588 31.80106627 19.10245917 25.59186169 29.14490119 20.17571514\n",
      " 25.5962149   5.20301905 20.16835681 15.08546746 12.8601543  20.80904894\n",
      " 24.68556943 -0.77450939 13.33875673 15.62703156 22.21755358 24.58188737\n",
      " 10.77302163 19.50068376 23.23450396 11.77388822 18.36777924 25.4383785\n",
      " 20.89079232 24.08440617  7.3658717  19.16424347 21.93734133 27.41191713\n",
      " 32.50857196 14.86885244 35.05912525 12.86075113 20.83043572 28.42077138\n",
      " 15.65853688 24.67196362  3.28420892 23.79879617 25.73329894 23.04815612\n",
      " 24.73046824]\n"
     ]
    },
    {
     "name": "stderr",
     "output_type": "stream",
     "text": [
      "/Users/k-kakimoto/dev/python-math/.ven/lib/python3.9/site-packages/sklearn/utils/deprecation.py:87: FutureWarning: Function load_boston is deprecated; `load_boston` is deprecated in 1.0 and will be removed in 1.2.\n",
      "\n",
      "    The Boston housing prices dataset has an ethical problem. You can refer to\n",
      "    the documentation of this function for further details.\n",
      "\n",
      "    The scikit-learn maintainers therefore strongly discourage the use of this\n",
      "    dataset unless the purpose of the code is to study and educate about\n",
      "    ethical issues in data science and machine learning.\n",
      "\n",
      "    In this special case, you can fetch the dataset from the original\n",
      "    source::\n",
      "\n",
      "        import pandas as pd\n",
      "        import numpy as np\n",
      "\n",
      "\n",
      "        data_url = \"http://lib.stat.cmu.edu/datasets/boston\"\n",
      "        raw_df = pd.read_csv(data_url, sep=\"\\s+\", skiprows=22, header=None)\n",
      "        data = np.hstack([raw_df.values[::2, :], raw_df.values[1::2, :2]])\n",
      "        target = raw_df.values[1::2, 2]\n",
      "\n",
      "    Alternative datasets include the California housing dataset (i.e.\n",
      "    :func:`~sklearn.datasets.fetch_california_housing`) and the Ames housing\n",
      "    dataset. You can load the datasets as follows::\n",
      "\n",
      "        from sklearn.datasets import fetch_california_housing\n",
      "        housing = fetch_california_housing()\n",
      "\n",
      "    for the California housing dataset and::\n",
      "\n",
      "        from sklearn.datasets import fetch_openml\n",
      "        housing = fetch_openml(name=\"house_prices\", as_frame=True)\n",
      "\n",
      "    for the Ames housing dataset.\n",
      "    \n",
      "  warnings.warn(msg, category=FutureWarning)\n"
     ]
    }
   ],
   "source": [
    "# scikit-learnのLinearRegressionというモデルをインポートします。詳細は1.2で説明します\n",
    "from sklearn.linear_model import LinearRegression\n",
    "from sklearn.metrics import accuracy_score\n",
    "# scikit-learnに標準で搭載されている、ボストン市の住宅価格のデータセットをインポートします\n",
    "from sklearn.datasets import load_boston\n",
    "\n",
    "# scikit-learnに搭載されているデータセットを学習用と予測結果照合用に分けるツールをインポートします\n",
    "from sklearn.model_selection import train_test_split\n",
    "\n",
    "\n",
    "# データの読み込みです\n",
    "data = load_boston()\n",
    "\n",
    "# データを教師用とテスト用に分けます\n",
    "train_X, test_X, train_y, test_y = train_test_split(\n",
    "    data.data, data.target, random_state=42)\n",
    "\n",
    "# 学習器の構築です\n",
    "model = LinearRegression()\n",
    "\n",
    "# 以下にコードを追加して、教師データを用いて学習器に学習\n",
    "model.fit(train_X, train_y)\n",
    "# 以下にコードを追加して、テスト用データを用いて学習結果をpred_yに格納\n",
    "pred_y = model.predict(test_X)\n",
    "\n",
    "# 予測結果を出力\n",
    "print(pred_y)\n",
    "# print(\"正解率: %.2f}\"%accuracy_score(test_y, pred_y))"
   ]
  },
  {
   "cell_type": "code",
   "execution_count": null,
   "id": "30635daf-d920-4297-9639-f49692c802b9",
   "metadata": {},
   "outputs": [],
   "source": []
  },
  {
   "cell_type": "code",
   "execution_count": null,
   "id": "37f39564-59d3-45d2-bc05-8c586bb3e2ea",
   "metadata": {},
   "outputs": [],
   "source": []
  },
  {
   "cell_type": "code",
   "execution_count": null,
   "id": "36e49979-e9bd-4b31-8eaf-90495b189863",
   "metadata": {},
   "outputs": [],
   "source": []
  },
  {
   "cell_type": "code",
   "execution_count": null,
   "id": "7ea1ba05-5e9a-4aaa-bab0-7b4cae7f6130",
   "metadata": {},
   "outputs": [],
   "source": []
  }
 ],
 "metadata": {
  "kernelspec": {
   "display_name": "Python 3 (ipykernel)",
   "language": "python",
   "name": "python3"
  },
  "language_info": {
   "codemirror_mode": {
    "name": "ipython",
    "version": 3
   },
   "file_extension": ".py",
   "mimetype": "text/x-python",
   "name": "python",
   "nbconvert_exporter": "python",
   "pygments_lexer": "ipython3",
   "version": "3.9.9"
  }
 },
 "nbformat": 4,
 "nbformat_minor": 5
}
