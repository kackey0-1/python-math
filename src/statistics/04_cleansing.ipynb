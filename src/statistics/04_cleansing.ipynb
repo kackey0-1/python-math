{
 "cells": [
  {
   "cell_type": "markdown",
   "id": "2e4aeccc-3471-432e-9c8d-f8d2414baa0c",
   "metadata": {},
   "source": [
    "## Lambda"
   ]
  },
  {
   "cell_type": "code",
   "execution_count": 2,
   "id": "97bb7a57-2ec9-4016-b8e3-ad74614fcd67",
   "metadata": {},
   "outputs": [
    {
     "name": "stdout",
     "output_type": "stream",
     "text": [
      "21\n",
      "21\n",
      "32\n",
      "32\n",
      "-1\n",
      "50\n"
     ]
    }
   ],
   "source": [
    "# 代入する引数a\n",
    "a = 4\n",
    "# defを用いてfunc1を作成して下さい\n",
    "def func1(a):\n",
    "    return 2*a**2-3*a+1\n",
    "# lambdaを用いてfunc2を作成して下さい\n",
    "func2 = lambda a: 2*a**2-3*a+1\n",
    "# 返り値の出力\n",
    "print(func1(a))\n",
    "print(func2(a))\n",
    "\n",
    "# 代入する引数x, y, z\n",
    "x = 5\n",
    "y = 6\n",
    "z = 2\n",
    "\n",
    "# defを用いてfunc3を作成して下さい\n",
    "def func3(x, y, z):\n",
    "    return x*y+z\n",
    "# lambdaを用いてfunc4を作成して下さい\n",
    "func4 = lambda x,y,z:x*y+z\n",
    "# 出力\n",
    "print(func3(x, y, z))\n",
    "print(func4(x, y, z))\n",
    "\n",
    "# 代入する引数a1, a2\n",
    "a1 = 13\n",
    "a2 = 32\n",
    "\n",
    "# lambdaを用いてfunc5を作成して下さい\n",
    "func5 = lambda a:a**2-40*a+350 if a>=10 and a<30 else 50\n",
    "\n",
    "# 返り値の出力\n",
    "print(func5(a1))\n",
    "print(func5(a2))"
   ]
  },
  {
   "cell_type": "code",
   "execution_count": 3,
   "id": "4d16116c-219f-474c-8cae-46387ea42aaa",
   "metadata": {},
   "outputs": [
    {
     "name": "stdout",
     "output_type": "stream",
     "text": [
      "[2, 23, 14, 7, 22]\n"
     ]
    }
   ],
   "source": [
    "import re\n",
    "# 配列time_list\n",
    "time_list = [\n",
    "    \"2006/11/26_2:40\",\n",
    "    \"2009/1/16_23:35\",\n",
    "    \"2014/5/4_14:26\",\n",
    "    \"2017/8/9_7:5\",\n",
    "    \"2017/4/1_22:15\"\n",
    "]\n",
    "# 文字列から\"時\"を取り出す関数を作成して下さい\n",
    "get_hour = lambda word:int(re.split(\"[/ _ :]\", word)[3])\n",
    "\n",
    "# 上で作った関数を用いて各要素の\"時\"を取り出し、配列にして下さい\n",
    "hour_list = list(map(get_hour, time_list))\n",
    "\n",
    "# 配列を出力して下さい\n",
    "print(hour_list)"
   ]
  },
  {
   "cell_type": "code",
   "execution_count": 4,
   "id": "329e54cb-178b-4fd8-a05c-6bca13be9f9a",
   "metadata": {},
   "outputs": [
    {
     "name": "stdout",
     "output_type": "stream",
     "text": [
      "['2009/1/16_23:35', '2014/5/4_14:26', '2017/4/1_22:15']\n"
     ]
    }
   ],
   "source": [
    "import re\n",
    "# time_list...\"年/月/日_時:分\"\n",
    "time_list = [\n",
    "    \"2006/11/26_2:40\",\n",
    "    \"2009/1/16_23:35\",\n",
    "    \"2014/5/4_14:26\",\n",
    "    \"2017/8/9_7:5\",\n",
    "    \"2017/4/1_22:15\"\n",
    "]\n",
    "# 文字列の\"月\"が条件を満たすときにTrueを返す関数を作成して下さい\n",
    "get_month = lambda time:int(re.split(\"[/ _ :]\", time)[1])<7\n",
    "\n",
    "# 上で作った関数を用いて条件を満たす要素を抜き出し、配列にして下さい\n",
    "month_list = list(filter(get_month, time_list))\n",
    "\n",
    "# 配列を出力して下さい\n",
    "print(month_list)"
   ]
  },
  {
   "cell_type": "code",
   "execution_count": 5,
   "id": "a52d6230-54cc-4a5b-bb7e-dcb758cb88da",
   "metadata": {},
   "outputs": [
    {
     "name": "stdout",
     "output_type": "stream",
     "text": [
      "[[2006, 11, 26, 2, 40], [2017, 8, 9, 7, 5], [2014, 5, 4, 14, 26], [2017, 4, 1, 22, 15], [2009, 1, 16, 23, 35]]\n"
     ]
    }
   ],
   "source": [
    "# time_data...[年, 月, 日, 時, 分]\n",
    "time_data = [\n",
    "    [2006, 11, 26,  2, 40],\n",
    "    [2009,  1, 16, 23, 35],\n",
    "    [2014,  5,  4, 14, 26],\n",
    "    [2017,  8,  9,  7,  5],\n",
    "    [2017,  4,  1, 22, 15]\n",
    "]\n",
    "# \"時\"をキーとしてソートし、配列にして下さい\n",
    "# sorted(ソートしたい配列, key=キーとなる関数, reverse=True または False)\n",
    "sorted_list = sorted(time_data, key=lambda x:x[3])\n",
    "\n",
    "# ソートした配列を出力して下さい\n",
    "print(sorted_list)"
   ]
  },
  {
   "cell_type": "code",
   "execution_count": 6,
   "id": "12c7cc0f-69dd-4b91-b959-a9c530946659",
   "metadata": {},
   "outputs": [
    {
     "name": "stdout",
     "output_type": "stream",
     "text": [
      "[[0, 30], [2, 35], [3, 0], [1, 14], [0, 11], [1, 0], [1, 22]]\n"
     ]
    }
   ],
   "source": [
    "# minute_data...単位は分\n",
    "minute_data = [30, 155, 180, 74, 11, 60, 82]\n",
    "\n",
    "# 計測時間(分)を[時, 分]に換算する関数を作成して下さい\n",
    "get_time = lambda m:[m//60, m%60]\n",
    "\n",
    "# リスト内包表記を用いて所定の配列を作成して下さい\n",
    "# time_list = list(map(get_time, minute_data))\n",
    "time_list = [get_time(_) for _ in minute_data]\n",
    "\n",
    "# 出力して下さい\n",
    "print(time_list)"
   ]
  },
  {
   "cell_type": "code",
   "execution_count": 7,
   "id": "52d308d8-6b59-463a-8e72-461105baf6b9",
   "metadata": {},
   "outputs": [
    {
     "name": "stdout",
     "output_type": "stream",
     "text": [
      "[180, 60]\n"
     ]
    }
   ],
   "source": [
    "# minute_data...単位は分\n",
    "minute_data = [30, 155, 180, 74, 11, 60, 82]\n",
    "\n",
    "# リスト内包表記を用いて所定の配列を作成して下さい\n",
    "time_list = [_ for _ in minute_data if _%60==0]\n",
    "\n",
    "# 出力して下さい\n",
    "print(time_list)"
   ]
  },
  {
   "cell_type": "code",
   "execution_count": 8,
   "id": "e30ce610-9b12-46d9-bc58-f3be0a656d1c",
   "metadata": {},
   "outputs": [
    {
     "name": "stdout",
     "output_type": "stream",
     "text": [
      "[30, 155, 180, 74, 11, 60, 82]\n"
     ]
    }
   ],
   "source": [
    "# 時間データhour, 分データminute\n",
    "hour = [0, 2, 3, 1, 0, 1, 1]\n",
    "minute = [30, 35, 0, 14, 11, 0, 22]\n",
    "\n",
    "# 時, 分を引数に、分に換算する関数を作成して下さい\n",
    "def get_minutes(hour, minutes):\n",
    "    return hour*60+minutes\n",
    "\n",
    "# リスト内包表記を用いて所定の配列を作成してください\n",
    "minutes_list = [get_minutes(h, m) for h, m in zip(hour, minute)]\n",
    "\n",
    "# 出力して下さい\n",
    "print(minutes_list)"
   ]
  },
  {
   "cell_type": "markdown",
   "id": "4d19b1c6-bba9-4c88-8c0f-3f43b4f8d2a4",
   "metadata": {},
   "source": [
    "## Collections"
   ]
  },
  {
   "cell_type": "code",
   "execution_count": 9,
   "id": "892f523e-400b-49dd-bf3e-9fbb7688a04c",
   "metadata": {},
   "outputs": [
    {
     "name": "stdout",
     "output_type": "stream",
     "text": [
      "[(' ', 20), ('e', 18), ('i', 17), ('n', 14), ('l', 12), ('a', 11), ('t', 10), ('c', 7), ('h', 7), ('r', 6)]\n"
     ]
    }
   ],
   "source": [
    "from collections import defaultdict\n",
    "\n",
    "# 文字列 description\n",
    "description = \\\n",
    "\"Artificial intelligence (AI, also machine intelligence, MI) is \" + \\\n",
    "\"intelligence exhibited by machines, rather than \" + \\\n",
    "\"humans or other animals (natural intelligence, NI).\"\n",
    "\n",
    "# defaultdict を定義して下さい\n",
    "char_freq = defaultdict(int)\n",
    "\n",
    "# 文字の出現回数を記録して下さい\n",
    "for i in description:\n",
    "    char_freq[i] += 1\n",
    "    \n",
    "# value の降順にソートし、上位10要素を出力して下さい\n",
    "print(sorted(char_freq.items(), key=lambda x:x[1], reverse=True)[0:10])"
   ]
  },
  {
   "cell_type": "code",
   "execution_count": 10,
   "id": "777bcea7-ac61-4df6-8c81-753718053495",
   "metadata": {},
   "outputs": [
    {
     "name": "stdout",
     "output_type": "stream",
     "text": [
      "[60.0, 120.0, 750.0, 150.0]\n"
     ]
    }
   ],
   "source": [
    "from collections import defaultdict\n",
    "\n",
    "# まとめたいデータ price...(名前, 値段)\n",
    "price = [\n",
    "    (\"apple\", 50),\n",
    "    (\"banana\", 120),\n",
    "    (\"grape\", 500),\n",
    "    (\"apple\", 70),\n",
    "    (\"lemon\", 150),\n",
    "    (\"grape\", 1000)\n",
    "]\n",
    "# defaultdict を定義して下さい\n",
    "d = defaultdict(list)\n",
    "\n",
    "# 説明文の例と同様にvalue の要素に値段を追加して下さい\n",
    "for key, value in price:\n",
    "    d[key].append(value)\n",
    "\n",
    "# 各value の平均値を計算し、配列にして出力して下さい\n",
    "avg = lambda x:sum(x)/len(x)\n",
    "print(list(map(avg, d.values())))\n"
   ]
  },
  {
   "cell_type": "code",
   "execution_count": 11,
   "id": "bb5bc15b-fbeb-4c55-8ea7-6695e64671ce",
   "metadata": {},
   "outputs": [
    {
     "name": "stdout",
     "output_type": "stream",
     "text": [
      "[(' ', 20), ('e', 18), ('i', 17), ('n', 14), ('l', 12), ('a', 11), ('t', 10), ('c', 7), ('h', 7), ('r', 6)]\n"
     ]
    }
   ],
   "source": [
    "from collections import Counter\n",
    "\n",
    "# 文字列 description\n",
    "description = \\\n",
    "\"Artificial intelligence (AI, also machine intelligence, MI) is \" + \\\n",
    "\"intelligence exhibited by machines, rather than \" + \\\n",
    "\"humans or other animals (natural intelligence, NI).\"\n",
    "\n",
    "# Counterを定義して下さい\n",
    "d = Counter(description)\n",
    "\n",
    "# ソートし、上位10要素を出力して下さい\n",
    "print(sorted(d.items(), key=lambda x:x[1], reverse=True)[0:10])"
   ]
  },
  {
   "cell_type": "markdown",
   "id": "fbdf897a-892d-4c3d-bffc-05b4f4535b4d",
   "metadata": {},
   "source": [
    "## Pandas"
   ]
  },
  {
   "cell_type": "code",
   "execution_count": 18,
   "id": "aad54289-4584-46cf-a62c-eaa5f87f91f1",
   "metadata": {},
   "outputs": [
    {
     "data": {
      "text/html": [
       "<div>\n",
       "<style scoped>\n",
       "    .dataframe tbody tr th:only-of-type {\n",
       "        vertical-align: middle;\n",
       "    }\n",
       "\n",
       "    .dataframe tbody tr th {\n",
       "        vertical-align: top;\n",
       "    }\n",
       "\n",
       "    .dataframe thead th {\n",
       "        text-align: right;\n",
       "    }\n",
       "</style>\n",
       "<table border=\"1\" class=\"dataframe\">\n",
       "  <thead>\n",
       "    <tr style=\"text-align: right;\">\n",
       "      <th></th>\n",
       "      <th>year</th>\n",
       "      <th>city</th>\n",
       "      <th>population</th>\n",
       "    </tr>\n",
       "  </thead>\n",
       "  <tbody>\n",
       "    <tr>\n",
       "      <th>0</th>\n",
       "      <td>2021</td>\n",
       "      <td>Tokyo</td>\n",
       "      <td>2222222</td>\n",
       "    </tr>\n",
       "    <tr>\n",
       "      <th>1</th>\n",
       "      <td>2021</td>\n",
       "      <td>Ohsaka</td>\n",
       "      <td>2222222</td>\n",
       "    </tr>\n",
       "    <tr>\n",
       "      <th>2</th>\n",
       "      <td>2021</td>\n",
       "      <td>Hokaido</td>\n",
       "      <td>2222222</td>\n",
       "    </tr>\n",
       "    <tr>\n",
       "      <th>3</th>\n",
       "      <td>2021</td>\n",
       "      <td>Fukuoka</td>\n",
       "      <td>2222222</td>\n",
       "    </tr>\n",
       "    <tr>\n",
       "      <th>4</th>\n",
       "      <td>2021</td>\n",
       "      <td>Nagano</td>\n",
       "      <td>2222222</td>\n",
       "    </tr>\n",
       "    <tr>\n",
       "      <th>5</th>\n",
       "      <td>2021</td>\n",
       "      <td>Aichi</td>\n",
       "      <td>2222222</td>\n",
       "    </tr>\n",
       "  </tbody>\n",
       "</table>\n",
       "</div>"
      ],
      "text/plain": [
       "   year     city  population\n",
       "0  2021    Tokyo     2222222\n",
       "1  2021   Ohsaka     2222222\n",
       "2  2021  Hokaido     2222222\n",
       "3  2021  Fukuoka     2222222\n",
       "4  2021   Nagano     2222222\n",
       "5  2021    Aichi     2222222"
      ]
     },
     "execution_count": 18,
     "metadata": {},
     "output_type": "execute_result"
    }
   ],
   "source": [
    "import csv\n",
    "# ここに解答を記述してください\n",
    "with open(\"./csv/csv0.csv\", \"w\") as csvfile:\n",
    "    writer = csv.writer(csvfile, lineterminator=\"\\n\")\n",
    "    # writer.writerow([\"year\", \"city\", \"population\"])\n",
    "    writer.writerow([\"2021\", \"Tokyo\", 2222222])\n",
    "    writer.writerow([\"2021\", \"Ohsaka\", 2222222])\n",
    "    writer.writerow([\"2021\", \"Hokaido\", 2222222])\n",
    "    writer.writerow([\"2021\", \"Fukuoka\", 2222222])\n",
    "    writer.writerow([\"2021\", \"Nagano\", 2222222])\n",
    "    writer.writerow([\"2021\", \"Aichi\", 2222222])\n",
    "import pandas as pd\n",
    "# csvを読み込んでください。\n",
    "df = pd.read_csv('./csv/csv0.csv', header=None)\n",
    "# カラムを左の列から順に\"sepal length\", \"sepal width\", \"petal length\", \"petal width\", \"class\"と指定します。\n",
    "df.columns = [\"year\", \"city\", \"population\"]\n",
    "# DataFrameを出力してください。\n",
    "df"
   ]
  },
  {
   "cell_type": "code",
   "execution_count": 17,
   "id": "a839bb36-4047-4421-91ab-45770d923965",
   "metadata": {},
   "outputs": [
    {
     "data": {
      "text/html": [
       "<div>\n",
       "<style scoped>\n",
       "    .dataframe tbody tr th:only-of-type {\n",
       "        vertical-align: middle;\n",
       "    }\n",
       "\n",
       "    .dataframe tbody tr th {\n",
       "        vertical-align: top;\n",
       "    }\n",
       "\n",
       "    .dataframe thead th {\n",
       "        text-align: right;\n",
       "    }\n",
       "</style>\n",
       "<table border=\"1\" class=\"dataframe\">\n",
       "  <thead>\n",
       "    <tr style=\"text-align: right;\">\n",
       "      <th></th>\n",
       "      <th>OS</th>\n",
       "      <th>release</th>\n",
       "      <th>country</th>\n",
       "    </tr>\n",
       "  </thead>\n",
       "  <tbody>\n",
       "    <tr>\n",
       "      <th>0</th>\n",
       "      <td>Machintosh</td>\n",
       "      <td>1984</td>\n",
       "      <td>US</td>\n",
       "    </tr>\n",
       "    <tr>\n",
       "      <th>1</th>\n",
       "      <td>Windows</td>\n",
       "      <td>1985</td>\n",
       "      <td>US</td>\n",
       "    </tr>\n",
       "    <tr>\n",
       "      <th>2</th>\n",
       "      <td>Linux</td>\n",
       "      <td>1991</td>\n",
       "      <td></td>\n",
       "    </tr>\n",
       "  </tbody>\n",
       "</table>\n",
       "</div>"
      ],
      "text/plain": [
       "           OS  release country\n",
       "0  Machintosh     1984      US\n",
       "1     Windows     1985      US\n",
       "2       Linux     1991        "
      ]
     },
     "execution_count": 17,
     "metadata": {},
     "output_type": "execute_result"
    }
   ],
   "source": [
    "import pandas as pd\n",
    "data = {\"OS\": [\"Machintosh\", \"Windows\", \"Linux\"],\n",
    "        \"release\": [1984, 1985, 1991],\n",
    "        \"country\": [\"US\", \"US\", \"\"]}\n",
    "# ここに解答を記述してください\n",
    "df = pd.DataFrame(data)\n",
    "df.to_csv(\"./csv/OSlist.csv\")\n",
    "df"
   ]
  },
  {
   "cell_type": "code",
   "execution_count": 19,
   "id": "efe71863-1c0d-41ef-8b65-a76e0e1171de",
   "metadata": {},
   "outputs": [
    {
     "data": {
      "text/html": [
       "<div>\n",
       "<style scoped>\n",
       "    .dataframe tbody tr th:only-of-type {\n",
       "        vertical-align: middle;\n",
       "    }\n",
       "\n",
       "    .dataframe tbody tr th {\n",
       "        vertical-align: top;\n",
       "    }\n",
       "\n",
       "    .dataframe thead th {\n",
       "        text-align: right;\n",
       "    }\n",
       "</style>\n",
       "<table border=\"1\" class=\"dataframe\">\n",
       "  <thead>\n",
       "    <tr style=\"text-align: right;\">\n",
       "      <th></th>\n",
       "      <th>ID</th>\n",
       "      <th>city</th>\n",
       "      <th>birth_year</th>\n",
       "      <th>name</th>\n",
       "    </tr>\n",
       "  </thead>\n",
       "  <tbody>\n",
       "    <tr>\n",
       "      <th>0</th>\n",
       "      <td>100</td>\n",
       "      <td>Tokyo</td>\n",
       "      <td>1990</td>\n",
       "      <td>Hiroshi</td>\n",
       "    </tr>\n",
       "    <tr>\n",
       "      <th>1</th>\n",
       "      <td>101</td>\n",
       "      <td>Osaka</td>\n",
       "      <td>1989</td>\n",
       "      <td>Akiko</td>\n",
       "    </tr>\n",
       "    <tr>\n",
       "      <th>2</th>\n",
       "      <td>102</td>\n",
       "      <td>Kyoto</td>\n",
       "      <td>1992</td>\n",
       "      <td>Yuki</td>\n",
       "    </tr>\n",
       "    <tr>\n",
       "      <th>3</th>\n",
       "      <td>103</td>\n",
       "      <td>Hokkaido</td>\n",
       "      <td>1997</td>\n",
       "      <td>Satoru</td>\n",
       "    </tr>\n",
       "    <tr>\n",
       "      <th>4</th>\n",
       "      <td>104</td>\n",
       "      <td>Tokyo</td>\n",
       "      <td>1982</td>\n",
       "      <td>Steeve</td>\n",
       "    </tr>\n",
       "    <tr>\n",
       "      <th>5</th>\n",
       "      <td>106</td>\n",
       "      <td>Tokyo</td>\n",
       "      <td>1991</td>\n",
       "      <td>Mituru</td>\n",
       "    </tr>\n",
       "    <tr>\n",
       "      <th>6</th>\n",
       "      <td>107</td>\n",
       "      <td>Sendai</td>\n",
       "      <td>1994</td>\n",
       "      <td>NaN</td>\n",
       "    </tr>\n",
       "    <tr>\n",
       "      <th>7</th>\n",
       "      <td>108</td>\n",
       "      <td>Osaka</td>\n",
       "      <td>1988</td>\n",
       "      <td>Aoi</td>\n",
       "    </tr>\n",
       "    <tr>\n",
       "      <th>8</th>\n",
       "      <td>109</td>\n",
       "      <td>Nagoya</td>\n",
       "      <td>1988</td>\n",
       "      <td>NaN</td>\n",
       "    </tr>\n",
       "    <tr>\n",
       "      <th>9</th>\n",
       "      <td>110</td>\n",
       "      <td>Kyoto</td>\n",
       "      <td>1990</td>\n",
       "      <td>Tarou</td>\n",
       "    </tr>\n",
       "    <tr>\n",
       "      <th>10</th>\n",
       "      <td>111</td>\n",
       "      <td>Hokkaido</td>\n",
       "      <td>1995</td>\n",
       "      <td>Suguru</td>\n",
       "    </tr>\n",
       "    <tr>\n",
       "      <th>11</th>\n",
       "      <td>113</td>\n",
       "      <td>Tokyo</td>\n",
       "      <td>1981</td>\n",
       "      <td>Mitsuo</td>\n",
       "    </tr>\n",
       "  </tbody>\n",
       "</table>\n",
       "</div>"
      ],
      "text/plain": [
       "     ID      city  birth_year     name\n",
       "0   100     Tokyo        1990  Hiroshi\n",
       "1   101     Osaka        1989    Akiko\n",
       "2   102     Kyoto        1992     Yuki\n",
       "3   103  Hokkaido        1997   Satoru\n",
       "4   104     Tokyo        1982   Steeve\n",
       "5   106     Tokyo        1991   Mituru\n",
       "6   107    Sendai        1994      NaN\n",
       "7   108     Osaka        1988      Aoi\n",
       "8   109    Nagoya        1988      NaN\n",
       "9   110     Kyoto        1990    Tarou\n",
       "10  111  Hokkaido        1995   Suguru\n",
       "11  113     Tokyo        1981   Mitsuo"
      ]
     },
     "execution_count": 19,
     "metadata": {},
     "output_type": "execute_result"
    }
   ],
   "source": [
    "import pandas as pd\n",
    "from pandas import Series, DataFrame\n",
    "\n",
    "attri_data1 = {\"ID\": [\"100\", \"101\", \"102\", \"103\", \"104\", \"106\", \"108\", \"110\", \"111\", \"113\"],\n",
    "               \"city\": [\"Tokyo\", \"Osaka\", \"Kyoto\", \"Hokkaido\", \"Tokyo\", \"Tokyo\", \"Osaka\", \"Kyoto\", \"Hokkaido\", \"Tokyo\"],\n",
    "               \"birth_year\": [1990, 1989, 1992, 1997, 1982, 1991, 1988, 1990, 1995, 1981],\n",
    "               \"name\": [\"Hiroshi\", \"Akiko\", \"Yuki\", \"Satoru\", \"Steeve\", \"Mituru\", \"Aoi\", \"Tarou\", \"Suguru\", \"Mitsuo\"]}\n",
    "attri_data_frame1 = DataFrame(attri_data1)\n",
    "\n",
    "attri_data2 = {\"ID\": [\"107\", \"109\"],\n",
    "               \"city\": [\"Sendai\", \"Nagoya\"],\n",
    "               \"birth_year\": [1994, 1988]}\n",
    "attri_data_frame2 = DataFrame(attri_data2)\n",
    "\n",
    "# attri_data_frame1へattri_data_frame2の行を追加し出力してください。\n",
    "# 行を追加した後のDataFrameはIDで昇順になるようにし、行番号も昇順になるようにしてください。\n",
    "# attri_data_frame1 = attri_data_frame1.append(attri_data_frame2)\n",
    "# attri_data_frame1 = attri_data_frame1.sort_values(by=\"ID\")\n",
    "# attri_data_frame1 = attri_data_frame1.reset_index(drop=True)\n",
    "attri_data_frame1 = attri_data_frame1.append(attri_data_frame2).sort_values(by=\"ID\").reset_index(drop=True)\n",
    "attri_data_frame1\n"
   ]
  },
  {
   "cell_type": "code",
   "execution_count": 20,
   "id": "ad9be771-3038-4c84-9c5d-fb4dca7f5504",
   "metadata": {},
   "outputs": [
    {
     "data": {
      "text/html": [
       "<div>\n",
       "<style scoped>\n",
       "    .dataframe tbody tr th:only-of-type {\n",
       "        vertical-align: middle;\n",
       "    }\n",
       "\n",
       "    .dataframe tbody tr th {\n",
       "        vertical-align: top;\n",
       "    }\n",
       "\n",
       "    .dataframe thead th {\n",
       "        text-align: right;\n",
       "    }\n",
       "</style>\n",
       "<table border=\"1\" class=\"dataframe\">\n",
       "  <thead>\n",
       "    <tr style=\"text-align: right;\">\n",
       "      <th></th>\n",
       "      <th>0</th>\n",
       "      <th>2</th>\n",
       "    </tr>\n",
       "  </thead>\n",
       "  <tbody>\n",
       "    <tr>\n",
       "      <th>0</th>\n",
       "      <td>0.548814</td>\n",
       "      <td>0.602763</td>\n",
       "    </tr>\n",
       "    <tr>\n",
       "      <th>3</th>\n",
       "      <td>0.568045</td>\n",
       "      <td>0.071036</td>\n",
       "    </tr>\n",
       "    <tr>\n",
       "      <th>4</th>\n",
       "      <td>0.020218</td>\n",
       "      <td>0.778157</td>\n",
       "    </tr>\n",
       "    <tr>\n",
       "      <th>5</th>\n",
       "      <td>0.978618</td>\n",
       "      <td>0.461479</td>\n",
       "    </tr>\n",
       "    <tr>\n",
       "      <th>6</th>\n",
       "      <td>0.118274</td>\n",
       "      <td>0.143353</td>\n",
       "    </tr>\n",
       "    <tr>\n",
       "      <th>7</th>\n",
       "      <td>0.521848</td>\n",
       "      <td>0.264556</td>\n",
       "    </tr>\n",
       "    <tr>\n",
       "      <th>8</th>\n",
       "      <td>0.456150</td>\n",
       "      <td>0.018790</td>\n",
       "    </tr>\n",
       "    <tr>\n",
       "      <th>9</th>\n",
       "      <td>0.612096</td>\n",
       "      <td>0.943748</td>\n",
       "    </tr>\n",
       "  </tbody>\n",
       "</table>\n",
       "</div>"
      ],
      "text/plain": [
       "          0         2\n",
       "0  0.548814  0.602763\n",
       "3  0.568045  0.071036\n",
       "4  0.020218  0.778157\n",
       "5  0.978618  0.461479\n",
       "6  0.118274  0.143353\n",
       "7  0.521848  0.264556\n",
       "8  0.456150  0.018790\n",
       "9  0.612096  0.943748"
      ]
     },
     "execution_count": 20,
     "metadata": {},
     "output_type": "execute_result"
    }
   ],
   "source": [
    "import numpy as np\n",
    "from numpy import nan as NA\n",
    "import pandas as pd\n",
    "np.random.seed(0)\n",
    "\n",
    "sample_data_frame = pd.DataFrame(np.random.rand(10, 4))\n",
    "\n",
    "sample_data_frame.iloc[1, 0] = NA\n",
    "sample_data_frame.iloc[2, 2] = NA\n",
    "sample_data_frame.iloc[5:, 3] = NA\n",
    "\n",
    "# DataFrame sample_data_frame の0列と2列を残し、NaNを含む行をすべて削除して出力してください。\n",
    "# sample_data_frame.dropna(axis=1)\n",
    "sample_data_frame[[0, 2]].dropna(axis=0)\n"
   ]
  },
  {
   "cell_type": "code",
   "execution_count": 21,
   "id": "1cd82394-8b34-4651-a896-8ea788edf177",
   "metadata": {},
   "outputs": [
    {
     "data": {
      "text/html": [
       "<div>\n",
       "<style scoped>\n",
       "    .dataframe tbody tr th:only-of-type {\n",
       "        vertical-align: middle;\n",
       "    }\n",
       "\n",
       "    .dataframe tbody tr th {\n",
       "        vertical-align: top;\n",
       "    }\n",
       "\n",
       "    .dataframe thead th {\n",
       "        text-align: right;\n",
       "    }\n",
       "</style>\n",
       "<table border=\"1\" class=\"dataframe\">\n",
       "  <thead>\n",
       "    <tr style=\"text-align: right;\">\n",
       "      <th></th>\n",
       "      <th>0</th>\n",
       "      <th>1</th>\n",
       "      <th>2</th>\n",
       "      <th>3</th>\n",
       "    </tr>\n",
       "  </thead>\n",
       "  <tbody>\n",
       "    <tr>\n",
       "      <th>0</th>\n",
       "      <td>0.548814</td>\n",
       "      <td>0.715189</td>\n",
       "      <td>0.602763</td>\n",
       "      <td>0.544883</td>\n",
       "    </tr>\n",
       "    <tr>\n",
       "      <th>1</th>\n",
       "      <td>0.548814</td>\n",
       "      <td>0.645894</td>\n",
       "      <td>0.437587</td>\n",
       "      <td>0.891773</td>\n",
       "    </tr>\n",
       "    <tr>\n",
       "      <th>2</th>\n",
       "      <td>0.963663</td>\n",
       "      <td>0.383442</td>\n",
       "      <td>0.791725</td>\n",
       "      <td>0.528895</td>\n",
       "    </tr>\n",
       "    <tr>\n",
       "      <th>3</th>\n",
       "      <td>0.568045</td>\n",
       "      <td>0.925597</td>\n",
       "      <td>0.071036</td>\n",
       "      <td>0.087129</td>\n",
       "    </tr>\n",
       "    <tr>\n",
       "      <th>4</th>\n",
       "      <td>0.020218</td>\n",
       "      <td>0.832620</td>\n",
       "      <td>0.778157</td>\n",
       "      <td>0.870012</td>\n",
       "    </tr>\n",
       "    <tr>\n",
       "      <th>5</th>\n",
       "      <td>0.978618</td>\n",
       "      <td>0.799159</td>\n",
       "      <td>0.461479</td>\n",
       "      <td>0.780529</td>\n",
       "    </tr>\n",
       "    <tr>\n",
       "      <th>6</th>\n",
       "      <td>0.118274</td>\n",
       "      <td>0.639921</td>\n",
       "      <td>0.461479</td>\n",
       "      <td>0.944669</td>\n",
       "    </tr>\n",
       "    <tr>\n",
       "      <th>7</th>\n",
       "      <td>0.521848</td>\n",
       "      <td>0.414662</td>\n",
       "      <td>0.461479</td>\n",
       "      <td>0.774234</td>\n",
       "    </tr>\n",
       "    <tr>\n",
       "      <th>8</th>\n",
       "      <td>0.456150</td>\n",
       "      <td>0.568434</td>\n",
       "      <td>0.461479</td>\n",
       "      <td>0.617635</td>\n",
       "    </tr>\n",
       "    <tr>\n",
       "      <th>9</th>\n",
       "      <td>0.612096</td>\n",
       "      <td>0.616934</td>\n",
       "      <td>0.461479</td>\n",
       "      <td>0.681820</td>\n",
       "    </tr>\n",
       "  </tbody>\n",
       "</table>\n",
       "</div>"
      ],
      "text/plain": [
       "          0         1         2         3\n",
       "0  0.548814  0.715189  0.602763  0.544883\n",
       "1  0.548814  0.645894  0.437587  0.891773\n",
       "2  0.963663  0.383442  0.791725  0.528895\n",
       "3  0.568045  0.925597  0.071036  0.087129\n",
       "4  0.020218  0.832620  0.778157  0.870012\n",
       "5  0.978618  0.799159  0.461479  0.780529\n",
       "6  0.118274  0.639921  0.461479  0.944669\n",
       "7  0.521848  0.414662  0.461479  0.774234\n",
       "8  0.456150  0.568434  0.461479  0.617635\n",
       "9  0.612096  0.616934  0.461479  0.681820"
      ]
     },
     "execution_count": 21,
     "metadata": {},
     "output_type": "execute_result"
    }
   ],
   "source": [
    "import numpy as np\n",
    "from numpy import nan as NA\n",
    "import pandas as pd\n",
    "np.random.seed(0)\n",
    "\n",
    "sample_data_frame = pd.DataFrame(np.random.rand(10, 4))\n",
    "\n",
    "sample_data_frame.iloc[1, 0] = NA\n",
    "sample_data_frame.iloc[6:, 2] = NA\n",
    "\n",
    "# DataFrame sample_data_frame のNaNを前行の値で埋めて出力してください。\n",
    "# sample_data_frame.fillna(0)\n",
    "sample_data_frame.fillna(method=\"ffill\")\n"
   ]
  },
  {
   "cell_type": "code",
   "execution_count": 22,
   "id": "ca423f70-f9ac-4a3d-816b-6ecd20d7b9c5",
   "metadata": {},
   "outputs": [
    {
     "data": {
      "text/html": [
       "<div>\n",
       "<style scoped>\n",
       "    .dataframe tbody tr th:only-of-type {\n",
       "        vertical-align: middle;\n",
       "    }\n",
       "\n",
       "    .dataframe tbody tr th {\n",
       "        vertical-align: top;\n",
       "    }\n",
       "\n",
       "    .dataframe thead th {\n",
       "        text-align: right;\n",
       "    }\n",
       "</style>\n",
       "<table border=\"1\" class=\"dataframe\">\n",
       "  <thead>\n",
       "    <tr style=\"text-align: right;\">\n",
       "      <th></th>\n",
       "      <th>0</th>\n",
       "      <th>1</th>\n",
       "      <th>2</th>\n",
       "      <th>3</th>\n",
       "    </tr>\n",
       "  </thead>\n",
       "  <tbody>\n",
       "    <tr>\n",
       "      <th>0</th>\n",
       "      <td>0.548814</td>\n",
       "      <td>0.715189</td>\n",
       "      <td>0.602763</td>\n",
       "      <td>0.544883</td>\n",
       "    </tr>\n",
       "    <tr>\n",
       "      <th>1</th>\n",
       "      <td>0.531970</td>\n",
       "      <td>0.645894</td>\n",
       "      <td>0.437587</td>\n",
       "      <td>0.891773</td>\n",
       "    </tr>\n",
       "    <tr>\n",
       "      <th>2</th>\n",
       "      <td>0.963663</td>\n",
       "      <td>0.383442</td>\n",
       "      <td>0.791725</td>\n",
       "      <td>0.528895</td>\n",
       "    </tr>\n",
       "    <tr>\n",
       "      <th>3</th>\n",
       "      <td>0.568045</td>\n",
       "      <td>0.925597</td>\n",
       "      <td>0.071036</td>\n",
       "      <td>0.087129</td>\n",
       "    </tr>\n",
       "    <tr>\n",
       "      <th>4</th>\n",
       "      <td>0.020218</td>\n",
       "      <td>0.832620</td>\n",
       "      <td>0.778157</td>\n",
       "      <td>0.870012</td>\n",
       "    </tr>\n",
       "    <tr>\n",
       "      <th>5</th>\n",
       "      <td>0.978618</td>\n",
       "      <td>0.799159</td>\n",
       "      <td>0.461479</td>\n",
       "      <td>0.780529</td>\n",
       "    </tr>\n",
       "    <tr>\n",
       "      <th>6</th>\n",
       "      <td>0.118274</td>\n",
       "      <td>0.639921</td>\n",
       "      <td>0.523791</td>\n",
       "      <td>0.944669</td>\n",
       "    </tr>\n",
       "    <tr>\n",
       "      <th>7</th>\n",
       "      <td>0.521848</td>\n",
       "      <td>0.414662</td>\n",
       "      <td>0.523791</td>\n",
       "      <td>0.774234</td>\n",
       "    </tr>\n",
       "    <tr>\n",
       "      <th>8</th>\n",
       "      <td>0.456150</td>\n",
       "      <td>0.568434</td>\n",
       "      <td>0.523791</td>\n",
       "      <td>0.617635</td>\n",
       "    </tr>\n",
       "    <tr>\n",
       "      <th>9</th>\n",
       "      <td>0.612096</td>\n",
       "      <td>0.616934</td>\n",
       "      <td>0.523791</td>\n",
       "      <td>0.681820</td>\n",
       "    </tr>\n",
       "  </tbody>\n",
       "</table>\n",
       "</div>"
      ],
      "text/plain": [
       "          0         1         2         3\n",
       "0  0.548814  0.715189  0.602763  0.544883\n",
       "1  0.531970  0.645894  0.437587  0.891773\n",
       "2  0.963663  0.383442  0.791725  0.528895\n",
       "3  0.568045  0.925597  0.071036  0.087129\n",
       "4  0.020218  0.832620  0.778157  0.870012\n",
       "5  0.978618  0.799159  0.461479  0.780529\n",
       "6  0.118274  0.639921  0.523791  0.944669\n",
       "7  0.521848  0.414662  0.523791  0.774234\n",
       "8  0.456150  0.568434  0.523791  0.617635\n",
       "9  0.612096  0.616934  0.523791  0.681820"
      ]
     },
     "execution_count": 22,
     "metadata": {},
     "output_type": "execute_result"
    }
   ],
   "source": [
    "import numpy as np\n",
    "from numpy import nan as NA\n",
    "import pandas as pd\n",
    "np.random.seed(0)\n",
    "\n",
    "sample_data_frame = pd.DataFrame(np.random.rand(10, 4))\n",
    "\n",
    "sample_data_frame.iloc[1, 0] = NA\n",
    "sample_data_frame.iloc[6:, 2] = NA\n",
    "# DataFrame sample_data_frame のNaNを列の平均値で埋めて出力してください。\n",
    "sample_data_frame.fillna(sample_data_frame.mean())\n"
   ]
  },
  {
   "cell_type": "code",
   "execution_count": 23,
   "id": "9795572d-aaed-4a3a-a256-735bec84ec81",
   "metadata": {},
   "outputs": [
    {
     "data": {
      "text/html": [
       "<div>\n",
       "<style scoped>\n",
       "    .dataframe tbody tr th:only-of-type {\n",
       "        vertical-align: middle;\n",
       "    }\n",
       "\n",
       "    .dataframe tbody tr th {\n",
       "        vertical-align: top;\n",
       "    }\n",
       "\n",
       "    .dataframe thead th {\n",
       "        text-align: right;\n",
       "    }\n",
       "</style>\n",
       "<table border=\"1\" class=\"dataframe\">\n",
       "  <thead>\n",
       "    <tr style=\"text-align: right;\">\n",
       "      <th></th>\n",
       "      <th>col1</th>\n",
       "      <th>col2</th>\n",
       "    </tr>\n",
       "  </thead>\n",
       "  <tbody>\n",
       "    <tr>\n",
       "      <th>0</th>\n",
       "      <td>1</td>\n",
       "      <td>a</td>\n",
       "    </tr>\n",
       "    <tr>\n",
       "      <th>1</th>\n",
       "      <td>1</td>\n",
       "      <td>b</td>\n",
       "    </tr>\n",
       "    <tr>\n",
       "      <th>2</th>\n",
       "      <td>2</td>\n",
       "      <td>b</td>\n",
       "    </tr>\n",
       "    <tr>\n",
       "      <th>3</th>\n",
       "      <td>3</td>\n",
       "      <td>b</td>\n",
       "    </tr>\n",
       "    <tr>\n",
       "      <th>4</th>\n",
       "      <td>4</td>\n",
       "      <td>c</td>\n",
       "    </tr>\n",
       "    <tr>\n",
       "      <th>6</th>\n",
       "      <td>6</td>\n",
       "      <td>b</td>\n",
       "    </tr>\n",
       "    <tr>\n",
       "      <th>8</th>\n",
       "      <td>7</td>\n",
       "      <td>d</td>\n",
       "    </tr>\n",
       "    <tr>\n",
       "      <th>10</th>\n",
       "      <td>7</td>\n",
       "      <td>c</td>\n",
       "    </tr>\n",
       "    <tr>\n",
       "      <th>11</th>\n",
       "      <td>8</td>\n",
       "      <td>b</td>\n",
       "    </tr>\n",
       "    <tr>\n",
       "      <th>12</th>\n",
       "      <td>9</td>\n",
       "      <td>c</td>\n",
       "    </tr>\n",
       "  </tbody>\n",
       "</table>\n",
       "</div>"
      ],
      "text/plain": [
       "    col1 col2\n",
       "0      1    a\n",
       "1      1    b\n",
       "2      2    b\n",
       "3      3    b\n",
       "4      4    c\n",
       "6      6    b\n",
       "8      7    d\n",
       "10     7    c\n",
       "11     8    b\n",
       "12     9    c"
      ]
     },
     "execution_count": 23,
     "metadata": {},
     "output_type": "execute_result"
    }
   ],
   "source": [
    "import pandas as pd\n",
    "from pandas import DataFrame\n",
    "\n",
    "dupli_data = DataFrame({\"col1\":[1, 1, 2, 3, 4, 4, 6, 6, 7, 7, 7, 8, 9, 9]\n",
    "                       ,\"col2\":[\"a\", \"b\", \"b\", \"b\", \"c\", \"c\", \"b\", \"b\", \"d\", \"d\", \"c\", \"b\", \"c\", \"c\"]})\n",
    "# DataFrame dupli_data には重複したデータがあります。\n",
    "# 重複データを抽出\n",
    "dupli_data.duplicated()\n",
    "# 重複データを削除して新たなDataFrameを出力\n",
    "dupli_data.drop_duplicates()"
   ]
  },
  {
   "cell_type": "code",
   "execution_count": 24,
   "id": "250b1ab6-2215-413a-aaa5-e064138d454a",
   "metadata": {},
   "outputs": [
    {
     "data": {
      "text/html": [
       "<div>\n",
       "<style scoped>\n",
       "    .dataframe tbody tr th:only-of-type {\n",
       "        vertical-align: middle;\n",
       "    }\n",
       "\n",
       "    .dataframe tbody tr th {\n",
       "        vertical-align: top;\n",
       "    }\n",
       "\n",
       "    .dataframe thead th {\n",
       "        text-align: right;\n",
       "    }\n",
       "</style>\n",
       "<table border=\"1\" class=\"dataframe\">\n",
       "  <thead>\n",
       "    <tr style=\"text-align: right;\">\n",
       "      <th></th>\n",
       "      <th>ID</th>\n",
       "      <th>city</th>\n",
       "      <th>birth_year</th>\n",
       "      <th>name</th>\n",
       "      <th>WE</th>\n",
       "    </tr>\n",
       "  </thead>\n",
       "  <tbody>\n",
       "    <tr>\n",
       "      <th>0</th>\n",
       "      <td>100</td>\n",
       "      <td>Tokyo</td>\n",
       "      <td>1990</td>\n",
       "      <td>Hiroshi</td>\n",
       "      <td>east</td>\n",
       "    </tr>\n",
       "    <tr>\n",
       "      <th>1</th>\n",
       "      <td>101</td>\n",
       "      <td>Osaka</td>\n",
       "      <td>1989</td>\n",
       "      <td>Akiko</td>\n",
       "      <td>west</td>\n",
       "    </tr>\n",
       "    <tr>\n",
       "      <th>2</th>\n",
       "      <td>102</td>\n",
       "      <td>Kyoto</td>\n",
       "      <td>1992</td>\n",
       "      <td>Yuki</td>\n",
       "      <td>west</td>\n",
       "    </tr>\n",
       "    <tr>\n",
       "      <th>3</th>\n",
       "      <td>103</td>\n",
       "      <td>Hokkaido</td>\n",
       "      <td>1997</td>\n",
       "      <td>Satoru</td>\n",
       "      <td>east</td>\n",
       "    </tr>\n",
       "    <tr>\n",
       "      <th>4</th>\n",
       "      <td>104</td>\n",
       "      <td>Tokyo</td>\n",
       "      <td>1982</td>\n",
       "      <td>Steeve</td>\n",
       "      <td>east</td>\n",
       "    </tr>\n",
       "    <tr>\n",
       "      <th>5</th>\n",
       "      <td>106</td>\n",
       "      <td>Tokyo</td>\n",
       "      <td>1991</td>\n",
       "      <td>Mituru</td>\n",
       "      <td>east</td>\n",
       "    </tr>\n",
       "    <tr>\n",
       "      <th>6</th>\n",
       "      <td>108</td>\n",
       "      <td>Osaka</td>\n",
       "      <td>1988</td>\n",
       "      <td>Aoi</td>\n",
       "      <td>west</td>\n",
       "    </tr>\n",
       "    <tr>\n",
       "      <th>7</th>\n",
       "      <td>110</td>\n",
       "      <td>Kyoto</td>\n",
       "      <td>1990</td>\n",
       "      <td>Tarou</td>\n",
       "      <td>west</td>\n",
       "    </tr>\n",
       "    <tr>\n",
       "      <th>8</th>\n",
       "      <td>111</td>\n",
       "      <td>Hokkaido</td>\n",
       "      <td>1995</td>\n",
       "      <td>Suguru</td>\n",
       "      <td>east</td>\n",
       "    </tr>\n",
       "    <tr>\n",
       "      <th>9</th>\n",
       "      <td>113</td>\n",
       "      <td>Tokyo</td>\n",
       "      <td>1981</td>\n",
       "      <td>Mitsuo</td>\n",
       "      <td>east</td>\n",
       "    </tr>\n",
       "  </tbody>\n",
       "</table>\n",
       "</div>"
      ],
      "text/plain": [
       "    ID      city  birth_year     name    WE\n",
       "0  100     Tokyo        1990  Hiroshi  east\n",
       "1  101     Osaka        1989    Akiko  west\n",
       "2  102     Kyoto        1992     Yuki  west\n",
       "3  103  Hokkaido        1997   Satoru  east\n",
       "4  104     Tokyo        1982   Steeve  east\n",
       "5  106     Tokyo        1991   Mituru  east\n",
       "6  108     Osaka        1988      Aoi  west\n",
       "7  110     Kyoto        1990    Tarou  west\n",
       "8  111  Hokkaido        1995   Suguru  east\n",
       "9  113     Tokyo        1981   Mitsuo  east"
      ]
     },
     "execution_count": 24,
     "metadata": {},
     "output_type": "execute_result"
    }
   ],
   "source": [
    "import pandas as pd\n",
    "from pandas import DataFrame\n",
    "\n",
    "attri_data1 = {\"ID\": [\"100\", \"101\", \"102\", \"103\", \"104\", \"106\", \"108\", \"110\", \"111\", \"113\"]\n",
    "        ,\"city\": [\"Tokyo\", \"Osaka\", \"Kyoto\", \"Hokkaido\", \"Tokyo\", \"Tokyo\", \"Osaka\", \"Kyoto\", \"Hokkaido\", \"Tokyo\"]\n",
    "        ,\"birth_year\" :[1990, 1989, 1992, 1997, 1982, 1991, 1988, 1990, 1995, 1981]\n",
    "        ,\"name\" :[\"Hiroshi\", \"Akiko\", \"Yuki\", \"Satoru\", \"Steeve\", \"Mituru\", \"Aoi\", \"Tarou\", \"Suguru\", \"Mitsuo\"]}\n",
    "attri_data_frame1 = DataFrame(attri_data1)\n",
    "# Tokyo、Hokkaidoの要素がeast 、Osaka、Kyotoの要素がwestである辞書を新たに作成してください。\n",
    "WE_map = {\n",
    "    \"Tokyo\": \"east\",\n",
    "    \"Hokkaido\": \"east\",\n",
    "    \"Osaka\": \"west\",\n",
    "    \"Kyoto\": \"west\",\n",
    "}\n",
    "# DataFrame attri_data1のcityをキーに上で作成した辞書を参照して新しい列WEを追加し、その結果を出力してください。\n",
    "attri_data_frame1[\"WE\"] = attri_data_frame1[\"city\"].map(WE_map)\n",
    "attri_data_frame1"
   ]
  },
  {
   "cell_type": "code",
   "execution_count": 25,
   "id": "50b0d485-ae8d-47eb-8be0-675d299977f5",
   "metadata": {},
   "outputs": [
    {
     "data": {
      "text/plain": [
       "0    (99.987, 106.5]\n",
       "1    (99.987, 106.5]\n",
       "2    (99.987, 106.5]\n",
       "3    (99.987, 106.5]\n",
       "4    (99.987, 106.5]\n",
       "5    (99.987, 106.5]\n",
       "6     (106.5, 113.0]\n",
       "7     (106.5, 113.0]\n",
       "8     (106.5, 113.0]\n",
       "9     (106.5, 113.0]\n",
       "Name: ID, dtype: category\n",
       "Categories (2, interval[float64, right]): [(99.987, 106.5] < (106.5, 113.0]]"
      ]
     },
     "execution_count": 25,
     "metadata": {},
     "output_type": "execute_result"
    }
   ],
   "source": [
    "import pandas as pd\n",
    "from pandas import DataFrame\n",
    "\n",
    "attri_data1 = {\"ID\":[100,101,102,103,104,106,108,110,111,113]\n",
    "        ,\"city\":[\"Tokyo\",\"Osaka\",\"Kyoto\",\"Hokkaido\",\"Tokyo\",\"Tokyo\",\"Osaka\",\"Kyoto\",\"Hokkaido\",\"Tokyo\"]\n",
    "        ,\"birth_year\":[1990,1989,1992,1997,1982,1991,1988,1990,1995,1981]\n",
    "        ,\"name\":[\"Hiroshi\",\"Akiko\",\"Yuki\",\"Satoru\",\"Steeve\",\"Mituru\",\"Aoi\",\"Tarou\",\"Suguru\",\"Mitsuo\"]}\n",
    "attri_data_frame1 = DataFrame(attri_data1)\n",
    "# DataFrame attri_data1 をIDで2つにビン分割して出力してください。\n",
    "\"\"\"\n",
    "ビン分割とは、数値データを大まかに区切ってカテゴリ分けをする処理のことです。\n",
    "例えば、年齢を0～9歳、10～19歳、20～29歳のように分ける処理です。\n",
    "あらかじめビン分割したリストを用意してpandasのcut()関数を用いて処理を行います。\n",
    "\"\"\"\n",
    "# birth_year_bins = [1980,1985,1990,1995,2000]\n",
    "# birth_year_cut_data = pd.cut(attri_data_frame1.birth_year,birth_year_bins)\n",
    "pd.cut(attri_data_frame1.ID, 2)\n",
    "# attri_data_frame1"
   ]
  },
  {
   "cell_type": "markdown",
   "id": "6936ca78-06c1-463d-bf65-3c00def3db4f",
   "metadata": {},
   "source": [
    "## OpenCV"
   ]
  },
  {
   "cell_type": "markdown",
   "id": "67c47b0f-4abe-460c-a0b3-aed8581caccd",
   "metadata": {},
   "source": [
    "### Image Data\n",
    "\n",
    "例えば縦が100ピクセル、横が100ピクセルの画像は100 x 100 = 10,000個のピクセルの集まりという事です。\n",
    "例えば、カラー画像であればRGBの3色がそれぞれどのくらいの明るさ(濃さ)であるかを持つ必要があり、多くの場合0から255の範囲で色の明るさを表現します。\n",
    "数字が大きいほど明るくなり、例えば、ただの赤は(255, 0, 0)と表現し、紫色は(255, 0, 255)です。(0, 0, 0)は黒を、(255, 255, 255)は白を表します。"
   ]
  },
  {
   "cell_type": "markdown",
   "id": "06906072-5737-4172-9a2f-858c94a489a5",
   "metadata": {},
   "source": [
    "### How OpenCV Handle Image\n",
    "\n",
    "後に扱うOpenCVで、1つのピクセルを表すための色要素の数を チャンネル数 と呼びます。\n",
    "例えばRGBの画像はチャンネル数が3、モノクロ画像はチャンネル数が1です。\n",
    "透過処理をサポートしている画像フォーマットはGIFとPNG"
   ]
  },
  {
   "cell_type": "code",
   "execution_count": 30,
   "id": "9a57312b-256d-428e-897f-2fa52435cb99",
   "metadata": {},
   "outputs": [
    {
     "data": {
      "image/png": "[encoded data removed]",
      "text/plain": [
       "<Figure size 432x288 with 1 Axes>"
      ]
     },
     "metadata": {
      "needs_background": "light"
     },
     "output_type": "display_data"
    }
   ],
   "source": [
    "import cv2\n",
    "import matplotlib.pyplot as plt\n",
    "\n",
    "img = cv2.imread(\"./images/django-logo_aa.png\")\n",
    "# cv2.imshow(\"django logo\", img)\n",
    "plt.imshow(cv2.cvtColor(img, cv2.COLOR_BGR2RGB)) # OpenCV は色がGBR順なのでRGB順に並べ替える\n",
    "plt.show()"
   ]
  },
  {
   "cell_type": "markdown",
   "id": "6b090923-4d4a-4929-ba11-19881a644e63",
   "metadata": {},
   "source": [
    "### Create image by NumPy and OpenCV"
   ]
  },
  {
   "cell_type": "code",
   "execution_count": 34,
   "id": "f26ea5fb-4093-49a9-b8e6-ab66477f9667",
   "metadata": {},
   "outputs": [
    {
     "data": {
      "image/png": "[encoded data removed]",
      "text/plain": [
       "<Figure size 432x288 with 1 Axes>"
      ]
     },
     "metadata": {
      "needs_background": "light"
     },
     "output_type": "display_data"
    }
   ],
   "source": [
    "import numpy as np\n",
    "import cv2\n",
    "import matplotlib.pyplot as plt\n",
    "\n",
    "# 画像のサイズを決める\n",
    "# color = [B, G, R]\n",
    "color = [0, 255, 0]\n",
    "# サイズが512 × 512の緑色の画像を作る\n",
    "data = np.array([[color for _ in range(512)] for _ in range(512)], dtype=\"uint8\")\n",
    "# 作成した画像を表示\n",
    "cv2.imshow(\"my_green_img\", data)\n",
    "# 画像をファイル名\"my_green_img.jpg\"で保存してください\n",
    "cv2.imwrite(\"./images/my_green_img.jpg\", data)\n",
    "plt.imshow(cv2.cvtColor(data, cv2.COLOR_BGR2RGB)) # OpenCV は色がGBR順なのでRGB順に並べ替える\n",
    "plt.show()"
   ]
  },
  {
   "cell_type": "markdown",
   "id": "f1718037-a204-4378-bd1b-e6bc653ab2ae",
   "metadata": {},
   "source": [
    "#### トリミングとリサイズ"
   ]
  },
  {
   "cell_type": "code",
   "execution_count": 43,
   "id": "db79ffc8-b30d-437e-bea3-39671d8cf552",
   "metadata": {},
   "outputs": [
    {
     "name": "stdout",
     "output_type": "stream",
     "text": [
      "(418, 1200, 3)\n",
      "(139, 400, 3)\n"
     ]
    },
    {
     "data": {
      "image/png": "[encoded data removed]",
      "text/plain": [
       "<Figure size 432x288 with 1 Axes>"
      ]
     },
     "metadata": {
      "needs_background": "light"
     },
     "output_type": "display_data"
    }
   ],
   "source": [
    "import cv2\n",
    "import matplotlib.pyplot as plt\n",
    "\n",
    "img = cv2.imread(\"./images/django-logo_aa.png\")\n",
    "print(img.shape)\n",
    "\n",
    "# 幅、高さをそれぞれ1/3にリサイズします\n",
    "# cv2.resize(画像データ, (リサイズ後の幅, リサイズ後の高さ))\n",
    "my_img = cv2.resize(img, (img.shape[1]//3, img.shape[0]//3))\n",
    "\n",
    "# n等分したい時はサイズの商を取るが、小数点以下は切り捨てる\n",
    "# my_img = img[: img.shape[1] // 3, : img.shape[0] // 3]\n",
    "# 新たにサイズを指定する際、(幅, 高さ)の順になる\n",
    "# 元の倍率を保ったまま、幅と高さをそれぞれ2倍する場合\n",
    "# my_img = cv2.resize(my_img, (my_img.shape[1] * 2, my_img.shape[0] * 2))\n",
    "\n",
    "\n",
    "# 出力\n",
    "# cv2.imshow(\"sample\", my_img)\n",
    "plt.imshow(cv2.cvtColor(my_img, cv2.COLOR_BGR2RGB))\n",
    "print(my_img.shape)"
   ]
  },
  {
   "cell_type": "markdown",
   "id": "1ae55bde-aa06-4d3c-b018-b5c369dc5a85",
   "metadata": {},
   "source": [
    "#### 回転・反転"
   ]
  },
  {
   "cell_type": "code",
   "execution_count": 95,
   "id": "a9267f0f-e996-4921-acb9-8aea187ce794",
   "metadata": {},
   "outputs": [
    {
     "data": {
      "text/plain": [
       "<matplotlib.image.AxesImage at 0x14c263430>"
      ]
     },
     "execution_count": 95,
     "metadata": {},
     "output_type": "execute_result"
    },
    {
     "data": {
      "image/png": "[encoded data removed]",
      "text/plain": [
       "<Figure size 432x288 with 1 Axes>"
      ]
     },
     "metadata": {
      "needs_background": "light"
     },
     "output_type": "display_data"
    }
   ],
   "source": [
    "import cv2\n",
    "import numpy as np\n",
    "import matplotlib.pyplot as plt\n",
    "\n",
    "img = cv2.imread(\"./images/django-logo_aa.png\")\n",
    "\n",
    "# アフィン変換は平行移動と線形変換（拡大・縮小、剪断（スキュー）、回転）の組み合わせで表現\n",
    "# cv2.warpAffine(元の画像データ, 変換行列, 出力画像のサイズ)\n",
    "# cv2.getRotationMatrix2D(画像の中心の座標,　回転させたい角度,　拡縮倍率)\n",
    "# x軸を中心に画像を反転してください\n",
    "# mat = cv2.getRotationMatrix2D(tuple(np.array([img.shape[1], img.shape[0]]) / 2), 180, 1.0)\n",
    "# my_img = cv2.warpAffine(img, mat, (img.shape[1], img.shape[0]))\n",
    "\n",
    "# 反転はcv2.flip()関数を用る\n",
    "# 第二引数flipCodeの値が0のときx軸を中心に（上下反転）、\n",
    "# 正のときy軸を中心に（左右反転）\n",
    "# 負のとき両方の軸を中心に反転\n",
    "my_img = cv2.flip(img, 0)\n",
    "# cv2.imshow(\"sample\", my_img)\n",
    "plt.imshow(cv2.cvtColor(my_img, cv2.COLOR_BGR2RGB))"
   ]
  },
  {
   "cell_type": "markdown",
   "id": "f030a36e-c918-4f91-9c16-5266ecb83fc4",
   "metadata": {},
   "source": [
    "#### 色調変換・色反転: 画像を他の色空間に変換"
   ]
  },
  {
   "cell_type": "code",
   "execution_count": 70,
   "id": "1453293e-e3af-4e53-a09a-4412ae9f4778",
   "metadata": {},
   "outputs": [
    {
     "data": {
      "text/plain": [
       "<matplotlib.image.AxesImage at 0x14bae4f10>"
      ]
     },
     "execution_count": 70,
     "metadata": {},
     "output_type": "execute_result"
    },
    {
     "data": {
      "image/png": "[encoded data removed]",
      "text/plain": [
       "<Figure size 432x288 with 1 Axes>"
      ]
     },
     "metadata": {
      "needs_background": "light"
     },
     "output_type": "display_data"
    }
   ],
   "source": [
    "import cv2\n",
    "import matplotlib.pyplot as plt\n",
    "\n",
    "img = cv2.imread(\"./images/django-logo_aa.png\")\n",
    "### BGR色空間の画像をLab色空間に変換\n",
    "# my_img = cv2.cvtColor(img, cv2.COLOR_BGR2LAB)\n",
    "\n",
    "### OpenCVで色を反転\n",
    "# my_img = cv2.bitwise_not(img)\n",
    "\n",
    "### for文と、len(img[i])で座標を取得して各画素に順番にアクセスし、RGBチャネルごとに画素値を変換 \n",
    "# 画素の座標(i, j)を取得\n",
    "my_img = img\n",
    "for i in range(len(img)):\n",
    "    for j in range(len(img[i])):\n",
    "        # RGBチャネル(k:0-2)を取得\n",
    "        for k in range(len(img[i][j])):\n",
    "            # 座標(i, j)のRGBチャネル(k:0-2)ごとに画素値を変換\n",
    "            my_img[i][j][k] = 255 - img[i][j][k]\n",
    "\n",
    "\n",
    "# cv2.imshow(\"sample\", my_img)\n",
    "plt.imshow(cv2.cvtColor(my_img, cv2.COLOR_BGR2RGB))"
   ]
  },
  {
   "cell_type": "markdown",
   "id": "06fd65f1-6303-4717-86db-31b5ae254ee5",
   "metadata": {},
   "source": [
    "#### 閾値処理（二値化）"
   ]
  },
  {
   "cell_type": "code",
   "execution_count": 107,
   "id": "a8f7b874-3e93-435a-b61e-082dbb33ce91",
   "metadata": {},
   "outputs": [
    {
     "data": {
      "text/plain": [
       "<matplotlib.image.AxesImage at 0x14c4bfb80>"
      ]
     },
     "execution_count": 107,
     "metadata": {},
     "output_type": "execute_result"
    },
    {
     "data": {
      "image/png": "[encoded data removed]",
      "text/plain": [
       "<Figure size 432x288 with 1 Axes>"
      ]
     },
     "metadata": {
      "needs_background": "light"
     },
     "output_type": "display_data"
    }
   ],
   "source": [
    "import cv2\n",
    "import matplotlib.pyplot as plt\n",
    "\n",
    "img = cv2.imread(\"./images/sample.png\")\n",
    "# 閾値100、それ以下を0、それ以上を255にして二値化してください\n",
    "# 同時に閾値も取得\n",
    "# cv2.threshold(画像データ, 閾値, 最大値 maxValue, 閾値処理の種類)\n",
    "\"\"\"\n",
    "THRESH_BINARY　 ： 閾値を超えるピクセルは maxValue に、それ以外のピクセルは 0 になります\n",
    "THRESH_BINARY_INV： 閾値を超えるピクセルは 0 に、それ以外のピクセルは maxValue になります\n",
    "THRESH_TRUNC　 ： 閾値を超えるピクセルは 閾値 に、それ以外のピクセルは変更されません\n",
    "THRESH_TOZERO　 ： 閾値を超えるピクセルは変更されず、それ以外のピクセルは 0 になります\n",
    "THRESH_TOZERO_INV： 閾値を超えるピクセルは 0 に、それ以外のピクセルは変更されません\n",
    "\"\"\"\n",
    "retval, my_img = cv2.threshold(img, 100, 255, cv2.THRESH_BINARY)\n",
    "\n",
    "# 出力\n",
    "# cv2.imshow(\"original\", img)\n",
    "# cv2.imshow(\"sample\", my_img)\n",
    "# print(retval)\n",
    "plt.imshow(cv2.cvtColor(my_img, cv2.COLOR_BGR2RGB))"
   ]
  },
  {
   "cell_type": "markdown",
   "id": "697c9703-c14b-490f-8485-3e9e29fa0a31",
   "metadata": {},
   "source": [
    "#### マスキング"
   ]
  },
  {
   "cell_type": "code",
   "execution_count": 78,
   "id": "d448f690-1272-4452-9d69-5b1108207718",
   "metadata": {},
   "outputs": [
    {
     "data": {
      "text/plain": [
       "<matplotlib.image.AxesImage at 0x14bda52b0>"
      ]
     },
     "execution_count": 78,
     "metadata": {},
     "output_type": "execute_result"
    },
    {
     "data": {
      "image/png": "[encoded data removed]",
      "text/plain": [
       "<Figure size 432x288 with 1 Axes>"
      ]
     },
     "metadata": {
      "needs_background": "light"
     },
     "output_type": "display_data"
    }
   ],
   "source": [
    "import cv2\n",
    "import matplotlib.pyplot as plt\n",
    "\n",
    "img = cv2.imread(\"./images/sample.png\")\n",
    "# マスク用画像を、第二引数に0を指定してチャンネル数が1の画像（グレースケール画像）に変換して読み込みます\n",
    "mask = cv2.imread(\"./images/mask.png\", 0)\n",
    "# マスク用画像を、元画像と同じサイズにリサイズします\n",
    "mask = cv2.resize(mask, (img.shape[1], img.shape[0]))\n",
    "\n",
    "# mask.pngの黒い部分のみを表示します（黒の画素数は`0`です）\n",
    "retval, mask = cv2.threshold(mask, 0, 255, cv2.THRESH_BINARY_INV)\n",
    "# 第三引数にマスク用画像を指定してマスキングします\n",
    "my_img = cv2.bitwise_and(img, img, mask = mask)\n",
    "\n",
    "# 出力\n",
    "# cv2.imshow(\"sample\", img)\n",
    "# cv2.imshow(\"sample\", mask)\n",
    "# cv2.imshow(\"sample\", my_img)\n",
    "plt.imshow(cv2.cvtColor(my_img, cv2.COLOR_BGR2RGB))"
   ]
  },
  {
   "cell_type": "markdown",
   "id": "75be26b2-1028-4422-9979-13f662792dc8",
   "metadata": {},
   "source": [
    "#### ぼかし（平滑化）"
   ]
  },
  {
   "cell_type": "code",
   "execution_count": 82,
   "id": "d4203af6-6b4a-402d-bd3d-901fe5776daa",
   "metadata": {},
   "outputs": [
    {
     "data": {
      "text/plain": [
       "<matplotlib.image.AxesImage at 0x14b47cd60>"
      ]
     },
     "execution_count": 82,
     "metadata": {},
     "output_type": "execute_result"
    },
    {
     "data": {
      "image/png": "[encoded data removed]",
      "text/plain": [
       "<Figure size 432x288 with 1 Axes>"
      ]
     },
     "metadata": {
      "needs_background": "light"
     },
     "output_type": "display_data"
    }
   ],
   "source": [
    "import cv2\n",
    "import matplotlib.pyplot as plt\n",
    "img = cv2.imread(\"./images/sample.png\")\n",
    "\n",
    "# sample.jpg \n",
    "# cv2.GaussianBlur(画像データ, カーネルサイズ(n, n), 0)\n",
    "my_img = cv2.GaussianBlur(img, (201, 201), 0)\n",
    "# cv2.imshow(\"sample\", my_img)\n",
    "plt.imshow(cv2.cvtColor(my_img, cv2.COLOR_BGR2RGB))"
   ]
  },
  {
   "cell_type": "markdown",
   "id": "d9372b0e-ad21-41e1-986e-53099b5971a3",
   "metadata": {},
   "source": [
    "#### ノイズの除去"
   ]
  },
  {
   "cell_type": "code",
   "execution_count": 87,
   "id": "6dfc2060-e38e-46f4-aece-6bcde82b13e3",
   "metadata": {},
   "outputs": [
    {
     "data": {
      "text/plain": [
       "<matplotlib.image.AxesImage at 0x14be96fd0>"
      ]
     },
     "execution_count": 87,
     "metadata": {},
     "output_type": "execute_result"
    },
    {
     "data": {
      "image/png": "[encoded data removed]",
      "text/plain": [
       "<Figure size 432x288 with 1 Axes>"
      ]
     },
     "metadata": {
      "needs_background": "light"
     },
     "output_type": "display_data"
    }
   ],
   "source": [
    "import cv2\n",
    "import matplotlib.pyplot as plt\n",
    "img = cv2.imread(\"./images/sample.png\")\n",
    "\n",
    "# カラー画像\n",
    "# cv2.fastNlMeansDenoisingColored(画像データ)\n",
    "# グレースケール画像\n",
    "# cv2.fastNlMeansDenoising(画像データ)\n",
    "my_img = cv2.fastNlMeansDenoisingColored(img)\n",
    "\n",
    "# cv2.imshow(\"sample\", my_img)\n",
    "# plt.imshow(cv2.cvtColor(my_img, cv2.COLOR_BGR2RGB))\n",
    "plt.imshow(cv2.cvtColor(img, cv2.COLOR_BGR2RGB))"
   ]
  },
  {
   "cell_type": "markdown",
   "id": "5a21c83a-8495-4a84-8aad-f8634b5859b4",
   "metadata": {},
   "source": [
    "#### 膨張・収縮\n",
    "ノンローカルミーンフィルタ（Non-local Means Filter）によりカラー画像とグレースケール画像のノイズ除去を行ったが膨張・収縮処理によってもノイズを取り除くことが可能\n",
    "\n",
    "##### 4近傍のフィルタ\n",
    "\"\"\"\n",
    "filt = np.array([[0, 1, 0],\n",
    "              [1, 0, 1],\n",
    "              [0, 1, 0]], np.uint8)\n",
    "\"\"\"\n",
    "\n",
    "##### 8近傍のフィルタ\n",
    "\"\"\"\n",
    "filt = np.array([[1, 1, 1],\n",
    "                [1, 0, 1],\n",
    "                [1, 1, 1]], np.uint8)\n",
    "\n",
    "\"\"\""
   ]
  },
  {
   "cell_type": "code",
   "execution_count": 89,
   "id": "897970fa-45f4-4e1b-bc89-c542d4859e29",
   "metadata": {},
   "outputs": [
    {
     "data": {
      "text/plain": [
       "<matplotlib.image.AxesImage at 0x14b937640>"
      ]
     },
     "execution_count": 89,
     "metadata": {},
     "output_type": "execute_result"
    },
    {
     "data": {
      "image/png": "[encoded data removed]",
      "text/plain": [
       "<Figure size 432x288 with 1 Axes>"
      ]
     },
     "metadata": {
      "needs_background": "light"
     },
     "output_type": "display_data"
    }
   ],
   "source": [
    "import numpy as np\n",
    "import cv2\n",
    "import matplotlib.pyplot as plt\n",
    "img = cv2.imread(\"./images/sample.png\", 0)\n",
    "retval, img = cv2.threshold(img, 127, 255, cv2.THRESH_BINARY)\n",
    "\n",
    "# フィルタを定義してください\n",
    "filt = np.array([[0, 1, 0],\n",
    "                [1, 0, 1],\n",
    "                [0, 1, 0]], np.uint8)\n",
    "\n",
    "# 収縮してください\n",
    "my_img = cv2.erode(img, filt)\n",
    "\n",
    "# 表示\n",
    "cv2.imshow(\"sample\", my_img)\n",
    "# 比較のため元の写真も表示\n",
    "cv2.imshow(\"original\", img)\n",
    "plt.imshow(cv2.cvtColor(my_img, cv2.COLOR_BGR2RGB))"
   ]
  },
  {
   "cell_type": "code",
   "execution_count": 102,
   "id": "540cc9fc-5070-4ffc-b0ad-34e4a383fdec",
   "metadata": {},
   "outputs": [
    {
     "name": "stdout",
     "output_type": "stream",
     "text": [
      "1\n",
      "3\n"
     ]
    }
   ],
   "source": [
    "lst = [True, False, True, False]\n",
    "scratch = np.array([1,2,3,4])\n",
    "for i in scratch[lst]:\n",
    "    print(i)"
   ]
  },
  {
   "cell_type": "code",
   "execution_count": null,
   "id": "c45e2154-2dc5-4a40-82e8-310e86f6e7d8",
   "metadata": {},
   "outputs": [],
   "source": []
  }
 ],
 "metadata": {
  "kernelspec": {
   "display_name": "Python 3 (ipykernel)",
   "language": "python",
   "name": "python3"
  },
  "language_info": {
   "codemirror_mode": {
    "name": "ipython",
    "version": 3
   },
   "file_extension": ".py",
   "mimetype": "text/x-python",
   "name": "python",
   "nbconvert_exporter": "python",
   "pygments_lexer": "ipython3",
   "version": "3.9.9"
  },
  "toc-autonumbering": false,
  "toc-showmarkdowntxt": false
 },
 "nbformat": 4,
 "nbformat_minor": 5
}
