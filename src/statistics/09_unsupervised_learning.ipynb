{
 "cells": [
  {
   "cell_type": "markdown",
   "id": "daca6bc6-fbca-4c34-ad98-9b763ea428e7",
   "metadata": {},
   "source": [
    "# 教師なし学習\n",
    "答えの与えられていないデータセットに対して、AIが自ら判断して答えを決めるという教師なし学習\n",
    "\n",
    "- クラスタリング\n",
    "- 主成分分析\n",
    "\n",
    "## クラスタリング\n",
    "データをクラスターに分割する操作のこと</br>\n",
    "クラスタリングには、クラスターの個数を自動で推測する方法と人間が決める方法がある</br>\n",
    "\n",
    "クラスタリングの一例として「k-means法」を使ったデータ操作の様子</br>\n",
    "黒い点がクラスタリングする前の状態</br>\n",
    "紫の点はデータの“重心”と呼ぶパラメーターで、</br>\n",
    "k-means法はこの重心の最適な位置をデータから学習し、その学習した重心を使ってデータをクラスタリング</br>\n",
    "![](./images/clustering.gif)\n",
    "\n",
    "### クラスターの数\n",
    "教師なし学習の目的は、分析したいデータ自身から機械的に特徴を捉えて分析すること</br>\n",
    "この理由から、人がクラスターの個数を決めない手法の方が良いという考え方もある</br>\n",
    "「階層的」と呼ばれる手法は、このクラスターの個数を自動で推定する手法</br>\n",
    "しかし、階層的な手法は比較的多くの計算量が必要</br>\n",
    "データ数が多い場合は、階層的ではない手法が適している場合がある</br>\n"
   ]
  },
  {
   "cell_type": "markdown",
   "id": "90c21c22-428c-44e8-bb6b-3782e11c13ee",
   "metadata": {},
   "source": [
    "## 主成分分析\n",
    "「主成分分析」とは、データを「次元削減」するためによく使う手法</br>\n",
    "次元削減とはデータを表す次元を低くすること</br>\n",
    "例えば、3次元のデータから座標軸を一つ減らして、2次元のグラフを作成できる</br>\n",
    "\n",
    "主成分分析を使えば、異なる種類のデータを組み合わせて、2次元もしくは3次元の一つのグラフを作成できる\n",
    "\n",
    "![](./images/principal_analysis.png)\n",
    "\n",
    "主成分分析を使うと生徒データを2次元のデータに変換できる</br>\n",
    "具体的には、データの特徴を特に示す軸（主成分）を学習する</br>\n",
    "学習した軸でグラフを作り直せば、できるだけ情報を保った一つのグラフで、全てのデータを見やすく示すことができる</br>\n",
    "この軸を決める手法が主成分分析\n"
   ]
  },
  {
   "cell_type": "markdown",
   "id": "080ee4ef-a9e6-4fc5-85c8-ed451687ab99",
   "metadata": {},
   "source": [
    "## ユークリッド距離\n",
    "n次元空間における二点間に拡張したものが、ユークリッド距離</br>\n",
    "ユークリッド距離のことを ノルム と呼ぶこともある</br>\n",
    "\n",
    "![](./images/euclid.png)"
   ]
  },
  {
   "cell_type": "code",
   "execution_count": 2,
   "id": "2b1d73c3-c801-4d27-ac7c-e6117810df9f",
   "metadata": {},
   "outputs": [
    {
     "name": "stdout",
     "output_type": "stream",
     "text": [
      "1.7320508075688772\n"
     ]
    }
   ],
   "source": [
    "# numpyを用いてもユークリッド距離を求める\n",
    "import numpy as np\n",
    "vec_a = np.array([1, 3, 5])\n",
    "vec_b = np.array([2, 4, 6])\n",
    "print(np.linalg.norm(vec_a - vec_b))\n"
   ]
  },
  {
   "cell_type": "markdown",
   "id": "b3080856-671f-4d31-8c0b-4b3f333d6845",
   "metadata": {},
   "source": [
    "## コサイン類似度\n",
    "\n",
    "ベクトルを表す性質　として挙げられるのは　「長さ」と「方向」　</br>\n",
    "2つのベクトルが向いている 「方向」の類似度 とは、単純にそれら 2つのベクトルの成す角度 と対応していると考える</br>\n",
    "2つのベクトルの成す角度をθとすると、θが小さいほど2つのデータは似ていることになる\n",
    "![](./images/cosin.png)\n",
    "\n",
    "以上から、cosθは2つのデータの類似度を表していることがわかる</br>\n",
    "このように2つのベクトルの成す角度のcosをデータの類似度の指標としたものを、「コサイン類似度」と言う</br>\n",
    "![](./images/cosin_v2.png)"
   ]
  },
  {
   "cell_type": "code",
   "execution_count": 4,
   "id": "d5a922aa-d0a1-4a03-b255-755ef82d2c17",
   "metadata": {},
   "outputs": [
    {
     "name": "stdout",
     "output_type": "stream",
     "text": [
      "0.8\n"
     ]
    }
   ],
   "source": [
    "import numpy as np\n",
    "# vec_a = np.array([1, 2, 3])\n",
    "# vec_b = np.array([2, 3, 4])\n",
    "vec_a = np.array([0, 1])\n",
    "vec_b = np.array([3, 4])\n",
    "print(np.dot(vec_a, vec_b) / (np.linalg.norm(vec_a) * np.linalg.norm(vec_b)))"
   ]
  },
  {
   "cell_type": "markdown",
   "id": "593b6ff1-2a97-49b4-a38b-f612597353d7",
   "metadata": {
    "tags": []
   },
   "source": [
    "# クラスタリングの技法\n",
    "## 階層的クラスタリング\n",
    "階層的クラスタリングとはデータの中から最も似ている組み合わせを探し出し、順番にクラスターにしていく方法</br>\n",
    "途中過程で階層構造になることが特徴</br>\n",
    "\n",
    "5つのデータ点A,B,C,D,Eがある</br>\n",
    "この5つのデータの内最も近いもの同士をまとめて、1つのクラスターを作る</br>\n",
    "　　　A,B,C,D,E</br>\n",
    "　　　→ (A,B), C,D,E</br>\n",
    "この場合、この中の組み合わせではA,Bという2つが最も近い点であると計算により判断されたので、</br>\n",
    "(A,B)という1つのクラスターを作る</br>\n",
    "次に新しく出来たクラスターも1つのデータ点とみなす、これを繰り返す</br>\n",
    "　　　→ (A,B), (C,D), E</br>\n",
    "　　　→ (A,B,C,D), E</br>\n",
    "　　　→ (A,B,C,D,E)</br>\n",
    "最後に全データをまとめるクラスターまで行き着けば終了</br>\n",
    "データ点がどのクラスターにまとめられていったのかを表現したのが、下の右図のような樹形図(デンドログラム)</br>\n",
    "![](./images/tree_diagram.png)"
   ]
  },
  {
   "cell_type": "markdown",
   "id": "5e93b772-628d-4658-904e-0eab4864d5cf",
   "metadata": {},
   "source": [
    "## 非階層的クラスタリング\n",
    "非階層的クラスタリングは、階層的クラスタリングと同じようにデータから似た性質のものを探し出し、クラスターを作りますが、階層構造を持たない</br>\n",
    "\n",
    "データが与えられた際、開発者があらかじめクラスターをいくつ分けるかを決定し、その数の分だけデータからクラスターを作る</br>\n",
    "ただし、データごとに 最適なクラスター数は決まっていない</br>\n",
    "階層構造を持たないため、階層的クラスタリングと比べると計算量が少なく、データ量が多い場合に有効な手法</br>\n",
    "非階層的クラスタリングの代表的な手法: k-means法"
   ]
  },
  {
   "cell_type": "markdown",
   "id": "5b713b98-4a4e-4d75-902c-37e08967c329",
   "metadata": {},
   "source": [
    "# k-means法\n",
    "## データの集まり\n",
    "あらかじめデータ構造を保有している練習用のデータを用意\n",
    "クラスター数を指定した分だけデータ内でクラスターが生成される sklearn.datasets 内の make_blobs 関数"
   ]
  },
  {
   "cell_type": "code",
   "execution_count": 11,
   "id": "56b3a6dd-95a0-451a-a509-0a0991aa401f",
   "metadata": {},
   "outputs": [
    {
     "data": {
      "image/png": "[encoded data removed]",
      "text/plain": [
       "<Figure size 432x288 with 1 Axes>"
      ]
     },
     "metadata": {
      "needs_background": "light"
     },
     "output_type": "display_data"
    }
   ],
   "source": [
    "import matplotlib.pyplot as plt\n",
    "from sklearn.datasets import make_blobs\n",
    "\n",
    "# Xには1つのプロットの(x,y)が、Yにはそのプロットの所属するクラスター番号が入る\n",
    "X, Y = make_blobs(n_samples=150,       # サンプル点の総数\n",
    "                  n_features=2,        # 特徴量（次元数）の指定  default:2\n",
    "                  centers=8,           # クラスタの個数\n",
    "                  cluster_std=0.5,     # クラスタ内の標準偏差\n",
    "                  shuffle=True,        # サンプルをシャッフル\n",
    "                  random_state=42)      # 乱数生成器の状態を指定\n",
    "\n",
    "plt.scatter(X[:, 0], X[:, 1], c=\"black\", marker=\"*\", s=50)\n",
    "plt.grid()\n",
    "plt.show()"
   ]
  },
  {
   "cell_type": "markdown",
   "id": "f5c549e4-e118-4c9f-bb28-67af03b74994",
   "metadata": {},
   "source": [
    "## k-means法について\n",
    "k-means法は、データを分散の等しいn個のクラスターに分けることができる手法</br>\n",
    "各クラスターごとにデータの重心にあたる平均値μ_iが割り当てられる、この重心のことを「セントロイド」</br>\n",
    "\n",
    "分散の等しいクラスターに分けるには、「SSE」と呼ばれる指標を用いる</br>\n",
    "SSEとは、各クラスターに含まれるデータ点とセントロイドとの差の2乗和を求めたもの(分散)</br>\n",
    "k-means法はこのSSEを全クラスターで等しくかつ最小化するようにセントロイドを選ぶ\n",
    "\n",
    "### k-means法のアルゴリズム\n",
    "1. データ群の中からk個個(任意の数)のデータ点を抽出(k個の点を初期のセントロイドとする)し、セントロイドの初期化の後、2つのステップを反復\n",
    "2. 全てのデータ点を、最も近いセントロイドにそれぞれ割り振る\n",
    "3. 次に、各k個のセントロイドに割り振られたデータ群の重心を計算し、その重心を新たなセントロイドとして更新\n",
    "\n",
    "ステップ3が終了する度に、前のセントロイドと新しくできたセントロイドの距離を計算する</br>\n",
    "その距離がある程度小さくなったら、上記の反復処理を終了する"
   ]
  },
  {
   "cell_type": "code",
   "execution_count": 20,
   "id": "d7e938e4-3efa-4216-9cbb-4a85e3ecf12c",
   "metadata": {},
   "outputs": [
    {
     "name": "stdout",
     "output_type": "stream",
     "text": [
      "[1 3 1 3 3 5 2 5 5 0 0 1 0 0 0 3 0 0 0 4 4 2 3 1 5 3 3 0 4 5 3 3 2 2 5 2 2\n",
      " 1 4 1 2 2 1 5 1 0 5 0 3 0 5 3 4 2 0 1 2 0 1 0 1 3 2 3 4 3 4 2 5 5 2 3 1 3\n",
      " 3 4 4 2 3 5 5 2 0 5 3 1 5 4 0 3 0 5 3 4 5 1 5 5 1 1 0 2 4 1 0 0 4 4 2 1 0\n",
      " 2 2 4 0 4 5 4 5 0 5 4 4 4 2 4 3 4 2 3 1 0 5 5 2 2 1 4 1 1 1 1 2 4 3 1 5 3\n",
      " 4 2]\n"
     ]
    },
    {
     "data": {
      "image/png": "[encoded data removed]",
      "text/plain": [
       "<Figure size 576x216 with 2 Axes>"
      ]
     },
     "metadata": {
      "needs_background": "light"
     },
     "output_type": "display_data"
    }
   ],
   "source": [
    "import matplotlib.pyplot as plt\n",
    "from sklearn.cluster import KMeans\n",
    "from sklearn.datasets import make_blobs\n",
    "\n",
    "# データセットの作成\n",
    "X, Y = make_blobs(n_samples=150, n_features=2, centers=6,\n",
    "                  cluster_std=0.5, shuffle=True, random_state=0)\n",
    "# print(X)\n",
    "# print(\"#\"*10)\n",
    "# print(Y)\n",
    "# print(\"#\"*10)\n",
    "# k-means法\n",
    "km = KMeans(n_clusters=6, random_state=0)\n",
    "Y_km = km.fit_predict(X)  # Y_kmに各データ点が属するクラスタのラベルが入る\n",
    "# print(Y_km)\n",
    "# グラフの描画\n",
    "fig, (ax1, ax2) = plt.subplots(1, 2, figsize=(8, 3))\n",
    "# 元データをプロット\n",
    "ax1.scatter(X[:, 0], X[:, 1], c=\"black\")\n",
    "ax1.grid()\n",
    "# クラスタリング結果をプロット\n",
    "ax2.scatter(X[Y_km == 0, 0], X[Y_km == 0, 1], c=\"r\", s=40, label=\"cluster 1\")\n",
    "ax2.scatter(X[Y_km == 1, 0], X[Y_km == 1, 1], c=\"b\", s=40, label=\"cluster 2\")\n",
    "ax2.scatter(X[Y_km == 2, 0], X[Y_km == 2, 1], c=\"g\", s=40, label=\"cluster 3\")\n",
    "ax2.scatter(X[Y_km == 3, 0], X[Y_km == 3, 1], c=\"y\", s=40, label=\"cluster 4\")\n",
    "ax2.scatter(X[Y_km == 4, 0], X[Y_km == 4, 1], c=\"k\", s=40, label=\"cluster 5\")\n",
    "ax2.scatter(X[Y_km == 5, 0], X[Y_km == 5, 1], c=\"m\", s=40, label=\"cluster 6\")\n",
    "ax2.grid()\n",
    "plt.show()"
   ]
  },
  {
   "cell_type": "markdown",
   "id": "b3af0a0f-86ee-4288-b942-5438923de4d5",
   "metadata": {},
   "source": [
    "## sklearnのKMeansライブラリ\n",
    "データからクラスターを指定した分探し出し、Y_kmの各サンプルに、自動的にクラスタ番号を格納</br>\n",
    "KMeans クラスには他にも様々な関数がある\n"
   ]
  },
  {
   "cell_type": "code",
   "execution_count": 25,
   "id": "4c42275d-bc97-40c9-a137-c0b3d3efc42e",
   "metadata": {},
   "outputs": [
    {
     "data": {
      "image/png": "[encoded data removed]",
      "text/plain": [
       "<Figure size 432x288 with 1 Axes>"
      ]
     },
     "metadata": {
      "needs_background": "light"
     },
     "output_type": "display_data"
    }
   ],
   "source": [
    "import matplotlib.pyplot as plt\n",
    "import matplotlib.cm as cm\n",
    "import numpy as np\n",
    "from sklearn.cluster import KMeans\n",
    "from sklearn.datasets import make_blobs\n",
    "from matplotlib.axes._axes import _log as matplotlib_axes_logger\n",
    "matplotlib_axes_logger.setLevel('ERROR')\n",
    "\n",
    "# サンプルデータの生成\n",
    "X, Y = make_blobs(n_samples=150, n_features=2, centers=3,\n",
    "                  cluster_std=0.5, shuffle=True, random_state=0)\n",
    "# KMeansクラスからkmインスタンスを作成\n",
    "km = KMeans(n_clusters=3,            # クラスターの個数 # 変更してみてください\n",
    "            init=\"random\",           # セントロイドの初期値をランダムに設定  default: \"k-means++\"\n",
    "            n_init=10,               # 異なるセントロイドの初期値を用いたk-meansの実行回数\n",
    "            max_iter=300,            # k-meansアルゴリズムを繰り返す最大回数\n",
    "            tol=1e-04,               # 収束と判定するための相対的な許容誤差\n",
    "            random_state=0)          # 乱数発生初期化\n",
    "\n",
    "# fit_predictメソッドによりクラスタリングを行う\n",
    "Y_km = km.fit_predict(X)\n",
    "# クラスター番号(Y_km)に応じてデータをプロット\n",
    "for n in range(np.max(Y_km)+1):\n",
    "    plt.scatter(X[Y_km == n, 0], X[Y_km == n, 1], s=50, c=cm.hsv(\n",
    "        float(n) / 10), marker=\"*\", label=\"cluster\"+str(n+1))\n",
    "# セントロイドをプロット、km.cluster_centers_には各クラスターのセントロイドの座標が入っています\n",
    "plt.scatter(km.cluster_centers_[:, 0], km.cluster_centers_[\n",
    "            :, 1], s=250, marker=\"*\", c=\"black\", label=\"centroids\")\n",
    "\n",
    "plt.legend(bbox_to_anchor=(1.05, 0.7), loc=\"upper left\")\n",
    "plt.grid()\n",
    "plt.show()"
   ]
  },
  {
   "cell_type": "markdown",
   "id": "766236d4-ea85-4bdc-a8de-315173de7afc",
   "metadata": {},
   "source": [
    "## SSE: クラスタリングの性能評価\n",
    "クラスタリングの性能評価関数の一つにSSE(クラスタ内誤差平方和)がある</br>\n",
    "SSEを用いることにより様々なk-meansクラスタリングの性能を評価することができる</br>\n",
    "sklearnでは KMeans クラスのinertia_ 属性を通じてSSEの値を取得可能</br>\n",
    "各データが自身の属するクラスター重心からどれほどずれているか(分散)の総和がSSEであるため、</br>\n",
    "<b>SSEの値が小さいほどクラスタリングがうまくいっているモデル</b>\n"
   ]
  },
  {
   "cell_type": "code",
   "execution_count": 24,
   "id": "b175c24a-672c-483f-8fc3-21712a4e078d",
   "metadata": {},
   "outputs": [
    {
     "name": "stdout",
     "output_type": "stream",
     "text": [
      "Distortion: 72.48\n"
     ]
    },
    {
     "data": {
      "image/png": "[encoded data removed]",
      "text/plain": [
       "<Figure size 432x288 with 1 Axes>"
      ]
     },
     "metadata": {
      "needs_background": "light"
     },
     "output_type": "display_data"
    }
   ],
   "source": [
    "import matplotlib.pyplot as plt\n",
    "import matplotlib.cm as cm\n",
    "import numpy as np\n",
    "from sklearn.cluster import KMeans\n",
    "from sklearn.datasets import make_blobs\n",
    "from matplotlib.axes._axes import _log as matplotlib_axes_logger\n",
    "matplotlib_axes_logger.setLevel('ERROR')\n",
    "\n",
    "# サンプルデータの生成\n",
    "X, Y = make_blobs(n_samples=150, n_features=2, centers=3,\n",
    "                  cluster_std=0.5, shuffle=True, random_state=0)\n",
    "# KMeansクラスからkmインスタンスを作成\n",
    "km = KMeans(n_clusters=3,            # クラスターの個数 # 変更してみてください\n",
    "            init=\"random\",           # セントロイドの初期値をランダムに設定  default: \"k-means++\"\n",
    "            n_init=1,               # 異なるセントロイドの初期値を用いたk-meansの実行回数\n",
    "            max_iter=300,            # k-meansアルゴリズムを繰り返す最大回数\n",
    "            tol=1e-04,               # 収束と判定するための相対的な許容誤差\n",
    "            random_state=0)          # 乱数発生初期化\n",
    "\n",
    "# fit_predictメソッドによりクラスタリングを行う\n",
    "Y_km = km.fit_predict(X)\n",
    "# SSE値を出力\n",
    "print(\"Distortion: %.2f\" % km.inertia_)\n",
    "# プロット\n",
    "for n in range(np.max(Y_km)+1):\n",
    "    plt.scatter(X[Y_km == n, 0], X[Y_km == n, 1], s=50, c=cm.hsv(\n",
    "        float(n) / 10), marker=\"*\", label=\"cluster\"+str(n+1))\n",
    "plt.scatter(km.cluster_centers_[:, 0], km.cluster_centers_[\n",
    "            :, 1], s=250, marker=\"*\", c=\"black\", label=\"centroids\")\n",
    "plt.legend(bbox_to_anchor=(1.05, 0.7), loc=\"upper left\")\n",
    "plt.grid()\n",
    "plt.show()"
   ]
  },
  {
   "cell_type": "markdown",
   "id": "56b1d752-9fed-4b9a-a95d-bf57b29a3026",
   "metadata": {},
   "source": [
    "## エルボー法: クラスター数決定手法\n",
    "k-meansクラスタリングで指定するクラスター数はどう決めれば良いかといった問題</br>\n",
    "<b>エルボー法と呼ばれ、クラスタ数を大きくしていった時にSSEがどのように変化するかプロットし、その結果からk-meansのクラスタ数を決定する手法</b><br>\n",
    "出力されるグラフの傾きがガクンと曲がる箇所があり、この時のクラスター数を最適とみなす</br>\n",
    "プロットの形状が肘が曲がっているように見えることから、エルボー法と呼ばれている\n",
    "\n",
    "現実的には演習問題の結果で得られる図のように、綺麗に、ある点でグラフが落ち込むようなエルボー図が得られることはあまりない"
   ]
  },
  {
   "cell_type": "code",
   "execution_count": 26,
   "id": "521f293d-8ffe-44e7-a67a-6e9220363077",
   "metadata": {},
   "outputs": [
    {
     "data": {
      "image/png": "[encoded data removed]",
      "text/plain": [
       "<Figure size 432x288 with 1 Axes>"
      ]
     },
     "metadata": {
      "needs_background": "light"
     },
     "output_type": "display_data"
    }
   ],
   "source": [
    "import matplotlib.pyplot as plt\n",
    "import numpy as np\n",
    "from sklearn.cluster import KMeans\n",
    "from sklearn.datasets import make_blobs\n",
    "\n",
    "# サンプルデータの生成\n",
    "X, Y = make_blobs(n_samples=150, n_features=2, centers=3,\n",
    "                  cluster_std=0.5, shuffle=True, random_state=0)\n",
    "\n",
    "distortions = []\n",
    "for i in range(1, 11):                # クラスター数1~10を一気に計算\n",
    "    km = KMeans(n_clusters=i,\n",
    "                init=\"k-means++\",     # k-means++法によりクラスタ中心を選択\n",
    "                n_init=10,\n",
    "                max_iter=300,\n",
    "                random_state=0)\n",
    "    km.fit(X)                         # クラスタリングを実行\n",
    "    distortions.append(km.inertia_)   # km.fitするとkm.inertia_が得られる\n",
    "\n",
    "# グラフのプロット\n",
    "plt.plot(range(1, 11), distortions, marker=\"o\")\n",
    "plt.xticks(np.arange(1, 11, 1))\n",
    "plt.xlabel(\"Number of clusters\")\n",
    "plt.ylabel(\"Distortion\")\n",
    "plt.show()"
   ]
  },
  {
   "cell_type": "markdown",
   "id": "9c79372c-d6cb-4152-8166-7d3489973ec0",
   "metadata": {},
   "source": [
    "# DBSCANのアルゴリズム\n",
    "k-means法は、出来るだけクラスターの中心にデータが集まるようにクラスタリング</br>\n",
    "そのため、必然的にクラスターは円形(球状)に近い形を取る</br>\n",
    "クラスターの大きさ・形に偏りがないデータの場合は効果を発揮するが、クラスターの大きさ・形に偏りがあるデータの場合は良いクラスタリングができない傾向にある</br>\n",
    "\n",
    "k-means法に対して、別の非階層クラスタリングのアルゴリズムに「DBSCAN」がある</br>\n",
    "「DBSCAN」のアルゴリズムは、クラスターの高密度(データが凝集している)の場所を低密度の場所から分離して捉える</br>\n",
    "クラスターの大きさ・形に偏りがあるデータの場合に有効</br>\n",
    "\n",
    "「DBSCAN」は、min_samplesとepsの2つの指標を用いて、次の3種類にデータ点を分類する</br>\n",
    "1. あるデータの半径 eps 内に min_sample 数だけのデータがある場合、そのデータ点は コア点 とみなす\n",
    "2. コア点ではないが、コア点から半径 eps 内に入っているデータは、ボーダー点とみなる\n",
    "3. どちらにも満たさないデータ点は、ノイズ点とみなす\n",
    "4. コア点の集まりからクラスターを形成\n",
    "\n",
    "ボーダー点は、最も近いコア点の属するクラスターに割り振る</br>\n",
    "このように「DBSCAN」のアルゴリズムは、全データを3つのデータに分類することにより、</br>\n",
    "偏ったデータや、平均的ではないクラスターも分類できるようになり、ノイズを正しく除去することもできる</br>\n",
    "\n",
    "「DBSCAN」の実装には、sklearn.clusterのDBSCANクラスを利用"
   ]
  },
  {
   "cell_type": "code",
   "execution_count": 27,
   "id": "8056c1ac-6ef1-41c3-952d-4d45704896fd",
   "metadata": {},
   "outputs": [
    {
     "data": {
      "image/png": "[encoded data removed]",
      "text/plain": [
       "<Figure size 576x216 with 2 Axes>"
      ]
     },
     "metadata": {
      "needs_background": "light"
     },
     "output_type": "display_data"
    }
   ],
   "source": [
    "import matplotlib.pyplot as plt\n",
    "from sklearn.datasets import make_moons\n",
    "from sklearn.cluster import KMeans\n",
    "from sklearn.cluster import DBSCAN\n",
    "\n",
    "# 月型のデータを生成\n",
    "X, Y = make_moons(n_samples=200, noise=0.05, random_state=0)\n",
    "\n",
    "# グラフと2つの軸を定義 左のax1はk-means法用、右のax2はDBSCAN用\n",
    "f, (ax1, ax2) = plt.subplots(1, 2, figsize=(8, 3))\n",
    "\n",
    "# k-means法\n",
    "km = KMeans(n_clusters=2, random_state=0)\n",
    "Y_km = km.fit_predict(X)\n",
    "\n",
    "ax1.scatter(X[Y_km == 0, 0], X[Y_km == 0, 1], c=\"lightblue\",\n",
    "            marker=\"o\", s=40, label=\"cluster 1\")\n",
    "ax1.scatter(X[Y_km == 1, 0], X[Y_km == 1, 1], c=\"red\",\n",
    "            marker=\"s\", s=40, label=\"cluster 2\")\n",
    "ax1.set_title(\"K-means clustering\")\n",
    "ax1.legend()\n",
    "\n",
    "# DBSCANでクラスタリング\n",
    "db = DBSCAN()\n",
    "Y_db = db.fit_predict(X)\n",
    "\n",
    "ax2.scatter(X[Y_db == 0, 0], X[Y_db == 0, 1], c=\"lightblue\",\n",
    "            marker=\"o\", s=40, label=\"cluster 1\")\n",
    "ax2.scatter(X[Y_db == 1, 0], X[Y_db == 1, 1], c=\"red\",\n",
    "            marker=\"s\", s=40, label=\"cluster 2\")\n",
    "ax2.set_title(\"DBSCAN clustering\")\n",
    "ax2.legend()\n",
    "plt.show()"
   ]
  },
  {
   "cell_type": "markdown",
   "id": "ddb6d884-e5be-465e-b4a4-859454b56109",
   "metadata": {},
   "source": [
    "# 主成分分析\n",
    "主成分分析(Principal Component Analysis : PCA) は、データの要約 （少ないデータ数で元のデータを表現すること）の強力な手法\n",
    "\n",
    "![](./images/principal_component_analysis.png)\n",
    "\n",
    "例: 主成分分析を用いて10人の学生の数学と国語の得点データ（2次元）を圧縮し1次元に変換するイメージ</br>\n",
    "主成分分析を用いると、全部のデータを最も効率よく説明できるような軸（第一主成分の軸）とそれだけでは説明しきれないデータを最も効率よく説明する軸（第二主成分の軸）が作られる</br>\n",
    "第一主成分は元のデータをよく表現できるので、第二主成分の情報を捨てる（使わない）ことで効率よくデータの圧縮ができる</br>\n",
    "主成分分析の実用例として、製品やサービスのスコアリングや比較（1次元に圧縮）、データの可視化（2,3次元に圧縮）、回帰分析の前処理、などがあげられる</br>\n",
    "主成分分析は実用性が高く、機械学習の分野において重要なテーマの一つ\n"
   ]
  },
  {
   "cell_type": "markdown",
   "id": "9833ac29-2639-4074-857e-ed3ff19143ab",
   "metadata": {},
   "source": [
    "## 特徴変換までの流れ\n",
    "主成分分析を使って、以下の手順で　データの圧縮（特徴変換）\n",
    "1. データを標準化\n",
    "2. 特徴同士の相関行列を計算\n",
    "3. 相関行列の固有ベクトルと固有値を求める\n",
    "4. 得られた固有値を大きい方からk個選び、対応する固有ベクトルを選択(kの値は、圧縮したい次元数を指定)\n",
    "5. k個の固有ベクトルから特徴変換行列 {W} 作成\n",
    "6. d次元のデータ {X} と行列 {W} で行列の積をとり、k次元に変換されたデータ {X'}を得る\n",
    "\n",
    "以下の図は、このチャプターで扱うワインのデータセットを 特徴変換し、データを13次元から2次元に要約したイメージ</br>\n",
    "![](./images/wine_principal.png)\n"
   ]
  },
  {
   "cell_type": "markdown",
   "id": "0130d98e-cee7-447b-92c0-9907a82c46a9",
   "metadata": {},
   "source": [
    "## データの用意\n",
    "主成分分析: UCI Machine Learning Repository</br>\n",
    "178行分のワインサンプルに対して、ぶどうの種類データ（1〜3のラベル）とワインの化学的性質を表す特徴量データ（13種類）で構成されている\n",
    "\n",
    "## 標準化\n",
    "標準化とは、各特徴量について、平均が0、分散が1となるように、ワインのデータをあらかじめ変換すること"
   ]
  },
  {
   "cell_type": "code",
   "execution_count": 31,
   "id": "db8dab45-a539-4f7f-8d33-16ea33302448",
   "metadata": {},
   "outputs": [
    {
     "name": "stdout",
     "output_type": "stream",
     "text": [
      "(177, 13)\n"
     ]
    },
    {
     "data": {
      "image/png": "[encoded data removed]",
      "text/plain": [
       "<Figure size 576x216 with 2 Axes>"
      ]
     },
     "metadata": {
      "needs_background": "light"
     },
     "output_type": "display_data"
    },
    {
     "name": "stdout",
     "output_type": "stream",
     "text": [
      "after\n",
      "mean:  [-5.21867546e-16  2.81005602e-16 -3.81364745e-16 -2.40861944e-16\n",
      " -8.02873148e-17 -2.81005602e-16  1.60574630e-16 -6.02154861e-16\n",
      " -4.01436574e-17  1.80646458e-16  6.02154861e-16  7.22585833e-16\n",
      "  1.60574630e-16] \n",
      "std:  [1. 1. 1. 1. 1. 1. 1. 1. 1. 1. 1. 1. 1.]\n"
     ]
    }
   ],
   "source": [
    "import pandas as pd\n",
    "# https://archive-beta.ics.uci.edu/ml/datasets/wine\n",
    "df_wine = pd.read_csv(\"./csv/wine.data\")\n",
    "# 特徴量データをXに、ラベルデータをyに格納\n",
    "# df_wineの1列目はラベルデータ、2列目以降は特徴量データ\n",
    "X, y = df_wine.iloc[:, 1:].values, df_wine.iloc[:, 0].values\n",
    "print(X.shape)\n",
    "\n",
    "# 標準化\n",
    "X = (X - X.mean(axis=0)) / X.std(axis=0)\n",
    "\n",
    "# 標準化後のデータを可視化\n",
    "fig, (ax1, ax2) = plt.subplots(1, 2, figsize=(8, 3))\n",
    "ax1.set_title('after')\n",
    "ax2.set_title('after')\n",
    "ax1.scatter(X[:, 0], X[:, 1])\n",
    "ax2.scatter(X[:, 5], X[:, 6])\n",
    "plt.show()\n",
    "\n",
    "print(\"after\")\n",
    "print(\"mean: \", X.mean(axis=0), \"\\nstd: \", X.std(axis=0))"
   ]
  },
  {
   "cell_type": "markdown",
   "id": "660ae5ed-b2be-4637-80ca-1072459a9531",
   "metadata": {},
   "source": [
    "## 相関行列の計算\n",
    "相関係数は、2つのデータ間の直線的な関係性の強さを表す指標で -1〜1の値をとる</br>\n",
    "特徴量ごとの類似度を調べるため、データの 相関行列を計算する</br>\n",
    "\n",
    "相関係数が1に近い（正の相関が強い）ときは、左の図のように二つのデータは片方が増加するともう片方も増加するような一次関数的な分布をとる</br>\n",
    "負の相関が強いときは片方が増加するともう片方は減少するような一次関数的な分布をとる</br>\n",
    "\n",
    "ワインの13種類の特徴データについて、それぞれの相関係数を保持する13x13の相関行列を求める</br>\n",
    "求める 相関行列 は以下の通り</br>\n",
    "![](./images/correlation_matrix.png)\n",
    "\n",
    "このままではデータ同士の相関行列が求まってしまう</br>\n",
    "データ同士ではなく特徴同士の相関行列を求めるため、correcoef(X.T)で{X}を転置する</br>\n",
    "発展的な話になりますが、相関行列自体は標準化前の {X} を用いても同様に計算可能</br>\n",
    "ここでは、この後のために、あらかじめ標準化している</br>\n",
    "また、相関行列ではなく共分散行列を使った主成分分析もある</br>\n"
   ]
  },
  {
   "cell_type": "code",
   "execution_count": 34,
   "id": "d3eb20ca-616f-444d-9623-98641672b017",
   "metadata": {},
   "outputs": [
    {
     "name": "stdout",
     "output_type": "stream",
     "text": [
      "0.8640455398784799\n",
      "(array([5, 6]), array([6, 5]))\n"
     ]
    }
   ],
   "source": [
    "import pandas as pd\n",
    "import numpy as np\n",
    "\n",
    "# https://archive-beta.ics.uci.edu/ml/datasets/wine\n",
    "df_wine = pd.read_csv(\"./csv/wine.data\")\n",
    "X, y = df_wine.iloc[:, 1:].values, df_wine.iloc[:, 0].values\n",
    "\n",
    "# 相関行列（13x13）を作成\n",
    "# データ同士ではなく特徴同士の相関行列を求めるため、correcoef(X.T)で{X}を転置する\n",
    "R = np.corrcoef(X.T)\n",
    "# 対角成分を0に転換\n",
    "_R = R - np.identity(13)\n",
    "# 最大相関係数をとるインデックスを取得\n",
    "index = np.where(_R == _R.max())\n",
    "\n",
    "print(_R[index[0][0], index[0][1]])\n",
    "print(index)"
   ]
  },
  {
   "cell_type": "markdown",
   "id": "0dd8b980-8e74-4b0b-a620-ccc9fadd3ac7",
   "metadata": {},
   "source": [
    "## 固有値と固有ベクトルに分解\n",
    "相関行列を固有値と固有ベクトルに分解を行うと、もとの13x13次元の行列 {R} は、</br>\n",
    "13個の特別な13次元ベクトル （固有ベクトル） v_1 〜 v_13と13個の特別な数 （固有値）lambda_1 〜 lambda_13 に分解される</br>\n",
    "直感的には、元の行列は 固有ベクトルの方向に情報が集中しており、対応する固有値は情報の集中の度合いを示している</br>\n",
    "\n",
    "numpyを使って以下のように固有値分解を計算可能</br>\n",
    "{R}の固有値13個と固有ベクトル13個がそれぞれ、 eigvals と eigvecs に格納される</br>\n",
    "\n",
    "```python\n",
    "import numpy as np\n",
    "# 相関行列から固有対を取得。\n",
    "# numpy.linalg.eighはそれらを固有値の昇順で返す\n",
    "eigvals, eigvecs = np.linalg.eigh(R)\n",
    "```\n",
    "\n",
    "![](./images/fixed_vector.png)\n"
   ]
  },
  {
   "cell_type": "code",
   "execution_count": 36,
   "id": "db0d47bd-2819-4005-9e65-2eb2627a4f5e",
   "metadata": {},
   "outputs": [
    {
     "data": {
      "image/png": "[encoded data removed]",
      "text/plain": [
       "<Figure size 432x288 with 1 Axes>"
      ]
     },
     "metadata": {
      "needs_background": "light"
     },
     "output_type": "display_data"
    },
    {
     "name": "stdout",
     "output_type": "stream",
     "text": [
      "[0.10394972 0.16837682 0.22544019 0.24680867 0.28918002 0.35073883\n",
      " 0.55198181 0.64484771 0.86173674 0.92444413 1.45332981 2.50136634\n",
      " 4.6777992 ]\n"
     ]
    }
   ],
   "source": [
    "import pandas as pd\n",
    "import numpy as np\n",
    "import matplotlib.pyplot as plt\n",
    "\n",
    "# https://archive-beta.ics.uci.edu/ml/datasets/wine\n",
    "df_wine = pd.read_csv(\"./csv/wine.data\")\n",
    "X, y = df_wine.iloc[:, 1:].values, df_wine.iloc[:, 0].values\n",
    "\n",
    "# 相関行列（13x13）を作成\n",
    "R = np.corrcoef(X.T)\n",
    "\n",
    "# 固有値分解\n",
    "eigvals, eigvecs = np.linalg.eigh(R)\n",
    "\n",
    "# 可視化\n",
    "plt.bar(range(13), eigvals)\n",
    "plt.title(\"distribution of eigvals\")\n",
    "plt.xlabel(\"index\")\n",
    "plt.ylabel(\"eigvals\")\n",
    "plt.show()\n",
    "\n",
    "# 消さないでください。実行結果の確認に使います。\n",
    "print(eigvals)"
   ]
  },
  {
   "cell_type": "markdown",
   "id": "0668dcd1-266a-4457-8d82-368c437c00ef",
   "metadata": {},
   "source": [
    "## 特徴変換\n",
    "ここまで、相関行列を固有値と固有ベクトルに分解した</br>\n",
    "次に、その中から最大の固有値と2番目に大きい固有値に対応する2つの固有ベクトルを用いて、</br>\n",
    "13次元の特徴量を2次元に変換する13x2の行列 {W} を作り、</br>\n",
    "13次元特徴量を持つWineデータ {X} を、第一主成分と第二主成分の2次元の特徴量のみを持つ新たなWineデータ {X'}に変換(=特徴変換)</br>\n"
   ]
  },
  {
   "cell_type": "code",
   "execution_count": 39,
   "id": "604eaa4e-3865-4865-8593-b421623e1085",
   "metadata": {},
   "outputs": [
    {
     "data": {
      "image/png": "[encoded data removed]",
      "text/plain": [
       "<Figure size 432x288 with 1 Axes>"
      ]
     },
     "metadata": {
      "needs_background": "light"
     },
     "output_type": "display_data"
    }
   ],
   "source": [
    "import pandas as pd\n",
    "import numpy as np\n",
    "import matplotlib.pyplot as plt\n",
    "\n",
    "# https://archive-beta.ics.uci.edu/ml/datasets/wine\n",
    "df_wine = pd.read_csv(\"./csv/wine.data\")\n",
    "X, y = df_wine.iloc[:, 1:].values, df_wine.iloc[:, 0].values\n",
    "\n",
    "# 標準化\n",
    "X = (X - X.mean(axis=0)) / X.std(axis=0)\n",
    "\n",
    "# 相関行列の取得\n",
    "R = np.corrcoef(X.T)\n",
    "\n",
    "# 固有値分解\n",
    "eigvals, eigvecs = np.linalg.eigh(R)\n",
    "\n",
    "# 変換行列の取得\n",
    "# 13次元の特徴量を2次元に変換する13x2の行列 {W}\n",
    "W = np.c_[eigvecs[:, -1], eigvecs[:, -2]]\n",
    "\n",
    "# 特徴変換\n",
    "# 13次元特徴量を持つWineデータ {X} を、第一主成分と第二主成分の2次元の特徴量のみを持つ新たなWineデータ {X'}に変換\n",
    "X_pca = X.dot(W)\n",
    "\n",
    "# 可視化\n",
    "color = [\"r\", \"b\", \"g\"]\n",
    "marker = [\"s\", \"x\", \"o\"]\n",
    "for label, color, marker in zip(np.unique(y), color, marker):\n",
    "    plt.scatter(X_pca[y == label, 0], X_pca[y == label, 1],\n",
    "                c=color, marker=marker, label=label)\n",
    "plt.xlabel(\"PC 1\")\n",
    "plt.ylabel(\"PC 2\")\n",
    "plt.legend(loc=\"lower left\")\n",
    "plt.show()\n"
   ]
  },
  {
   "cell_type": "markdown",
   "id": "f09264e2-2f90-41ab-b32c-7385d44238d3",
   "metadata": {},
   "source": [
    "## scikit-learnを使った主成分分析\n",
    "ここまで、一つずつステップを踏んで主成分分析を用いた特徴変換を実装したが</br>\n",
    "実は同様のことを、 sklearn.decomposition の PCA クラスを用いて簡単にできる</br>\n",
    "\n",
    "fit_transform() メソッドでは、内部で自動的に変換行列を生成している"
   ]
  },
  {
   "cell_type": "code",
   "execution_count": 41,
   "id": "b6e060f4-853e-47a0-9899-fbacd02d9f33",
   "metadata": {},
   "outputs": [
    {
     "data": {
      "image/png": "[encoded data removed]",
      "text/plain": [
       "<Figure size 432x288 with 1 Axes>"
      ]
     },
     "metadata": {
      "needs_background": "light"
     },
     "output_type": "display_data"
    }
   ],
   "source": [
    "import pandas as pd\n",
    "import numpy as np\n",
    "import matplotlib.pyplot as plt\n",
    "\n",
    "from sklearn.decomposition import PCA\n",
    "\n",
    "df_wine = pd.read_csv(\"./csv/wine.data\")\n",
    "X, y = df_wine.iloc[:, 1:].values, df_wine.iloc[:, 0].values\n",
    "X = (X - X.mean(axis=0)) / X.std(axis=0)\n",
    "\n",
    "# 主成分分析のインスタンスを生成。主成分数は2\n",
    "pca = PCA(n_components=2)\n",
    "\n",
    "# データから変換モデルを学習し、変換\n",
    "X_pca = pca.fit_transform(X)\n",
    "\n",
    "# 可視化\n",
    "color = [\"r\", \"b\", \"g\"]\n",
    "marker = [\"s\", \"x\", \"o\"]\n",
    "for label, color, marker in zip(np.unique(y), color, marker):\n",
    "    plt.scatter(X_pca[y == label, 0], X_pca[y == label, 1],\n",
    "                c=color, marker=marker, label=label)\n",
    "plt.xlabel(\"PC 1\")\n",
    "plt.ylabel(\"PC 2\")\n",
    "plt.legend(loc=\"lower left\")\n",
    "plt.show()"
   ]
  },
  {
   "cell_type": "markdown",
   "id": "8b59e39d-d4d5-49d6-ae64-a3526111750f",
   "metadata": {},
   "source": [
    "## 前処理としての主成分分析\n",
    "ここまで学んだことを応用して、回帰分析の前処理に主成分分析を適用する</br>\n",
    "あらかじめデータを圧縮することで、外れ値などの外乱に強く、より汎用性の高い回帰分析モデルを生成できる</br>\n",
    "\n",
    "特徴変換を行う際、トレーニングデータとテストデータで違う変換行列を求めて特徴変換を行ってしまうと、</br>\n",
    "変換行列が異なってしまうために特徴変換後のデータを比較することができない</br>\n",
    "※標準化についても同様</br>\n",
    "これでは不便なことがあるので、<b>標準化と主成分分析を行う際はトレーニングデータとテストデータで共通の基準を使う</b>\n",
    "標準化する際は、以下のように StandardScalar クラスを用いると便利\n",
    "```python\n",
    "from sklearn.preprocessing import StandardScaler\n",
    "# 標準化のためのインスタンスを生成\n",
    "sc = StandardScaler()\n",
    "# トレーニングデータから変換モデルを学習し、テストデータに同じモデルを適用\n",
    "X_train_std = sc.fit_transform(X_train)\n",
    "X_test_std = sc.transform(X_test)\n",
    "```\n",
    "主成分分析する際は、 PCA クラスを以下のように使う\n",
    "```python\n",
    "from sklearn.decomposition import PCA\n",
    "# 主成分分析のインスタンスを生成\n",
    "pca = PCA(n_components=2)\n",
    "# トレーニングデータから変換モデルを学習し、テストデータに同じモデルを適用\n",
    "X_train_pca = pca.fit_transform(X_train_std)\n",
    "X_test_pca = pca.transform(X_test_std)\n",
    "```\n",
    "\n",
    "回帰分析は以下のように行う\n",
    "```python\n",
    "from sklearn.linear_model import LogisticRegression\n",
    "# ロジスティック回帰のインスタンスを生成\n",
    "lr = LogisticRegression()\n",
    "# 分類モデルを学習\n",
    "lr.fit(X, y)\n",
    "# スコアの表示\n",
    "print(lr.score(X, y))\n",
    "```\n",
    "\n",
    "### なぜ `test data` に対しては、transform() methodを使うのか？\n",
    "We want scaling to be applied to our test data too</br>\n",
    "and at the same time do not want to be biased with our model.</br>\n",
    "We want our test data to be a completely new and a surprise set for our model.</br>\n",
    "The transform method helps us in this case.</br>\n"
   ]
  },
  {
   "cell_type": "code",
   "execution_count": 44,
   "id": "545ae716-9d06-4238-9a51-3b3916f83564",
   "metadata": {},
   "outputs": [
    {
     "name": "stdout",
     "output_type": "stream",
     "text": [
      "0.9811320754716981\n",
      "0.9583333333333334\n"
     ]
    }
   ],
   "source": [
    "import pandas as pd\n",
    "import matplotlib.pyplot as plt\n",
    "\n",
    "from sklearn.model_selection import train_test_split\n",
    "from sklearn.preprocessing import StandardScaler\n",
    "from sklearn.decomposition import PCA\n",
    "from sklearn.linear_model import LogisticRegression\n",
    "\n",
    "df_wine = pd.read_csv(\"./csv/wine.data\", header=None)\n",
    "\n",
    "X, y = df_wine.iloc[:, 1:].values, df_wine.iloc[:, 0].values\n",
    "X_train, X_test, y_train, y_test = train_test_split(\n",
    "    X, y, test_size=0.4, random_state=0)\n",
    "\n",
    "# 標準化のためのインスタンスを生成\n",
    "sc = StandardScaler()\n",
    "# トレーニングデータから変換モデルを学習し、テストデータに適用\n",
    "X_train_std = sc.fit_transform(X_train)\n",
    "X_test_std = sc.transform(X_test)\n",
    "\n",
    "# 主成分分析のインスタンスを生成\n",
    "pca = PCA(n_components=2)\n",
    "# トレーニングデータから変換モデルを学習し、テストデータに適用\n",
    "X_train_pca = pca.fit_transform(X_train_std)\n",
    "X_test_pca = pca.transform(X_test_std)\n",
    "\n",
    "# ロジスティック回帰のインスタンスを生成\n",
    "lr = LogisticRegression()\n",
    "# 次元削減後のトレーニングデータで分類モデルを学習\n",
    "lr.fit(X_train_pca, y_train)\n",
    "\n",
    "# スコアの表示\n",
    "print(lr.score(X_train_pca, y_train))\n",
    "print(lr.score(X_test_pca, y_test))"
   ]
  },
  {
   "cell_type": "markdown",
   "id": "c17b2eec-1318-4765-89de-a67ce4347c89",
   "metadata": {},
   "source": [
    "# カーネル主成分分析\n",
    "回帰分析など、機械学習の多くのアルゴリズムは線形分離できるデータが与えられることを前提として、</br>\n",
    "現実問題として線形分離することが困難なデータ、つまり非線形分離する必要があるデータがほとんど</br>\n",
    "非線形分離する必要があるデータに対処できるカーネル化されたPCA、 「カーネルPCA(kernel PCA)」 について取り上げる</br>\n",
    "\n",
    "カーネルPCA では与えられたNxM（データ数✕特徴の種類）のデータ {X} を、</br>\n",
    "全く新しいNxM´（データ数✕特徴の種類）のデータ{K} に作り変える （カーネルトリック）</br>\n",
    "カーネルトリックを用いると一般的に特徴の種類は多くなり（特徴量が展開され）、線形分離させやすくなる</br>\n",
    "\n",
    "非線形性の高いデータに対して主成分分析を用いてもうまく行かないことが知られているが、</br>\n",
    "データをカーネル行列 {K} に展開することで主成分分析ができる</br>\n",
    "\n",
    "下の図は、円形に分布する2次元のデータに、カーネルトリックで特徴量を増やした後、主成分分析により特徴量を2つに戻してプロットした図</br>\n",
    "カーネルPCAを用いると、以下のような2次元空間で線形分離不可能なデータを線形分離可能なデータに変換することができる</br>\n",
    "![](./images/kernel_principal.png)"
   ]
  },
  {
   "cell_type": "markdown",
   "id": "0b0313b4-8d3f-4a06-a79d-9c52b1383039",
   "metadata": {},
   "source": [
    "## カーネルトリックⅠ\n",
    "カーネル(類似度)行列 {K} を計算する</br>\n",
    "以下のような行列をカーネル行列といい、全てのサンプルデータのペアごとに類似度を計算している</br>\n",
    "NxM（データ数x特徴の種類）のデータ {X} のカーネル行列は、NxN （データ数xデータ数）になる</br>\n",
    "カーネル行列 {K} をデータのように扱って、回帰や分類といった解析ができるようになる\n",
    "![](./images/kernel_vectors.png)\n",
    "\n",
    "![](./images/unsupervised_chap3_5.png)\n",
    "\n",
    "γを大きくすると、 より近接するものだけに注目したような特徴量行列 {K} が作られる\n",
    "\n"
   ]
  },
  {
   "cell_type": "markdown",
   "id": "4288c910-738f-43d5-87ff-2ddbe5b7534b",
   "metadata": {},
   "source": [
    "## カーネルトリックⅡ\n",
    "カーネルトリックに用いる以下の関数を実装</br>\n",
    "以下のようにしてカーネル行列を計算できる</br>\n",
    "![](./images/kernel_function.png)\n",
    "\n",
    "```python\n",
    "# データ同士の距離の2乗（平方ユークリッド距離）を計算\n",
    "M = np.sum((X - X[:, np.newaxis])**2, axis=2)\n",
    "# カーネル行列を計算\n",
    "K = np.exp(-gamma * M)\n",
    "```\n",
    "\n",
    "ここではデータ間の距離の取得に、NumPy配列のブロードキャストという機能（自動的に行列を展開して行列の形を揃え、演算を実行する）を使っている\n",
    "\n",
    "### 平方ユークリッド距離の計算方法\n",
    "```python\n",
    "M = np.sum((X - X[:, np.newaxis])**2, axis=2)\n",
    "```\n",
    "上述したように、ここでは異なるNumPy配列のshapeを自動で揃えて演算を行う「ブロードキャスト」を使っている</br>\n",
    "ブロードキャストは以下のステップで実行される</br>\n",
    "\n",
    "1. 次元数が違う場合、少ない方のNumPy配列の先頭に要素数1の次元を追加する\n",
    "2. 各次元のサイズ（要素数）が一致しているか、末尾の次元からチェックする\n",
    "3. サイズが合わない場合、片方のサイズが1であれば要素をコピーしてもう一方の配列のサイズに合わせる(どちらのサイズも1でなければValueError)\n",
    "4. 全次元のサイズが一致した時点でブロードキャスト終了"
   ]
  },
  {
   "cell_type": "code",
   "execution_count": 46,
   "id": "6aaa6f88-9cca-4753-acee-7da241e98605",
   "metadata": {},
   "outputs": [
    {
     "name": "stdout",
     "output_type": "stream",
     "text": [
      "(8, 3)\n",
      "(8, 8)\n"
     ]
    }
   ],
   "source": [
    "import numpy as np\n",
    "\n",
    "np.random.seed(39)\n",
    "\n",
    "X = np.random.rand(8, 3)\n",
    "\n",
    "# ペアごとの平方ユークリッド距離を計算\n",
    "M = np.sum((X - X[:, np.newaxis])**2, axis=2)\n",
    "\n",
    "# カーネル行列を計算\n",
    "gamma = 15\n",
    "K = np.exp(-gamma * M)\n",
    "print(X.shape)\n",
    "print(K.shape)\n",
    "# print(M)\n",
    "# print(K)"
   ]
  },
  {
   "cell_type": "markdown",
   "id": "1aa7c229-a755-4555-97fa-9dc86b396210",
   "metadata": {},
   "source": [
    "## 特徴変換\n",
    "標準的な主成分分析手法と同様に、カーネル行列 {K} に固有値分解、特徴変換などを行うと、線形分離可能なデータ{X'}に変換できる</br>\n",
    "もともと {K} は {X} の特徴量を展開したものですから、 {K} を特徴変換して得られる行列は、 {X} の特徴量を変換した行列として扱うことができる</br>\n",
    "\n",
    "![](./images/unsupervised_chap3_4.png)\n"
   ]
  },
  {
   "cell_type": "code",
   "execution_count": 48,
   "id": "3f4188f1-3008-4867-a26b-e7ca751212d8",
   "metadata": {},
   "outputs": [
    {
     "data": {
      "image/png": "[encoded data removed]",
      "text/plain": [
       "<Figure size 576x216 with 2 Axes>"
      ]
     },
     "metadata": {
      "needs_background": "light"
     },
     "output_type": "display_data"
    }
   ],
   "source": [
    "import numpy as np\n",
    "import matplotlib.pyplot as plt\n",
    "from sklearn.datasets import make_circles\n",
    "\n",
    "# データが円状に分布するデータを取得\n",
    "X, y = make_circles(n_samples=1000, random_state=123, noise=0.1, factor=0.2)\n",
    "\n",
    "# ペアごとの平方ユークリッド距離を計算\n",
    "M = np.sum((X-X[:, np.newaxis])**2, axis=2)\n",
    "\n",
    "# 対称カーネル行列を計算。γの値は15\n",
    "gamma = 15\n",
    "K = np.exp(-gamma*M)\n",
    "\n",
    "# カーネル行列から固有対を取得。 numpy.linalg.eighにより、それらを固有値の昇順で返す\n",
    "eigvals, eigvecs = np.linalg.eigh(K)\n",
    "# 固有値の値が大きい順に2つ、対応する固有ベクトルを抽出\n",
    "W = np.c_[eigvecs[:, -1], eigvecs[:, -2]]\n",
    "\n",
    "# KとWの内積を求めて線形分離可能なデータを計算\n",
    "X_kpca = np.dot(K, W)\n",
    "\n",
    "# 可視化\n",
    "fig, (ax1, ax2) = plt.subplots(1, 2, figsize=(8, 3))\n",
    "ax1.scatter(X[y == 0, 0], X[y == 0, 1], color=\"r\", marker=\"^\")\n",
    "ax1.scatter(X[y == 1, 0], X[y == 1, 1], color=\"b\", marker=\"o\")\n",
    "ax2.scatter(X_kpca[y == 0, 0], X_kpca[y == 0, 1], color=\"r\", marker=\"^\")\n",
    "ax2.scatter(X_kpca[y == 1, 0], X_kpca[y == 1, 1], color=\"b\", marker=\"o\")\n",
    "ax1.set_title(\"circle_data\")\n",
    "ax2.set_title(\"kernel_pca\")\n",
    "plt.show()"
   ]
  },
  {
   "cell_type": "markdown",
   "id": "4cfb52b8-1ba9-49e1-91e8-abd97bdf0bbd",
   "metadata": {},
   "source": [
    "## scikit-learnを使ったカーネル主成分分析\n",
    "カーネル主成分分析は、標準のPCAと同じように sklearn.decomposition を使って簡単に実装できる</br>\n",
    "また、引数で圧縮後の次元の数と、標準のPCAにはなかったカーネルの種類を指定することができる</br>\n"
   ]
  },
  {
   "cell_type": "code",
   "execution_count": 49,
   "id": "5f4fe462-f759-4236-9ef5-b34bfcdaa665",
   "metadata": {},
   "outputs": [
    {
     "data": {
      "image/png": "[encoded data removed]",
      "text/plain": [
       "<Figure size 576x216 with 2 Axes>"
      ]
     },
     "metadata": {
      "needs_background": "light"
     },
     "output_type": "display_data"
    }
   ],
   "source": [
    "import matplotlib.pyplot as plt\n",
    "\n",
    "from sklearn.datasets import make_moons\n",
    "from sklearn.decomposition import KernelPCA\n",
    "# 月形データを取得\n",
    "X, y = make_moons(n_samples=100, random_state=123)\n",
    "\n",
    "# KernelPCAクラスをインスタンス化\n",
    "kpca = KernelPCA(n_components=2, kernel=\"rbf\", gamma=15)\n",
    "# データXをKernelPCAを用いて変換\n",
    "X_kpca = kpca.fit_transform(X)\n",
    "\n",
    "# 可視化\n",
    "fig, (ax1, ax2) = plt.subplots(1, 2, figsize=(8, 3))\n",
    "ax1.scatter(X[y == 0, 0], X[y == 0, 1], c=\"r\")\n",
    "ax1.scatter(X[y == 1, 0], X[y == 1, 1], c=\"b\")\n",
    "ax1.set_title(\"moon_data\")\n",
    "ax2.scatter(X_kpca[y == 0, 0], X_kpca[y == 0, 1], c=\"r\")\n",
    "ax2.scatter(X_kpca[y == 1, 0], X_kpca[y == 1, 1], c=\"b\")\n",
    "ax2.set_title(\"kernel_PCA\")\n",
    "plt.show()\n"
   ]
  },
  {
   "cell_type": "code",
   "execution_count": null,
   "id": "5dc5d787-3623-4dbb-86de-8903a7d9da55",
   "metadata": {},
   "outputs": [],
   "source": []
  },
  {
   "cell_type": "code",
   "execution_count": null,
   "id": "d15d433a-f820-499a-a043-b046404f87a6",
   "metadata": {},
   "outputs": [],
   "source": []
  },
  {
   "cell_type": "code",
   "execution_count": null,
   "id": "ed9f5b15-6605-46ba-8b4e-d3a4612915cd",
   "metadata": {},
   "outputs": [],
   "source": []
  },
  {
   "cell_type": "code",
   "execution_count": null,
   "id": "47a26b80-ea2d-410a-922b-55f6d5f17d67",
   "metadata": {},
   "outputs": [],
   "source": []
  },
  {
   "cell_type": "code",
   "execution_count": null,
   "id": "f0babdaf-ac12-45ce-a9a1-e2ecbd100886",
   "metadata": {},
   "outputs": [],
   "source": []
  },
  {
   "cell_type": "code",
   "execution_count": null,
   "id": "b9459c40-090a-4f83-90d6-142ad202f5e5",
   "metadata": {},
   "outputs": [],
   "source": []
  }
 ],
 "metadata": {
  "kernelspec": {
   "display_name": "Python 3 (ipykernel)",
   "language": "python",
   "name": "python3"
  },
  "language_info": {
   "codemirror_mode": {
    "name": "ipython",
    "version": 3
   },
   "file_extension": ".py",
   "mimetype": "text/x-python",
   "name": "python",
   "nbconvert_exporter": "python",
   "pygments_lexer": "ipython3",
   "version": "3.9.9"
  }
 },
 "nbformat": 4,
 "nbformat_minor": 5
}
