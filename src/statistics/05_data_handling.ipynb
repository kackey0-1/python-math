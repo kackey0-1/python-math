{
 "cells": [
  {
   "cell_type": "markdown",
   "id": "9ce7cc97-92fe-4813-92ea-eb53105a1ada",
   "metadata": {},
   "source": [
    "# データハンドリング"
   ]
  },
  {
   "cell_type": "markdown",
   "id": "8f1b3d95-04d8-4736-a4c1-8d194a986257",
   "metadata": {},
   "source": [
    "## Str Handling"
   ]
  },
  {
   "cell_type": "code",
   "execution_count": 91,
   "id": "dd1c8300-53e7-4c50-8c35-4a910145056f",
   "metadata": {},
   "outputs": [
    {
     "name": "stdout",
     "output_type": "stream",
     "text": [
      "CEO             Aidemy :   Ishikawa Akihiko   Apple :       Tim Cook       Facebook :   Mark Zuckerbarg   \n",
      "location        Aidemy :        Japan         Apple :       America        Facebook :       America       \n",
      "founded_year    Aidemy :         2014         Apple :         1976         Facebook :         2004        \n"
     ]
    }
   ],
   "source": [
    "dic = {\n",
    "    \"CEO\" : {\"Aidemy\" : \"Ishikawa Akihiko\", \"Apple\" : \"Tim Cook\", \"Facebook\" : \"Mark Zuckerbarg\" },\n",
    "    \"location\" : {\"Aidemy\" : \"Japan\", \"Apple\" : \"America\", \"Facebook\" : \"America\"},\n",
    "    \"founded_year\" : {\"Aidemy\" : 2014, \"Apple\" : 1976, \"Facebook\" : 2004}\n",
    "}\n",
    "# str.format()関数のオプションを指定することによって、文字幅を揃えてください。\n",
    "for key in dic:\n",
    "    print(\"{0:<15} Aidemy : {1[Aidemy]:^20} Apple : {1[Apple]:^20} Facebook : {1[Facebook]:^20}\".format(key, dic[key]))"
   ]
  },
  {
   "cell_type": "code",
   "execution_count": 4,
   "id": "4399b957-3e9c-4850-87ed-9c53b8f70c2c",
   "metadata": {},
   "outputs": [
    {
     "data": {
      "image/png": "[encoded data removed]",
      "text/plain": [
       "<Figure size 432x288 with 1 Axes>"
      ]
     },
     "metadata": {
      "needs_background": "light"
     },
     "output_type": "display_data"
    }
   ],
   "source": [
    "import pandas as pd\n",
    "import matplotlib.pyplot as plt\n",
    "\n",
    "stock_data = pd.read_csv('./csv/OSlist.csv')\n",
    "stock_data.plot()\n",
    "plt.show()"
   ]
  },
  {
   "cell_type": "markdown",
   "id": "681af20b-b46b-45f1-b323-4dfbabddbabb",
   "metadata": {},
   "source": [
    "## Protocol Buffers\n",
    "\n",
    "print(family)Protocol BuffersはあらかじめMessage Typeというものを定義してデータを処理します。\n",
    "Message Typeはメソッドを持たないクラスのようなものです。\n",
    "今回は、proto2という言語を用いてMessage Typeを定義する方法を紹介します。\n",
    "\n",
    "データ処理の流れは以下のとおりです。\n",
    "1. proto2でMessage Typeを定義する\n",
    "2. Message Typeが定義されたファイルをコンパイルする\n",
    "3. Pythonでデータを記述していく"
   ]
  },
  {
   "cell_type": "markdown",
   "id": "843e01c3-f097-4149-9c6f-dc46d6e95b4f",
   "metadata": {},
   "source": [
    "## hdf5形式"
   ]
  },
  {
   "cell_type": "code",
   "execution_count": null,
   "id": "f17299fc-b4a1-46c6-a4a9-4e81712fc218",
   "metadata": {},
   "outputs": [],
   "source": [
    "hdf5はkerasで使われているデータ形式です。\n",
    "例えば、学習したモデルを保存する場合はhdf5形式で出力されます。\n",
    "hdf5の大きな特徴は、階層的な構造を1つのファイル内で完結できることです。\n",
    "\n",
    "日本の人口について調べたいとします。\n",
    "このとき、日本の人口は各都道府県の人口に分けることができます。\n",
    "このような場合、一般的には\"日本の人口\"というディレクトリを作り、その中に各都道府県のディレクトリを作成します。\n",
    "例えば\"北海道の人口\"ディレクトリの中には、北海道の市町村について、それぞれのディレクトリを作ります。"
   ]
  },
  {
   "cell_type": "code",
   "execution_count": 71,
   "id": "2c283b9b-3fcc-4f73-a318-eecbd30b114a",
   "metadata": {},
   "outputs": [
    {
     "name": "stdout",
     "output_type": "stream",
     "text": [
      "[array([ 97, 167, 117]), array([153,  59,  71,  86, 137]), array([120])]\n"
     ]
    },
    {
     "ename": "FileNotFoundError",
     "evalue": "[Errno 2] Unable to open file (unable to open file: name = './csv/4080_data_handling_data/family_pd2.hdf5', errno = 2, error message = 'No such file or directory', flags = 0, o_flags = 0)",
     "output_type": "error",
     "traceback": [
      "\u001b[0;31m---------------------------------------------------------------------------\u001b[0m",
      "\u001b[0;31mFileNotFoundError\u001b[0m                         Traceback (most recent call last)",
      "\u001b[0;32m/var/folders/ht/jxpc68cx6flfn8khw5l066lm0000gn/T/ipykernel_72491/3303410870.py\u001b[0m in \u001b[0;36m<module>\u001b[0;34m\u001b[0m\n\u001b[1;32m     21\u001b[0m \u001b[0;34m\u001b[0m\u001b[0m\n\u001b[1;32m     22\u001b[0m \u001b[0;31m# ファイルを開く\u001b[0m\u001b[0;34m\u001b[0m\u001b[0;34m\u001b[0m\u001b[0m\n\u001b[0;32m---> 23\u001b[0;31m \u001b[0mhdf_file\u001b[0m \u001b[0;34m=\u001b[0m \u001b[0mh5py\u001b[0m\u001b[0;34m.\u001b[0m\u001b[0mFile\u001b[0m\u001b[0;34m(\u001b[0m\u001b[0;34m'./csv/4080_data_handling_data/family_pd2.hdf5'\u001b[0m\u001b[0;34m)\u001b[0m\u001b[0;34m\u001b[0m\u001b[0;34m\u001b[0m\u001b[0m\n\u001b[0m\u001b[1;32m     24\u001b[0m \u001b[0;34m\u001b[0m\u001b[0m\n\u001b[1;32m     25\u001b[0m \u001b[0;31m# 'A'という名前のグループを作成(A県の意味)\u001b[0m\u001b[0;34m\u001b[0m\u001b[0;34m\u001b[0m\u001b[0m\n",
      "\u001b[0;32m~/dev/python-math/.ven/lib/python3.9/site-packages/h5py/_hl/files.py\u001b[0m in \u001b[0;36m__init__\u001b[0;34m(self, name, mode, driver, libver, userblock_size, swmr, rdcc_nslots, rdcc_nbytes, rdcc_w0, track_order, fs_strategy, fs_persist, fs_threshold, fs_page_size, page_buf_size, min_meta_keep, min_raw_keep, locking, **kwds)\u001b[0m\n\u001b[1;32m    505\u001b[0m                                  \u001b[0mfs_persist\u001b[0m\u001b[0;34m=\u001b[0m\u001b[0mfs_persist\u001b[0m\u001b[0;34m,\u001b[0m \u001b[0mfs_threshold\u001b[0m\u001b[0;34m=\u001b[0m\u001b[0mfs_threshold\u001b[0m\u001b[0;34m,\u001b[0m\u001b[0;34m\u001b[0m\u001b[0;34m\u001b[0m\u001b[0m\n\u001b[1;32m    506\u001b[0m                                  fs_page_size=fs_page_size)\n\u001b[0;32m--> 507\u001b[0;31m                 \u001b[0mfid\u001b[0m \u001b[0;34m=\u001b[0m \u001b[0mmake_fid\u001b[0m\u001b[0;34m(\u001b[0m\u001b[0mname\u001b[0m\u001b[0;34m,\u001b[0m \u001b[0mmode\u001b[0m\u001b[0;34m,\u001b[0m \u001b[0muserblock_size\u001b[0m\u001b[0;34m,\u001b[0m \u001b[0mfapl\u001b[0m\u001b[0;34m,\u001b[0m \u001b[0mfcpl\u001b[0m\u001b[0;34m,\u001b[0m \u001b[0mswmr\u001b[0m\u001b[0;34m=\u001b[0m\u001b[0mswmr\u001b[0m\u001b[0;34m)\u001b[0m\u001b[0;34m\u001b[0m\u001b[0;34m\u001b[0m\u001b[0m\n\u001b[0m\u001b[1;32m    508\u001b[0m \u001b[0;34m\u001b[0m\u001b[0m\n\u001b[1;32m    509\u001b[0m             \u001b[0;32mif\u001b[0m \u001b[0misinstance\u001b[0m\u001b[0;34m(\u001b[0m\u001b[0mlibver\u001b[0m\u001b[0;34m,\u001b[0m \u001b[0mtuple\u001b[0m\u001b[0;34m)\u001b[0m\u001b[0;34m:\u001b[0m\u001b[0;34m\u001b[0m\u001b[0;34m\u001b[0m\u001b[0m\n",
      "\u001b[0;32m~/dev/python-math/.ven/lib/python3.9/site-packages/h5py/_hl/files.py\u001b[0m in \u001b[0;36mmake_fid\u001b[0;34m(name, mode, userblock_size, fapl, fcpl, swmr)\u001b[0m\n\u001b[1;32m    218\u001b[0m         \u001b[0;32mif\u001b[0m \u001b[0mswmr\u001b[0m \u001b[0;32mand\u001b[0m \u001b[0mswmr_support\u001b[0m\u001b[0;34m:\u001b[0m\u001b[0;34m\u001b[0m\u001b[0;34m\u001b[0m\u001b[0m\n\u001b[1;32m    219\u001b[0m             \u001b[0mflags\u001b[0m \u001b[0;34m|=\u001b[0m \u001b[0mh5f\u001b[0m\u001b[0;34m.\u001b[0m\u001b[0mACC_SWMR_READ\u001b[0m\u001b[0;34m\u001b[0m\u001b[0;34m\u001b[0m\u001b[0m\n\u001b[0;32m--> 220\u001b[0;31m         \u001b[0mfid\u001b[0m \u001b[0;34m=\u001b[0m \u001b[0mh5f\u001b[0m\u001b[0;34m.\u001b[0m\u001b[0mopen\u001b[0m\u001b[0;34m(\u001b[0m\u001b[0mname\u001b[0m\u001b[0;34m,\u001b[0m \u001b[0mflags\u001b[0m\u001b[0;34m,\u001b[0m \u001b[0mfapl\u001b[0m\u001b[0;34m=\u001b[0m\u001b[0mfapl\u001b[0m\u001b[0;34m)\u001b[0m\u001b[0;34m\u001b[0m\u001b[0;34m\u001b[0m\u001b[0m\n\u001b[0m\u001b[1;32m    221\u001b[0m     \u001b[0;32melif\u001b[0m \u001b[0mmode\u001b[0m \u001b[0;34m==\u001b[0m \u001b[0;34m'r+'\u001b[0m\u001b[0;34m:\u001b[0m\u001b[0;34m\u001b[0m\u001b[0;34m\u001b[0m\u001b[0m\n\u001b[1;32m    222\u001b[0m         \u001b[0mfid\u001b[0m \u001b[0;34m=\u001b[0m \u001b[0mh5f\u001b[0m\u001b[0;34m.\u001b[0m\u001b[0mopen\u001b[0m\u001b[0;34m(\u001b[0m\u001b[0mname\u001b[0m\u001b[0;34m,\u001b[0m \u001b[0mh5f\u001b[0m\u001b[0;34m.\u001b[0m\u001b[0mACC_RDWR\u001b[0m\u001b[0;34m,\u001b[0m \u001b[0mfapl\u001b[0m\u001b[0;34m=\u001b[0m\u001b[0mfapl\u001b[0m\u001b[0;34m)\u001b[0m\u001b[0;34m\u001b[0m\u001b[0;34m\u001b[0m\u001b[0m\n",
      "\u001b[0;32mh5py/_objects.pyx\u001b[0m in \u001b[0;36mh5py._objects.with_phil.wrapper\u001b[0;34m()\u001b[0m\n",
      "\u001b[0;32mh5py/_objects.pyx\u001b[0m in \u001b[0;36mh5py._objects.with_phil.wrapper\u001b[0;34m()\u001b[0m\n",
      "\u001b[0;32mh5py/h5f.pyx\u001b[0m in \u001b[0;36mh5py.h5f.open\u001b[0;34m()\u001b[0m\n",
      "\u001b[0;31mFileNotFoundError\u001b[0m: [Errno 2] Unable to open file (unable to open file: name = './csv/4080_data_handling_data/family_pd2.hdf5', errno = 2, error message = 'No such file or directory', flags = 0, o_flags = 0)"
     ]
    }
   ],
   "source": [
    "import h5py\n",
    "import numpy as np\n",
    "import os\n",
    "\n",
    "np.random.seed(0)\n",
    "\n",
    "# A県のうち、X市、Y市、Z市について考えます\n",
    "# X市は1丁目〜3丁目、Y市は1丁目〜5丁目、Z市は1丁目のみあるとします\n",
    "\n",
    "# それぞれの市の人口の定義\n",
    "population_of_X = np.random.randint(50, high=200, size=3)\n",
    "population_of_Y = np.random.randint(50, high=200, size=5)\n",
    "population_of_Z = np.random.randint(50, high=200, size=1)\n",
    "\n",
    "# 人口をリストにまとめる\n",
    "population = [population_of_X, population_of_Y, population_of_Z]\n",
    "print(population)\n",
    "# 既にファイルが存在した場合削除する\n",
    "if os.path.isfile('./csv/4080_data_handling_data/family_pd2.hdf5'):\n",
    "    os.remove('./csv/4080_data_handling_data/family_pd2.hdf5')\n",
    "\n",
    "# ファイルを開く\n",
    "hdf_file = h5py.File('./csv/4080_data_handling_data/family_pd2.hdf5')\n",
    "\n",
    "# 'A'という名前のグループを作成(A県の意味)\n",
    "prefecture = hdf_file.create_group('A')\n",
    "\n",
    "for i in range(3):\n",
    "    # たとえばA/X/1は、A県X市1丁目のイメージ\n",
    "    # Aディレクトリの中のXディレクトリの1という名前のファイルにデータを入れるイメージ\n",
    "    for j in range(len(population[i])):\n",
    "        city = hdf_file.create_dataset('A/' + ['X', 'Y', 'Z'][i] + '/' + str(j + 1), data=population[i][j])\n",
    "\n",
    "# 書き込み\n",
    "hdf_file.flush()\n",
    "\n",
    "# 閉じる\n",
    "hdf_file.close()"
   ]
  },
  {
   "cell_type": "markdown",
   "id": "817f9841-4e85-4240-942f-779fedfd683b",
   "metadata": {},
   "source": [
    "## TFRRecord\n",
    "![](./csv/4080_data_handling_data/tfrrecord.png)"
   ]
  },
  {
   "cell_type": "code",
   "execution_count": 90,
   "id": "bf2e582a-3c58-46d1-b282-89fae5e8fef4",
   "metadata": {},
   "outputs": [
    {
     "name": "stdout",
     "output_type": "stream",
     "text": [
      "<class 'h5py._hl.dataset.Dataset'>\n",
      "A県X市1丁目:  <HDF5 dataset \"1\": shape (), type \"<i8\">\n",
      "<class 'h5py._hl.dataset.Dataset'>\n",
      "A県X市2丁目:  <HDF5 dataset \"2\": shape (), type \"<i8\">\n",
      "<class 'h5py._hl.dataset.Dataset'>\n",
      "A県X市3丁目:  <HDF5 dataset \"3\": shape (), type \"<i8\">\n",
      "<class 'h5py._hl.dataset.Dataset'>\n",
      "A県Y市1丁目:  <HDF5 dataset \"1\": shape (), type \"<i8\">\n",
      "<class 'h5py._hl.dataset.Dataset'>\n",
      "A県Y市2丁目:  <HDF5 dataset \"2\": shape (), type \"<i8\">\n",
      "<class 'h5py._hl.dataset.Dataset'>\n",
      "A県Y市3丁目:  <HDF5 dataset \"3\": shape (), type \"<i8\">\n",
      "<class 'h5py._hl.dataset.Dataset'>\n",
      "A県Y市4丁目:  <HDF5 dataset \"4\": shape (), type \"<i8\">\n",
      "<class 'h5py._hl.dataset.Dataset'>\n",
      "A県Y市5丁目:  <HDF5 dataset \"5\": shape (), type \"<i8\">\n",
      "<class 'h5py._hl.dataset.Dataset'>\n",
      "A県Z市1丁目:  <HDF5 dataset \"1\": shape (), type \"<i8\">\n"
     ]
    }
   ],
   "source": [
    "import pandas as pd\n",
    "import h5py\n",
    "import numpy as np\n",
    "\n",
    "# 開きたいファイルのパス\n",
    "path = './csv/4080_data_handling_data/population.hdf5'\n",
    "\n",
    "# ファイルを開く\n",
    "# 'r'は読み取りモードの意味\n",
    "population_data = h5py.File(path, 'r')\n",
    "for prefecture in population_data.keys():\n",
    "    for city in population_data[prefecture].keys():\n",
    "        for i in population_data[prefecture][city].keys():\n",
    "            # print(prefecture)\n",
    "            # print(city)\n",
    "            # print(prefecture)\n",
    "            # print(population_data[prefecture][city][i].value)\n",
    "            print(type(population_data[prefecture][city][i]))\n",
    "            print(prefecture + '県' + city + '市' + i + '丁目: ', population_data[prefecture][city][i])\n",
    "\n",
    "# 閉じる\n",
    "population_data.close()"
   ]
  },
  {
   "cell_type": "code",
   "execution_count": 87,
   "id": "d861fb60-3b8b-4608-89b5-69ee0f370f4c",
   "metadata": {},
   "outputs": [
    {
     "ename": "ModuleNotFoundError",
     "evalue": "No module named 'tensorflow'",
     "output_type": "error",
     "traceback": [
      "\u001b[0;31m---------------------------------------------------------------------------\u001b[0m",
      "\u001b[0;31mModuleNotFoundError\u001b[0m                       Traceback (most recent call last)",
      "\u001b[0;32m/var/folders/ht/jxpc68cx6flfn8khw5l066lm0000gn/T/ipykernel_72491/2847457290.py\u001b[0m in \u001b[0;36m<module>\u001b[0;34m\u001b[0m\n\u001b[1;32m      1\u001b[0m \u001b[0;32mimport\u001b[0m \u001b[0mnumpy\u001b[0m \u001b[0;32mas\u001b[0m \u001b[0mnp\u001b[0m\u001b[0;34m\u001b[0m\u001b[0;34m\u001b[0m\u001b[0m\n\u001b[0;32m----> 2\u001b[0;31m \u001b[0;32mimport\u001b[0m \u001b[0mtensorflow\u001b[0m \u001b[0;32mas\u001b[0m \u001b[0mtf\u001b[0m\u001b[0;34m\u001b[0m\u001b[0;34m\u001b[0m\u001b[0m\n\u001b[0m\u001b[1;32m      3\u001b[0m \u001b[0;32mfrom\u001b[0m \u001b[0mPIL\u001b[0m \u001b[0;32mimport\u001b[0m \u001b[0mImage\u001b[0m\u001b[0;34m\u001b[0m\u001b[0;34m\u001b[0m\u001b[0m\n\u001b[1;32m      4\u001b[0m \u001b[0;34m\u001b[0m\u001b[0m\n\u001b[1;32m      5\u001b[0m \u001b[0;31m# 画像を読み込む\u001b[0m\u001b[0;34m\u001b[0m\u001b[0;34m\u001b[0m\u001b[0m\n",
      "\u001b[0;31mModuleNotFoundError\u001b[0m: No module named 'tensorflow'"
     ]
    }
   ],
   "source": [
    "import numpy as np\n",
    "import tensorflow as tf\n",
    "from PIL import Image\n",
    "\n",
    "# 画像を読み込む\n",
    "image = Image.open('./4080_data_handling_data/hdf5_explain.png')\n",
    "\n",
    "# 書き出すデータの定義\n",
    "# tf.train.Exampleというクラスを用いる\n",
    "# tf.train.Featuresというクラスの\"まとまり\"\n",
    "# 各tf.train.Featureの要素はbytes\n",
    "# 今回はimage, label, height, widthをデータとして採用\n",
    "my_Example = tf.train.Example(features=tf.train.Features(feature={\n",
    "    'image': tf.train.Feature(bytes_list=tf.train.BytesList(value=[image.tobytes()])),\n",
    "    'label': tf.train.Feature(bytes_list=tf.train.BytesList(value=[np.ndarray([1000]).tobytes()])),\n",
    "    'height': tf.train.Feature(bytes_list=tf.train.BytesList(value=[np.ndarray([image.height]).tobytes()])),\n",
    "    'width': tf.train.Feature(bytes_list=tf.train.BytesList(value=[np.ndarray([image.width]).tobytes()])),\n",
    "}))\n",
    "\n",
    "# TFRecord形式のファイルを書き出すためのTRFecordWriteオブジェクトを生成\n",
    "fp = tf.io.TFRecordWriter(\"./4080_data_handling_data/sample.tfrecord\")\n",
    "# Exampleオブジェクトをシリアライズして書き込み\n",
    "fp.write(my_Example.SerializePartialToString())\n",
    "# 閉じる\n",
    "fp.close()"
   ]
  },
  {
   "cell_type": "code",
   "execution_count": null,
   "id": "45ff575b-880c-4124-94f4-14085878ba9e",
   "metadata": {},
   "outputs": [],
   "source": []
  },
  {
   "cell_type": "code",
   "execution_count": null,
   "id": "e63722a8-ccba-42ed-9437-e1fd7bbb45e6",
   "metadata": {},
   "outputs": [],
   "source": []
  }
 ],
 "metadata": {
  "kernelspec": {
   "display_name": "Python 3 (ipykernel)",
   "language": "python",
   "name": "python3"
  },
  "language_info": {
   "codemirror_mode": {
    "name": "ipython",
    "version": 3
   },
   "file_extension": ".py",
   "mimetype": "text/x-python",
   "name": "python",
   "nbconvert_exporter": "python",
   "pygments_lexer": "ipython3",
   "version": "3.9.9"
  }
 },
 "nbformat": 4,
 "nbformat_minor": 5
}
