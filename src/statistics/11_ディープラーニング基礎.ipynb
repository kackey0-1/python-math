{
 "cells": [
  {
   "cell_type": "markdown",
   "id": "c8999744-d225-431c-a3db-3de8e2713e47",
   "metadata": {},
   "source": [
    "# 深層学習: Deep Learning\n",
    "ディープラーニングの例として、 全結合層のみで作った多層ニューラルネットワークを使い、</br>\n",
    "手書きの数字（画像データ）から書かれた数字を予測するコードを作る\n",
    "\n",
    "- <b>Epoch</b> : 学習データを試用した回数\n",
    "- <b>ETA</b> : estimated time of arrival の略で、1エポックあたりのトレーニングにかかる時間の予測\n",
    "- <b>loss</b> : 訓練データに対する損失\n",
    "- <b>accuracy</b> : 訓練データに対する精度\n",
    "- <b>val_loss</b> : 検証データに対する損失\n",
    "- <b>val_accuracy</b> : 検証データに対する精度"
   ]
  },
  {
   "cell_type": "code",
   "execution_count": 22,
   "id": "1d6f0e86-84d5-4d9c-a235-525bc869127d",
   "metadata": {},
   "outputs": [
    {
     "name": "stdout",
     "output_type": "stream",
     "text": [
      "Epoch 1/5\n",
      "12/12 [==============================] - 0s 9ms/step - loss: 2.4125 - accuracy: 0.1482 - val_loss: 2.0707 - val_accuracy: 0.3790\n",
      "Epoch 2/5\n",
      "12/12 [==============================] - 0s 5ms/step - loss: 2.1058 - accuracy: 0.2533 - val_loss: 1.8585 - val_accuracy: 0.5940\n",
      "Epoch 3/5\n",
      "12/12 [==============================] - 0s 5ms/step - loss: 1.8798 - accuracy: 0.3733 - val_loss: 1.6781 - val_accuracy: 0.6560\n",
      "Epoch 4/5\n",
      "12/12 [==============================] - 0s 4ms/step - loss: 1.6996 - accuracy: 0.4608 - val_loss: 1.5166 - val_accuracy: 0.6730\n",
      "Epoch 5/5\n",
      "12/12 [==============================] - 0s 4ms/step - loss: 1.5320 - accuracy: 0.5337 - val_loss: 1.3672 - val_accuracy: 0.7270\n"
     ]
    },
    {
     "data": {
      "image/png": "[encoded data removed]",
      "text/plain": [
       "<Figure size 432x288 with 1 Axes>"
      ]
     },
     "metadata": {
      "needs_background": "light"
     },
     "output_type": "display_data"
    }
   ],
   "source": [
    "import numpy as np\n",
    "import matplotlib.pyplot as plt\n",
    "\n",
    "import tensorflow as tf\n",
    "from tensorflow.keras.layers import Dense, Activation, Dense, Activation, Dropout\n",
    "from tensorflow.keras.datasets import mnist\n",
    "(X_train, y_train), (X_test, y_test) = mnist.load_data()\n",
    "\n",
    "X_train = X_train.reshape(X_train.shape[0], 784)[:6000]\n",
    "X_test = X_test.reshape(X_test.shape[0], 784)[:1000]\n",
    "y_train = tf.keras.utils.to_categorical(y_train)[:6000]\n",
    "y_test = tf.keras.utils.to_categorical(y_test)[:1000]\n",
    "\n",
    "model = tf.keras.Sequential()\n",
    "model.add(Dense(256, input_dim=784))\n",
    "model.add(Activation(\"sigmoid\"))\n",
    "model.add(Dense(128))\n",
    "model.add(Activation(\"sigmoid\"))\n",
    "model.add(Dropout(rate=0.5))\n",
    "model.add(Dense(10))\n",
    "model.add(Activation(\"softmax\"))\n",
    "\n",
    "sgd = tf.keras.optimizers.SGD(lr=0.1)\n",
    "model.compile(optimizer=sgd, loss=\"categorical_crossentropy\", metrics=['accuracy'])\n",
    "\n",
    "# epochs数は5を指定\n",
    "history = model.fit(X_train, y_train, batch_size=500, epochs=5, verbose=1, validation_data=(X_test, y_test))\n",
    "\n",
    "#acc, val_accのプロット\n",
    "plt.plot(history.history['accuracy'], label=\"acc\", ls=\"-\", marker=\"o\")\n",
    "plt.plot(history.history[\"val_accuracy\"], label=\"val_acc\", ls=\"-\", marker=\"x\")\n",
    "plt.ylabel(\"accuracy\")\n",
    "plt.xlabel(\"epoch\")\n",
    "plt.legend(loc=\"best\")\n",
    "plt.show()"
   ]
  },
  {
   "cell_type": "markdown",
   "id": "1b519cc9-73c8-4f24-b03a-423290886133",
   "metadata": {},
   "source": [
    "## ディープラーニング\n",
    "### ニューロン\n",
    "### ニューラルネットワーク\n",
    "深層ニューラルネット/多層パーセプトロン\n",
    "#### 畳み込みニューラルネット\n",
    "#### 回帰結合ニューラルネット\n",
    "### ディープラーニングが注目されている理由\n",
    "1. アルゴリズムが発見されたこと\n",
    "2. 膨大なデータが収集可能になったこと\n",
    "3. GPUなど計算機の高性能化"
   ]
  },
  {
   "cell_type": "markdown",
   "id": "c2dff56f-b0d7-4f15-9d68-3c550915899f",
   "metadata": {},
   "source": [
    "## 深層学習とは1\n",
    "深層学習はディープラーニングとも呼ばれ、機械学習の一種であり、さらに一歩進んだ技術</br>\n",
    "データの分類や回帰を行うために、生物の神経ネットワークを参考に ディープニューラルネットワーク というモデルを使う</br>\n",
    "深層学習の目的は脳の神経ネットワークの再現ではなく、画像や音声などの 認識精度を高める ことを目標として研究が行われている</br>\n",
    "画像認識、映像解析を利用した自動運転技術や、音声解析で実現するスマートスピーカー「Google Home」や「Siri」など、</br>\n",
    "実は私たちの日常生活の多くの場面でこの技術が使われている\n",
    "\n",
    "例えば、画像の中から「車」を検出するプログラムを作成する場合、</br>\n",
    "機械学習ではいろいろな種類の車のタイヤやフロントガラスの特徴などの細かい情報をあらかじめ用意して、それを学習させたモデルを作る必要があった</br>\n",
    "しかし、深層学習はそのようなモデルなしに、車のパーツの特徴を 自動 で見つけられる"
   ]
  },
  {
   "cell_type": "markdown",
   "id": "8d3f5f24-8fd5-48ea-8b9c-372fcf299e7c",
   "metadata": {},
   "source": [
    "## [重要]ニューロンの計算方法と学習方法\n",
    "https://premium.aidemy.jp/courses/5090/exercises/Cz4GZjnmsf</br>\n",
    "\n",
    "### ニューロンの内部の処理\n",
    "![](./images/nueral_network.png)\n",
    "\n",
    "\n",
    "### 活性化関数の処理の例\n",
    "- シグモイド関数\n",
    "- ReLu関数\n",
    "### ニューラルネットワークの計算\n",
    "![](./images/neural_network_learn.png)"
   ]
  },
  {
   "cell_type": "markdown",
   "id": "51f28dc2-5c16-4f06-a4a5-f473b6d4e7c5",
   "metadata": {},
   "source": [
    "## 深層学習とは2\n",
    "ニューラルネットワークを構成するニューロンを表したもので、x_1, x_2x  が入力値で、w_1, w_2w は 重みパラメータ</br>\n",
    "入力が閾値を超えると、ニューロンは次のニューロンへの情報伝達を行い、ニューロンの発火と呼ぶ</br>\n",
    "ニューラルネットワークではベクトルや行列などの入力値を受け取り、発火の連鎖を経て最終的にスカラーやベクトルなどの値を出力する</br>\n",
    "これを画像認識で例えると、動物の画像のピクセルデータを入力することで、どのカテゴリ（ネコ、イヌ、トリなど）に属する確率が高いかという情報が出力されるイメージになる\n",
    "\n",
    "![](./images/neuron.png)\n",
    "\n",
    "下図のようにニューロンの層を積み重ね、より複雑な問題を扱えるようにしたのが ディープニューラルネットワーク</br>\n",
    "特に4層以上の構造を指すことが多く、その構造の深さから「ディープ」という名前を付けられている</br>\n",
    "深層学習では 各ニューロンの重みパラメータを機械的に調整する ことで分類モデルや回帰モデルを作る"
   ]
  },
  {
   "cell_type": "markdown",
   "id": "d28ec1e0-913c-4e1b-81f2-b00b5a42f283",
   "metadata": {},
   "source": [
    "## 深層学習を用いた分類の流れ\n",
    "### ネットワークモデルを作る\n",
    "    1. いくつかのニューロンを束ねた層を図のように重ねていくことで、階層の深いネットワークモデルを構築\n",
    "       4層以上あるニューラルネットワークはディープニューラルネットワークと呼ばれる\n",
    "       最初のうちは、入力に対してニューロンがランダムに反応し、意味をもたない値を出力\n",
    "\n",
    "![](./images/deep_neural_network_learn.gif)\n",
    "\n",
    "### モデルに訓練用のデータを与え、学習を行う\n",
    "モデルは入力値Xを受け取り、出力値yを出力する</br>\n",
    "yと正解データ(教師ラベル)Tの差分であるΔEが小さくなるように、誤差逆伝播法という方法で自動的にニューロンの重みを調整</br>\n",
    "画像などの生データXと正解データTを与えることで繰り返し重みを調整し、次第に求める出力値が得られるようになる</br>\n",
    "うまく学習が進むと、適切な予測値を返すモデル\n",
    "\n",
    "![](./images/deep_train.png)\n",
    "\n",
    "\n",
    "### 分類データをモデルに渡す\n",
    "図のような流れで、深層学習によるデータの分類ができる</br>\n",
    "つまり深層学習では、手順の詳細を理解しなくても、 分類 や 回帰 のモデルを作ることができる\n",
    "\n",
    "![](./images/deep_categorize.png)"
   ]
  },
  {
   "cell_type": "markdown",
   "id": "14ed73e7-0883-4405-92b9-8ed8ed601a63",
   "metadata": {},
   "source": [
    "# 手書き数字の分類\n",
    "## 分類までの流れ\n",
    "tf.kerasを使って下記のようなニューラルネットワークモデルを実装</br>\n",
    "深層学習では定番ともいえる 手書き数字の分類 を下記の手順で行う</br>\n",
    "\n",
    "![](./images/deep_neural_network.png)\n",
    "\n",
    "1. データを準備する\n",
    "2. ニューラルネットワークモデルを構築\n",
    "3. モデルにデータを与え、学習させる\n",
    "4. モデルの分類精度を評価\n"
   ]
  },
  {
   "cell_type": "markdown",
   "id": "729587c3-0359-4f69-8947-e3c4241a9ee4",
   "metadata": {},
   "source": [
    "## ディープニューラルネットワーク\n",
    "ある程度深さのあるニューラルネットワークを、 ディープニューラルネットワークと呼び、入力する層を 入力層 、 出力する層を 出力層 、入力層と出力層の間を 隠れ層と呼ぶ</br>\n",
    "今回は、全てのニューロンが前の層のニューロンと結合した 全結合層 が2つあるシンプルな構造のニューラルネットワークを作成する</br>\n",
    "\n",
    "### ONE-HOTベクトル\n",
    "入力された手書き画像データが「7」だった場合、教師データの正解ラベルは7に対応する要素が1、それ以外は0となる</br>\n",
    "値が1要素を除いて全てゼロのデータのことを one-hotベクトルと呼ぶ\n",
    "\n",
    "![](./images/one_hot_vector.png)\n",
    "\n",
    "今回は数字の認識なので、0〜9番目の要素はそれぞれ文字の「0」〜「9」を表す</br>\n",
    "もしこれが「どんな動物が写っているか」といった画像認識であれば、0〜N番目の要素は認識する選択肢である各動物に当たる</br>\n",
    "分類（クラス）を順番に割り当てて数字表現したものを「クラスラベル」と呼ぶ\n",
    "\n",
    "### ノード・ユニット\n",
    "入力するデータは、縦横28ピクセルのモノクロ画像</br>\n",
    "コンピューターには28×28個の数字の集まりにしか見えないので、画像であってもベクトルと呼ぶ</br>\n",
    "「○」で表されている、ベクトルを受け取って計算をする要素を「ノード」や「ユニット」と呼ぶ</br>\n",
    "入力側から数えて、上図の縦に並ぶユニット群を「層」または「レイヤー」と呼ぶ</br>\n",
    "れは人間にとって見やすく整理した時の呼び方なので、どこからどこまでのユニット群が同じ層なのかは、その時々によって変わる\n",
    "\n",
    "今回はmodel.add(Dense(128, input_dim=784))と、入力層を作る(128はユニット数)</br>\n",
    "input_dimでは、入力するベクトルの要素数を指定</br>\n",
    "出力は、どの文字かを確率で表す</br>\n",
    "0~9の10種それぞれで確率を出力</br>\n",
    "隠れ層のユニットが出力した値を全て受け入れて、確率を出力するユニットを10個用意"
   ]
  },
  {
   "cell_type": "markdown",
   "id": "d5e79be2-0857-4b18-9aa8-d154e8835a03",
   "metadata": {},
   "source": [
    "## Keras+Tensorflow (Pytorchも有名)\n",
    "### Keras\n",
    "高水準API(ある一定の挙動を持ち、Customizeする)</br>\n",
    "Wrapper Libraries\n",
    "### Tensorflow\n",
    "低水準API(Customize可能)</br>\n",
    "Tensorflowの一機能としてKerasが利用されるようになった</br>\n",
    "TensorFlowはGoogle社が提供する機械学習用のOSS</br>\n",
    "Kerasは2020年5月にtensorflowの中に取り込まれtf.kerasとなった</br>\n",
    "tf.kerasを使うことによってニューラルネットワークをシンプルに記述できる"
   ]
  },
  {
   "cell_type": "markdown",
   "id": "04f3cb0d-c145-46d8-b463-88de19837a21",
   "metadata": {},
   "source": [
    "## データの用意\n",
    "手書き数字の学習には、[Yann LeCun's website](http://yann.lecun.com/exdb/mnist/)\n",
    "で公開されているMNIST(エムニスト) というデータセットを使用</br>\n",
    "MNISTは、tf.kerasでは下記のコードを実行して、データの読み込みを行う</br>\n",
    "コードのXは 画像データ 、yは 教師ラベルデータ で、trainは学習用データ、testはモデルの性能を評価する際に使用するデータ"
   ]
  },
  {
   "cell_type": "code",
   "execution_count": 3,
   "id": "beabe4a2-06a7-4ea0-827b-3781d0cb4d78",
   "metadata": {},
   "outputs": [
    {
     "name": "stdout",
     "output_type": "stream",
     "text": [
      "(60000, 28, 28) (60000,) (10000, 28, 28) (10000,)\n"
     ]
    }
   ],
   "source": [
    "from tensorflow.keras.datasets import mnist\n",
    "\n",
    "(X_train, y_train), (X_test, y_test) = mnist.load_data()\n",
    "# print(X_train, y_train, X_test, y_test)\n",
    "print(X_train.shape, y_train.shape, X_test.shape, y_test.shape) "
   ]
  },
  {
   "cell_type": "markdown",
   "id": "17727d7c-19d9-4745-9bae-37b7e20c3a4c",
   "metadata": {},
   "source": [
    "## モデルの生成\n",
    "tf.keras では、まずモデルを管理するインスタンスを作り、addメソッドで一層ずつニューラルネットワークを定義していく</br>\n",
    "今回は128のユニットの全結合層を定義。下記のようにaddメソッドを使ってモデルを一層ずつ定義</br>\n",
    "\n",
    "全結合層の出力には、 活性化関数 と呼ばれる関数を適用</br>\n",
    "これは、動物の神経の発火に相当する仕組みで、シグモイド関数 sigmoid やReLU関数 relu などを設定\n",
    "\n",
    "最後にコンパイルメソッド compile() で学習処理を設定して、モデルの生成が終了\n",
    "\n",
    "```python\n",
    "from tensorflow.keras.models import Sequential\n",
    "from tensorflow.keras.layers import Dense, Activation\n",
    "\n",
    "model = Sequential()\n",
    "# 今回は128のユニットの全結合層を定義\n",
    "# 下記のようにaddメソッドを使ってモデルを一層ずつ定義\n",
    "model.add(Dense(128))\n",
    "\n",
    "# 全結合層の出力には、 活性化関数 と呼ばれる関数を適用\n",
    "model.add(Activation(\"sigmoid\"))\n",
    "\n",
    "# 最後にコンパイルメソッド compile() で学習処理を設定して、モデルの生成が終了\n",
    "model.compile(optimizer=sgd, loss=\"categorical_crossentropy\", metrics=[\"accuracy\"])\n",
    "```"
   ]
  },
  {
   "cell_type": "code",
   "execution_count": 3,
   "id": "3de0544e-ae73-45d2-bc7d-2f1526e03406",
   "metadata": {},
   "outputs": [
    {
     "name": "stdout",
     "output_type": "stream",
     "text": [
      "('You must install pydot (`pip install pydot`) and install graphviz (see instructions at https://graphviz.gitlab.io/download/) ', 'for plot_model/model_to_dot to work.')\n"
     ]
    },
    {
     "data": {
      "image/png": "[encoded data removed]",
      "text/plain": [
       "<Figure size 900x600 with 1 Axes>"
      ]
     },
     "metadata": {
      "needs_background": "light"
     },
     "output_type": "display_data"
    }
   ],
   "source": [
    "from tensorflow.keras.datasets import mnist\n",
    "from tensorflow.keras.models import Sequential\n",
    "from tensorflow.keras.layers import Dense, Activation\n",
    "from tensorflow.keras.utils import plot_model\n",
    "from tensorflow.keras.utils import to_categorical\n",
    "import matplotlib.pyplot as plt\n",
    "\n",
    "(X_train, y_train), (X_test, y_test) = mnist.load_data()\n",
    "\n",
    "# (◯, 28, 28)のデータを(◯, 784)に次元削減します。(簡単のためデータ数を減らします)\n",
    "shapes = X_train.shape[1] * X_train.shape[2]\n",
    "X_train = X_train.reshape(X_train.shape[0], shapes)[:6000]\n",
    "X_test = X_test.reshape(X_test.shape[0], shapes)[:1000]\n",
    "y_train = to_categorical(y_train)[:6000]\n",
    "y_test = to_categorical(y_test)[:1000]\n",
    "\n",
    "model = Sequential()\n",
    "# 入力ユニット数は784, 1つ目の全結合層の出力ユニット数は256\n",
    "model.add(Dense(256, input_dim=784))\n",
    "model.add(Activation(\"sigmoid\"))\n",
    "\n",
    "# 2つ目の全結合層の出力ユニット数は128。活性化関数はrelu。\n",
    "model.add(Dense(128))\n",
    "model.add(Activation(\"relu\"))\n",
    "\n",
    "# 3つ目の全結合層（出力層）の出力ユニット数は10\n",
    "model.add(Dense(10))\n",
    "model.add(Activation(\"softmax\"))\n",
    "\n",
    "model.compile(optimizer=\"sgd\", loss=\"categorical_crossentropy\", metrics=[\"accuracy\"])\n",
    "\n",
    "# モデル構造の出力\n",
    "plot_model(model, show_layer_names=True, dpi=150)\n",
    "\n",
    "# モデル構造の可視化\n",
    "image = plt.imread(\"./images/model125.png\")\n",
    "plt.figure(dpi=150)\n",
    "plt.imshow(image)\n",
    "plt.axis('off')\n",
    "plt.show() "
   ]
  },
  {
   "cell_type": "markdown",
   "id": "c5fed68e-b679-44f3-b07f-d3e28810f904",
   "metadata": {},
   "source": [
    "## モデルの学習\n",
    "fitメソッドを使用し、 モデルに訓練データを渡すことで学習</br>\n",
    "fitメソッドでは、学習用データを順にモデルに入力し、 出力と教師データの差が小さくなるように各ニューロンの重みを更新し、モデルの予測精度を向上していく</br>\n",
    "引数のX_trainは学習用データ、y_trainは教師データ</br>\n",
    "verbose に １ を指定した場合は学習の進捗度合いを出力し、 0 の場合は出力しない</br>\n",
    "epochsは、同じデータセットで行う学習の回数を指定する\n",
    "\n",
    "```python\n",
    "model.fit(X_train, y_train, verbose=1, epochs=3)\n",
    "```"
   ]
  },
  {
   "cell_type": "code",
   "execution_count": 8,
   "id": "6779655d-dcb5-4b82-a2d5-af38acbb908b",
   "metadata": {},
   "outputs": [
    {
     "name": "stdout",
     "output_type": "stream",
     "text": [
      "Epoch 1/10\n",
      "188/188 [==============================] - 0s 726us/step - loss: 2.1447 - accuracy: 0.3963\n",
      "Epoch 2/10\n",
      "188/188 [==============================] - 0s 713us/step - loss: 1.7186 - accuracy: 0.6773\n",
      "Epoch 3/10\n",
      "188/188 [==============================] - 0s 742us/step - loss: 1.3938 - accuracy: 0.7605\n",
      "Epoch 4/10\n",
      "188/188 [==============================] - 0s 744us/step - loss: 1.1422 - accuracy: 0.8098\n",
      "Epoch 5/10\n",
      "188/188 [==============================] - 0s 737us/step - loss: 0.9545 - accuracy: 0.8360\n",
      "Epoch 6/10\n",
      "188/188 [==============================] - 0s 728us/step - loss: 0.8148 - accuracy: 0.8587\n",
      "Epoch 7/10\n",
      "188/188 [==============================] - 0s 772us/step - loss: 0.7059 - accuracy: 0.8717\n",
      "Epoch 8/10\n",
      "188/188 [==============================] - 0s 741us/step - loss: 0.6224 - accuracy: 0.8853\n",
      "Epoch 9/10\n",
      "188/188 [==============================] - 0s 783us/step - loss: 0.5570 - accuracy: 0.8962\n",
      "Epoch 10/10\n",
      "188/188 [==============================] - 0s 799us/step - loss: 0.5062 - accuracy: 0.9003\n"
     ]
    },
    {
     "data": {
      "image/png": "[encoded data removed]",
      "text/plain": [
       "<Figure size 432x288 with 1 Axes>"
      ]
     },
     "metadata": {
      "needs_background": "light"
     },
     "output_type": "display_data"
    }
   ],
   "source": [
    "from tensorflow.keras.datasets import mnist\n",
    "from tensorflow.keras.layers import Activation, Dense\n",
    "from tensorflow.keras.models import Sequential\n",
    "from tensorflow.keras import optimizers\n",
    "from tensorflow.keras.utils import to_categorical\n",
    "import matplotlib.pyplot as plt\n",
    "\n",
    "(X_train, y_train), (X_test, y_test) = mnist.load_data()\n",
    "\n",
    "X_train = X_train.reshape(X_train.shape[0], 784)[:6000]\n",
    "X_test = X_test.reshape(X_test.shape[0], 784)[:1000]\n",
    "y_train = to_categorical(y_train)[:6000]\n",
    "y_test = to_categorical(y_test)[:1000]\n",
    "\n",
    "model = Sequential()\n",
    "model.add(Dense(256, input_dim=784))\n",
    "model.add(Activation(\"sigmoid\"))\n",
    "model.add(Dense(128))\n",
    "model.add(Activation(\"sigmoid\"))\n",
    "model.add(Dense(10))\n",
    "model.add(Activation(\"softmax\"))\n",
    "\n",
    "model.compile(optimizer=\"sgd\", loss=\"categorical_crossentropy\", metrics=[\"accuracy\"])\n",
    "# epochsは、同じデータセットで行う学習の回数\n",
    "history = model.fit(X_train, y_train, verbose=1, epochs=10)\n",
    "\n",
    "#acc, val_accのプロット\n",
    "plt.plot(history.history[\"accuracy\"], label=\"accuracy\", ls=\"-\", marker=\"o\")\n",
    "plt.ylabel(\"accuracy\")\n",
    "plt.xlabel(\"epoch\")\n",
    "plt.legend(loc=\"best\")\n",
    "plt.show()"
   ]
  },
  {
   "cell_type": "markdown",
   "id": "14bca492-568d-4949-b85e-565e158a659a",
   "metadata": {},
   "source": [
    "## モデルの評価\n",
    "学習によるチューニングが完了し、モデルの精度が上がったとしても、その性能が訓練データでしか発揮できない可能性があRU</br>\n",
    "したがって、学習済みのデータではモデルの性能の正しい評価はできない</br>\n",
    "学習に使用していない検証データを使用してモデルの評価 を行う</br>\n",
    "汎化精度の計算には evaluateメソッド を使用\n",
    "\n",
    "```\n",
    "score = model.evaluate(X_test, y_test, verbose=1)\n",
    "```\n",
    " "
   ]
  },
  {
   "cell_type": "code",
   "execution_count": 9,
   "id": "ecd6be8a-8570-4d40-b634-43dfec5d9f83",
   "metadata": {},
   "outputs": [
    {
     "name": "stdout",
     "output_type": "stream",
     "text": [
      "188/188 [==============================] - 0s 730us/step - loss: 2.1220 - accuracy: 0.4060\n",
      "32/32 [==============================] - 0s 501us/step - loss: 1.9292 - accuracy: 0.5180\n",
      "evaluate loss: 1.9291671514511108\n",
      "evaluate acc: 0.5180000066757202\n"
     ]
    }
   ],
   "source": [
    "import numpy as np\n",
    "import matplotlib.pyplot as plt\n",
    "from tensorflow.keras.datasets import mnist\n",
    "from tensorflow.keras.layers import Activation, Dense\n",
    "from tensorflow.keras.models import Sequential, load_model\n",
    "from tensorflow.keras import optimizers\n",
    "from tensorflow.keras.utils import to_categorical\n",
    "\n",
    "(X_train, y_train), (X_test, y_test) = mnist.load_data()\n",
    "\n",
    "X_train = X_train.reshape(X_train.shape[0], 784)[:6000]\n",
    "X_test = X_test.reshape(X_test.shape[0], 784)[:1000]\n",
    "y_train = to_categorical(y_train)[:6000]\n",
    "y_test = to_categorical(y_test)[:1000]\n",
    "\n",
    "model = Sequential()\n",
    "model.add(Dense(256, input_dim=784))\n",
    "model.add(Activation(\"sigmoid\"))\n",
    "model.add(Dense(128))\n",
    "model.add(Activation(\"sigmoid\"))\n",
    "model.add(Dense(10))\n",
    "model.add(Activation(\"softmax\"))\n",
    "\n",
    "model.compile(optimizer=\"sgd\", loss=\"categorical_crossentropy\", metrics=[\"accuracy\"])\n",
    "model.fit(X_train, y_train, verbose=1)\n",
    "\n",
    "score = model.evaluate(X_test, y_test, verbose=1)\n",
    "\n",
    "print(\"evaluate loss: {0[0]}\\nevaluate acc: {0[1]}\".format(score))"
   ]
  },
  {
   "cell_type": "markdown",
   "id": "e199a856-1ee2-46e4-bf62-4a84852586a2",
   "metadata": {},
   "source": [
    "## モデルによる分類\n",
    "predictメソッド を使って、入力データの予測値を取得\n",
    "```\n",
    "predict(self, x, batch_size=None, verbose=0, steps=None)\n",
    "```\n",
    "- Parameters\n",
    "    - x: 入力データ。Numpy配列の形式\n",
    "    - batch_size: 整数。デフォルトは32\n",
    "    - verbose: 進行状況メッセージ出力モード。0または1\n",
    "    - steps: 評価ラウンド終了を宣言するまでの総ステップ数（サンプルのバッチ）。None（デフォルト値）の場合は無視\n",
    "- Return\n",
    "    - 予測値を格納したNumpy 配列\n",
    "      例えば X_test の画像2枚の数字を予測する場合、下記のようになる\n",
    "      predict は複数枚の画像を想定しているため、1枚のみの予測は次元に注意する必要がある\n",
    "      もし1枚だけを予測したい場合は、引数を X_test[0].reshape(1,-1) といったように記述する工夫が必要\n",
    "      MNISTでは predictメソッド の出力は10次元なので、配列の最大値のインデックスを返す\n",
    "      argmax関数 を使用して一番大きい値を返すニューロンの場所を取得\n",
    "      ```\n",
    "        import numpy as np\n",
    "        # 学習済みのモデルを用意\n",
    "        model = ...\n",
    "\n",
    "        # 予測する\n",
    "        pred = np.argmax(model.predict(X_test[0:2]))\n",
    "        print(\"予測値 :\" + str(pred))\n",
    "      ```\n",
    "\n"
   ]
  },
  {
   "cell_type": "code",
   "execution_count": 11,
   "id": "81136aaf-d4df-4b22-b499-3d932e0cb87c",
   "metadata": {},
   "outputs": [
    {
     "name": "stdout",
     "output_type": "stream",
     "text": [
      "Epoch 1/10\n",
      "188/188 [==============================] - 0s 737us/step - loss: 2.1023 - accuracy: 0.4302\n",
      "Epoch 2/10\n",
      "188/188 [==============================] - 0s 744us/step - loss: 1.7088 - accuracy: 0.6890\n",
      "Epoch 3/10\n",
      "188/188 [==============================] - 0s 739us/step - loss: 1.3943 - accuracy: 0.7647\n",
      "Epoch 4/10\n",
      "188/188 [==============================] - 0s 936us/step - loss: 1.1390 - accuracy: 0.8090\n",
      "Epoch 5/10\n",
      "188/188 [==============================] - 0s 742us/step - loss: 0.9447 - accuracy: 0.8407\n",
      "Epoch 6/10\n",
      "188/188 [==============================] - 0s 742us/step - loss: 0.8018 - accuracy: 0.8635\n",
      "Epoch 7/10\n",
      "188/188 [==============================] - 0s 729us/step - loss: 0.6929 - accuracy: 0.8780\n",
      "Epoch 8/10\n",
      "188/188 [==============================] - 0s 738us/step - loss: 0.6088 - accuracy: 0.8908\n",
      "Epoch 9/10\n",
      "188/188 [==============================] - 0s 736us/step - loss: 0.5424 - accuracy: 0.8995\n",
      "Epoch 10/10\n",
      "188/188 [==============================] - 0s 720us/step - loss: 0.4924 - accuracy: 0.9092\n",
      "evaluate loss: 0.5933219790458679\n",
      "evaluate acc: 0.8640000224113464\n"
     ]
    },
    {
     "data": {
      "image/png": "[encoded data removed]",
      "text/plain": [
       "<Figure size 432x288 with 10 Axes>"
      ]
     },
     "metadata": {
      "needs_background": "light"
     },
     "output_type": "display_data"
    },
    {
     "name": "stdout",
     "output_type": "stream",
     "text": [
      "予測値: [7 2 1 0 4 1 4 9 6 9]\n"
     ]
    }
   ],
   "source": [
    "import numpy as np\n",
    "import matplotlib.pyplot as plt\n",
    "from tensorflow.keras.datasets import mnist\n",
    "from tensorflow.keras.layers import Activation, Dense\n",
    "from tensorflow.keras.models import Sequential, load_model\n",
    "from tensorflow.keras.utils import to_categorical\n",
    "\n",
    "(X_train, y_train), (X_test, y_test) = mnist.load_data()\n",
    "\n",
    "X_train = X_train.reshape(X_train.shape[0], 784)[:6000]\n",
    "X_test = X_test.reshape(X_test.shape[0], 784)[:1000]\n",
    "y_train = to_categorical(y_train)[:6000]\n",
    "y_test = to_categorical(y_test)[:1000]\n",
    "\n",
    "model = Sequential()\n",
    "model.add(Dense(256, input_dim=784))\n",
    "model.add(Activation(\"sigmoid\"))\n",
    "model.add(Dense(128))\n",
    "model.add(Activation(\"sigmoid\"))\n",
    "model.add(Dense(10))\n",
    "model.add(Activation(\"softmax\"))\n",
    "\n",
    "model.compile(optimizer=\"sgd\", loss=\"categorical_crossentropy\", metrics=[\"accuracy\"])\n",
    "\n",
    "model.fit(X_train, y_train, verbose=1, epochs=10)\n",
    "\n",
    "score = model.evaluate(X_test, y_test, verbose=0)\n",
    "print(\"evaluate loss: {0[0]}\\nevaluate acc: {0[1]}\".format(score))\n",
    "\n",
    "# 検証データの最初の10枚を表示\n",
    "for i in range(10):\n",
    "    plt.subplot(1, 10, i+1)\n",
    "    plt.imshow(X_test[i].reshape((28,28)), \"gray\")\n",
    "plt.show()\n",
    "\n",
    "pred = np.argmax(model.predict(X_test[0:10]), axis=1)\n",
    "print(\"予測値: \" + str(pred))"
   ]
  },
  {
   "cell_type": "markdown",
   "id": "d4f45a66-3dc6-41f0-9483-95bc490ec085",
   "metadata": {},
   "source": [
    "# 深層学習のチューニング\n",
    "## ハイパーパラメータ\n",
    "ニューラルネットワークには、人の手で調整が必要となるハイパーパラメータが存在する</br>\n",
    "ハイパーパラメータは数多く存在し、適切に設定しないと正しく学習が行われません</br>\n",
    "そこで、新規モデル作成時には最適なハイパーパラメータを設計する必要がある</br>\n",
    "MNIST分類のコードに少しだけ変更を加え、いくつかのパラメータを明示した</br>\n",
    "なお、metricsは評価関数\n",
    "```python\n",
    "import numpy as np\n",
    "import matplotlib.pyplot as plt\n",
    "from tensorflow.keras.datasets import mnist\n",
    "from tensorflow.keras.layers import Activation, Dense, Dropout\n",
    "from tensorflow.keras.models import Sequential, load_model\n",
    "from tensorflow.keras import optimizers\n",
    "from tensorflow.keras.utils import to_categorical\n",
    "\n",
    "(X_train, y_train), (X_test, y_test) = mnist.load_data()\n",
    "\n",
    "X_train = X_train.reshape(X_train.shape[0], 784)[:6000]\n",
    "X_test = X_test.reshape(X_test.shape[0], 784)[:1000]\n",
    "y_train = to_categorical(y_train)[:6000]\n",
    "y_test = to_categorical(y_test)[:1000]\n",
    "\n",
    "model = Sequential()\n",
    "model.add(Dense(256, input_dim=784))\n",
    "# ハイパーパラメータ：活性化関数\n",
    "model.add(Activation(\"sigmoid\"))\n",
    "# ハイパーパラメータ：隠れ層の数、隠れ層のユニット数\n",
    "model.add(Dense(128))\n",
    "model.add(Activation(\"sigmoid\"))\n",
    "# ハイパーパラメータ：ドロップアウトする割合（rate）\n",
    "model.add(Dropout(rate=0.5))\n",
    "model.add(Dense(10))\n",
    "model.add(Activation(\"softmax\"))\n",
    "\n",
    "# ハイパーパラメータ：学習率（lr）\n",
    "sgd = optimizers.SGD(lr=0.01)\n",
    "\n",
    "# ハイパーパラメータ：最適化関数（optimizer）\n",
    "# ハイパーパラメータ：誤差関数（loss）\n",
    "model.compile(optimizer=sgd, loss=\"categorical_crossentropy\", metrics=[\"accuracy\"])\n",
    "\n",
    "# ハイパーパラメータ：バッチサイズ（batch_size）\n",
    "# ハイパーパラメータ：エポック数（epochs）\n",
    "model.fit(X_train, y_train, batch_size=32, epochs=10, verbose=1)\n",
    "\n",
    "score = model.evaluate(X_test, y_test, verbose=0)\n",
    "print(\"evaluate loss: {0[0]}\\nevaluate acc: {0[1]}\".format(score))\n",
    "```"
   ]
  },
  {
   "cell_type": "markdown",
   "id": "4b9d734a-f2e8-495f-8b3c-7d8ea17095a6",
   "metadata": {},
   "source": [
    "## ネットワーク構造の設定\n",
    "入力層と出力層の間にある 隠れ層 の数やユニット数は自由に指定することが可能で、数を多くすることによって多彩な関数を表現できるようになる</br>\n",
    "しかし、隠れ層の数が多い場合は、重みの調整の難易度が上がって学習の進行が遅く なったり、ユニット数が多い場合は、重要度の低い特徴量を抽出して 過学習 (汎化性能が低い状態)を起こしやすくなる</br>\n",
    "したがって、ただやみくもに数を増やすのではなく、<b>学習に適切な数を隠れ層に設定</b>する</br>\n",
    "ネットワークの構造の設定に基準はありませんが、例えば中間層のユニット数を入力層より大きくし、その後小さいユニット数の層を追加していくしていく設定方法が挙げられる\n",
    "\n",
    "- A: ユニット数256の全結合隠れ層1つ、ユニット数128の全結合隠れ層1つ\n",
    "- B: ユニット数256の全結合隠れ層1つ、ユニット数128の全結合隠れ層3つ\n",
    "- C: ユニット数256の全結合隠れ層1つ、ユニット数1568の全結合隠れ層1つ\n"
   ]
  },
  {
   "cell_type": "code",
   "execution_count": 20,
   "id": "7025bfae-1110-4eae-b224-c44a5088fa52",
   "metadata": {},
   "outputs": [
    {
     "name": "stdout",
     "output_type": "stream",
     "text": [
      "Epoch 1/3\n",
      "188/188 [==============================] - 0s 776us/step - loss: 1.7744 - accuracy: 0.4038\n",
      "Epoch 2/3\n",
      "188/188 [==============================] - 0s 795us/step - loss: 1.0605 - accuracy: 0.6683\n",
      "Epoch 3/3\n",
      "188/188 [==============================] - 0s 792us/step - loss: 0.8709 - accuracy: 0.7277\n",
      "evaluate loss: 0.7088652849197388\n",
      "evaluate acc: 0.8040000200271606\n"
     ]
    }
   ],
   "source": [
    "import numpy as np\n",
    "import matplotlib.pyplot as plt\n",
    "from tensorflow.keras.datasets import mnist\n",
    "from tensorflow.keras.layers import Activation, Dense, Dropout\n",
    "from tensorflow.keras.models import Sequential, load_model\n",
    "from tensorflow.keras import optimizers\n",
    "from tensorflow.keras.utils import to_categorical\n",
    "\n",
    "(X_train, y_train), (X_test, y_test) = mnist.load_data()\n",
    "\n",
    "X_train = X_train.reshape(X_train.shape[0], 784)[:6000]\n",
    "X_test = X_test.reshape(X_test.shape[0], 784)[:1000]\n",
    "y_train = to_categorical(y_train)[:6000]\n",
    "y_test = to_categorical(y_test)[:1000]\n",
    "\n",
    "model = Sequential()\n",
    "model.add(Dense(256, input_dim=784))\n",
    "model.add(Activation(\"sigmoid\"))\n",
    "\n",
    "def funcA():\n",
    "    model.add(Dense(128))\n",
    "    model.add(Activation(\"sigmoid\"))\n",
    "\n",
    "def funcB():\n",
    "    model.add(Dense(128))\n",
    "    model.add(Activation(\"sigmoid\"))\n",
    "    model.add(Dense(128))\n",
    "    model.add(Activation(\"sigmoid\"))\n",
    "    model.add(Dense(128))\n",
    "    model.add(Activation(\"sigmoid\"))\n",
    "\n",
    "def funcC():\n",
    "    model.add(Dense(1568))\n",
    "    model.add(Activation(\"sigmoid\"))\n",
    "\n",
    "# A、B、Cのモデル\n",
    "funcA()\n",
    "# funcB()\n",
    "# funcC()\n",
    "model.add(Dropout(rate=0.5))\n",
    "model.add(Dense(10))\n",
    "model.add(Activation(\"softmax\"))\n",
    "\n",
    "sgd = optimizers.SGD(lr=0.1)\n",
    "\n",
    "model.compile(optimizer=sgd, loss=\"categorical_crossentropy\", metrics=[\"accuracy\"])\n",
    "\n",
    "model.fit(X_train, y_train, batch_size=32, epochs=3, verbose=1)\n",
    "\n",
    "score = model.evaluate(X_test, y_test, verbose=0)\n",
    "print(\"evaluate loss: {0[0]}\\nevaluate acc: {0[1]}\".format(score))"
   ]
  },
  {
   "cell_type": "markdown",
   "id": "64711f88-6717-42b2-98e5-596b2442f3ad",
   "metadata": {},
   "source": [
    "## ドロップアウト\n",
    "ドロップアウトは、学習データに対する過学習を防ぎ、モデルの精度をあげるための手法の一つ</br>\n",
    "ドロップアウトではランダムにニューロンを削除（0で上書き）しながら、学習を繰り返す</br>\n",
    "それによって、ニューラルネットワークは特定のニューロンに依存することなく、より<b>汎用的な特徴を学習</b>するようになる</br>\n",
    "```python\n",
    "model.add(Dropout(rate=0.5))\n",
    "```\n"
   ]
  },
  {
   "cell_type": "code",
   "execution_count": 24,
   "id": "cc399a77-c20a-4761-b066-1866081b0407",
   "metadata": {},
   "outputs": [
    {
     "name": "stdout",
     "output_type": "stream",
     "text": [
      "Epoch 1/5\n",
      "188/188 [==============================] - 0s 2ms/step - loss: 1.7076 - accuracy: 0.4303 - val_loss: 1.0933 - val_accuracy: 0.6870\n",
      "Epoch 2/5\n",
      "188/188 [==============================] - 0s 910us/step - loss: 1.0474 - accuracy: 0.6728 - val_loss: 0.8446 - val_accuracy: 0.7480\n",
      "Epoch 3/5\n",
      "188/188 [==============================] - 0s 915us/step - loss: 0.8386 - accuracy: 0.7375 - val_loss: 0.7193 - val_accuracy: 0.7760\n",
      "Epoch 4/5\n",
      "188/188 [==============================] - 0s 954us/step - loss: 0.7688 - accuracy: 0.7698 - val_loss: 0.6512 - val_accuracy: 0.8350\n",
      "Epoch 5/5\n",
      "188/188 [==============================] - 0s 901us/step - loss: 0.7261 - accuracy: 0.7733 - val_loss: 0.6050 - val_accuracy: 0.8280\n"
     ]
    },
    {
     "data": {
      "image/png": "[encoded data removed]",
      "text/plain": [
       "<Figure size 432x288 with 1 Axes>"
      ]
     },
     "metadata": {
      "needs_background": "light"
     },
     "output_type": "display_data"
    }
   ],
   "source": [
    "import numpy as np\n",
    "import matplotlib.pyplot as plt\n",
    "from tensorflow.keras.datasets import mnist\n",
    "from tensorflow.keras.layers import Activation, Dense, Dropout\n",
    "from tensorflow.keras.models import Sequential, load_model\n",
    "from tensorflow.keras import optimizers\n",
    "from tensorflow.keras.utils import to_categorical\n",
    "\n",
    "(X_train, y_train), (X_test, y_test) = mnist.load_data()\n",
    "\n",
    "X_train = X_train.reshape(X_train.shape[0], 784)[:6000]\n",
    "X_test = X_test.reshape(X_test.shape[0], 784)[:1000]\n",
    "y_train = to_categorical(y_train)[:6000]\n",
    "y_test = to_categorical(y_test)[:1000]\n",
    "\n",
    "model = Sequential()\n",
    "model.add(Dense(256, input_dim=784))\n",
    "model.add(Activation(\"sigmoid\"))\n",
    "model.add(Dense(128))\n",
    "model.add(Activation(\"sigmoid\"))\n",
    "\n",
    "model.add(Dropout(rate=0.5))\n",
    "model.add(Dense(10))\n",
    "model.add(Activation(\"softmax\"))\n",
    "\n",
    "sgd = optimizers.SGD(lr=0.1)\n",
    "\n",
    "model.compile(optimizer=sgd, loss=\"categorical_crossentropy\", metrics=[\"accuracy\"])\n",
    "\n",
    "history = model.fit(X_train, y_train, batch_size=32, epochs=5, verbose=1, validation_data=(X_test, y_test))\n",
    "\n",
    "#acc, val_accのプロット\n",
    "plt.plot(history.history[\"accuracy\"], label=\"accuracy\", ls=\"-\", marker=\"o\")\n",
    "plt.plot(history.history[\"val_accuracy\"], label=\"val_acc\", ls=\"-\", marker=\"x\")\n",
    "plt.ylabel(\"accuracy\")\n",
    "plt.xlabel(\"epoch\")\n",
    "plt.legend(loc=\"best\")\n",
    "plt.show()"
   ]
  },
  {
   "cell_type": "markdown",
   "id": "b16c79cb-bc69-4202-8df8-b709e6610235",
   "metadata": {},
   "source": [
    "## 活性化関数\n",
    "活性化関数とは、全結合層などの後に適用する関数で、ニューロンの発火に相当するもの</br>\n",
    "全結合層では、入力を線形変換して出力しますが、 活性化関数を用いることで非線形性をもたせることができる</br>\n",
    "活性化関数を使用しないと、下図のように一本の直線で分離できず（線形分離不可能）、データが分類できなくなる</br>\n",
    "活性化関数によって非線形性をもたせることで、 線形分離不可能なモデルでも、適切に学習が進めば必ず分類できるようになる</br>\n",
    "note: 活性化関数にもいくつかの種類があるので、適切なものを選ぶことが大切\n",
    "\n",
    "![](./images/classifier_model.png)\n",
    "\n",
    "### シグモイド関数\n",
    "シグモイド関数は活性化関数のひとつで、入力値を0から1の間の数値にして出力</br>\n",
    "青いグラフが シグモイド関数 で、オレンジ色のグラフがシグモイド関数を微分した 導関数</br>\n",
    "![](./images/sigmoid.png)\n",
    "\n",
    "### ReLU\n",
    "使われることが多い活性化関数として ReLU（ランプ関数）がある</br>\n",
    "この関数は入力値が0未満であれば0を、0以上であれば入力値を出力値とする</br>\n",
    "青いグラフが ReLU で、オレンジ色のグラフが ReLUの導関数を表す\n",
    "\n",
    "![](./images/relu.png)"
   ]
  },
  {
   "cell_type": "markdown",
   "id": "3d7563d5-842c-4ffe-915f-90bf504f84bb",
   "metadata": {},
   "source": [
    "## 損失関数\n",
    "学習時に出力データと教師データとの差を評価する関数を 損失関数（誤差関数）という</br>\n",
    "正解率を指標に評価することも可能だが、それだけでは個々の出力データの正解・不正解といった細かい結果までは分からない</br>\n",
    "つまり、一つひとつの出力データと教師データの差をみるために 損失関数 が使われる</br>\n",
    "\n",
    "損失関数にはたくさんの種類がありますが、機械学習によく使われるものとしては 二乗誤差 や クロスエントロピー誤差 などが挙げられる</br>\n",
    "また、損失関数の微分の計算を効率的にするために誤差逆伝播法という手法が使われる</br>\n",
    "この手法では、出力データと教師データの差を 最小化 するように各層の 重みを更新 する\n",
    "\n",
    "### 平均二乗誤差\n",
    "平均二乗誤差は最小二乗法と並んで、統計学などの分野でよく使用される誤差関数</br>\n",
    "y_i は予測ラベル 、t_i は正解ラベル</br>\n",
    "平均二乗誤差は連続値の評価を得意とするため、 主に回帰モデルの誤差関数 として使われる</br>\n",
    "1/n はデータ数で決まる定数なので、省略して単に誤差の2乗値を合計した誤差関数を使うこともある\n",
    "\n",
    "![](./images/mean_square_error.png)\n",
    "\n",
    "### クロスエントロピー誤差\n",
    "クロスエントロピー誤差は、 分類の評価に特化 しているため、主に 分類モデルの誤差関数 として使われる</br>\n",
    "サンプルの個数をNN、ii番目のサンプルの正解ラベルをt_it、予測値をy_iyとおくと、2値分類のクロスエントロピー誤差の大きさEは次の式で表せる</br>\n",
    "\n",
    "![](./images/cross_entropy_error.png)\n"
   ]
  },
  {
   "cell_type": "markdown",
   "id": "8034508b-2495-40dd-9cd7-ddeba2b29a09",
   "metadata": {},
   "source": [
    "## 最適化関数\n",
    "誤差関数を各重みで微分した値をもとに、各重みの更新量を決定し、重みを更新する</br>\n",
    "その際、 <b>学習率</b>、<b>エポック数</b>、<b>過去の重みの更新量</b>など をどのように重みの更新に反映するかを定めるために使用するのが 最適化関数</br>\n",
    "それぞれ別の最適化関数を使った場合に、各重みパラメータの値が調整され、損失関数の値が最小値に至るまでの過程を表す</br>\n",
    "図の通り、最適化関数にはいくつかの種類があり、正しく選択しないと 学習に悪影響を及ぼす可能性があるので注意が必要\n",
    "\n",
    "![](./images/adjustment_of_weight.gif)"
   ]
  },
  {
   "cell_type": "markdown",
   "id": "b38cf87b-b47b-4c62-a497-96836d27abdf",
   "metadata": {},
   "source": [
    "## 学習率\n",
    "学習率とは、各層の重みを一度にどの程度変更するかを決めるハイパーパラメータ</br>\n",
    "下図は、最小化を行うモデルと、 学習率 が与える影響を図示したもの</br>\n",
    "右上の点が初期値</br>\n",
    "\n",
    "1. 学習率が低すぎて、ほとんど更新が進んでいません。\n",
    "2. 適切な学習率により、少ない回数で値が収束しています。\n",
    "3. 収束はしますが、値が大きいため、更新に無駄があります。\n",
    "4. 学習率が高すぎて、値が発散しています。(上側に更新され、値がどんどん大きくなっています)\n",
    "\n",
    "つまり、モデルの学習を適切に行うためには、損失関数に対する適切な学習率を設定する必要がある\n",
    "\n",
    "![](./images/dnn_chap2_50.png)"
   ]
  },
  {
   "cell_type": "code",
   "execution_count": 33,
   "id": "affd0ac1-9642-48aa-b884-f7ba085ad50b",
   "metadata": {},
   "outputs": [
    {
     "name": "stdout",
     "output_type": "stream",
     "text": [
      "Epoch 1/3\n",
      "188/188 [==============================] - 0s 721us/step - loss: 1.7134 - accuracy: 0.4173\n",
      "Epoch 2/3\n",
      "188/188 [==============================] - 0s 751us/step - loss: 1.0476 - accuracy: 0.6663\n",
      "Epoch 3/3\n",
      "188/188 [==============================] - 0s 741us/step - loss: 0.8577 - accuracy: 0.7328\n",
      "evaluate loss: 0.7194048166275024\n",
      "evaluate acc: 0.7950000166893005\n"
     ]
    }
   ],
   "source": [
    "import numpy as np\n",
    "import matplotlib.pyplot as plt\n",
    "from tensorflow.keras.datasets import mnist\n",
    "from tensorflow.keras.layers import Activation, Dense, Dropout\n",
    "from tensorflow.keras.models import Sequential, load_model\n",
    "from tensorflow.keras import optimizers\n",
    "from tensorflow.keras.utils import to_categorical\n",
    "\n",
    "(X_train, y_train), (X_test, y_test) = mnist.load_data()\n",
    "\n",
    "X_train = X_train.reshape(X_train.shape[0], 784)[:6000]\n",
    "X_test = X_test.reshape(X_test.shape[0], 784)[:1000]\n",
    "y_train = to_categorical(y_train)[:6000]\n",
    "y_test = to_categorical(y_test)[:1000]\n",
    "\n",
    "model = Sequential()\n",
    "model.add(Dense(256, input_dim=784))\n",
    "model.add(Activation(\"sigmoid\"))\n",
    "model.add(Dense(128))\n",
    "model.add(Activation(\"sigmoid\"))\n",
    "model.add(Dropout(rate=0.5))\n",
    "model.add(Dense(10))\n",
    "model.add(Activation(\"softmax\"))\n",
    "\n",
    "\n",
    "def funcA():\n",
    "    global lr\n",
    "    lr = 0.01\n",
    "\n",
    "def funcB():\n",
    "    global lr\n",
    "    lr = 0.1\n",
    "\n",
    "def funcC():\n",
    "    global lr\n",
    "    lr = 1.0\n",
    "\n",
    "# 3つのうち1つを選び、他の2行をコメントアウトして学習率を決める\n",
    "#---------------------------\n",
    "# funcA()\n",
    "funcB()\n",
    "# funcC()\n",
    "#---------------------------\n",
    "\n",
    "sgd = optimizers.SGD(lr=lr)\n",
    "\n",
    "model.compile(optimizer=sgd, loss=\"categorical_crossentropy\", metrics=[\"accuracy\"])\n",
    "\n",
    "model.fit(X_train, y_train, batch_size=32, epochs=3, verbose=1)\n",
    "\n",
    "score = model.evaluate(X_test, y_test, verbose=0)\n",
    "print(\"evaluate loss: {0[0]}\\nevaluate acc: {0[1]}\".format(score))"
   ]
  },
  {
   "cell_type": "markdown",
   "id": "bd91366e-4064-4fce-88df-ccc98396d6f4",
   "metadata": {},
   "source": [
    "## ミニバッチ学習\n",
    "モデルに一度に入力するデータの数をバッチサイズと呼が、これも ハイパーパラメータ のひとつ</br>\n",
    "一度に複数のデータを渡した場合、モデルはデータごとに損失関数の値と損失関数の 勾配 を計算し、それぞれのデータの勾配の平均値をもとに1度だけ重みの更新</br>\n",
    "\n",
    "このように、 複数のデータ で 重みの更新を行うことで 偏ったデータの影響を減らし 、並列計算を行うことで 計算時間を短縮 することもできる</br>\n",
    "しかし一方で、大きな重みの更新が発生しにくくなり、 一部のデータに最適化されてしまい、全体のデータへの最適化が行われなくなる状態（局所解）から抜け出せなくなる可能性 もある</br>\n",
    "それを回避するためには、イレギュラーなデータが多い時には バッチサイズを大きくする、少ないときには バッチサイズを小さくする といったように、バッチサイズを調整\n",
    "\n",
    "- バッチサイズを 1 に設定する学習法を オンライン学習(確率的勾配降下法)、\n",
    "- 全データ数 に設定する学習方法をバッチ学習(最急降下法）\n",
    "- その中間 となる少ない数に設定する学習法を ミニバッチ学習\n"
   ]
  },
  {
   "cell_type": "code",
   "execution_count": null,
   "id": "82585b90-6ba4-45f3-9ac8-1c427951b836",
   "metadata": {},
   "outputs": [
    {
     "name": "stdout",
     "output_type": "stream",
     "text": [
      "Epoch 1/3\n",
      "94/94 [==============================] - 0s 1ms/step - loss: 1.8913 - accuracy: 0.3703\n",
      "Epoch 2/3\n",
      "94/94 [==============================] - 0s 973us/step - loss: 1.1318 - accuracy: 0.6653\n",
      "Epoch 3/3\n",
      "94/94 [==============================] - 0s 996us/step - loss: 0.8500 - accuracy: 0.7467\n",
      "evaluate loss: 0.6932972073554993\n",
      "evaluate acc: 0.8040000200271606\n"
     ]
    }
   ],
   "source": [
    "import numpy as np\n",
    "import matplotlib.pyplot as plt\n",
    "from tensorflow.keras.datasets import mnist\n",
    "from tensorflow.keras.layers import Activation, Dense, Dropout\n",
    "from tensorflow.keras.models import Sequential, load_model\n",
    "from tensorflow.keras import optimizers\n",
    "from tensorflow.keras.utils import to_categorical\n",
    "\n",
    "(X_train, y_train), (X_test, y_test) = mnist.load_data()\n",
    "\n",
    "X_train = X_train.reshape(X_train.shape[0], 784)[:6000]\n",
    "X_test = X_test.reshape(X_test.shape[0], 784)[:1000]\n",
    "y_train = to_categorical(y_train)[:6000]\n",
    "y_test = to_categorical(y_test)[:1000]\n",
    "\n",
    "model = Sequential()\n",
    "model.add(Dense(256, input_dim=784))\n",
    "model.add(Activation(\"sigmoid\"))\n",
    "model.add(Dense(128))\n",
    "model.add(Activation(\"sigmoid\"))\n",
    "model.add(Dropout(rate=0.5))\n",
    "model.add(Dense(10))\n",
    "model.add(Activation(\"softmax\"))\n",
    "\n",
    "sgd = optimizers.SGD(lr=0.1)\n",
    "\n",
    "model.compile(optimizer=sgd, loss=\"categorical_crossentropy\", metrics=[\"accuracy\"])\n",
    "\n",
    "def funcA():\n",
    "    global batch_size\n",
    "    batch_size = 16\n",
    "\n",
    "def funcB():\n",
    "    global batch_size\n",
    "    batch_size = 32\n",
    "\n",
    "def funcC():\n",
    "    global batch_size\n",
    "    batch_size = 64\n",
    "\n",
    "# 3つのうち1つを選び、他の2行をコメントアウトしてbatch_sizeを決めてください。\n",
    "#---------------------------\n",
    "# funcA()\n",
    "# funcB()\n",
    "funcC()\n",
    "#---------------------------\n",
    "\n",
    "model.fit(X_train, y_train, batch_size=batch_size, epochs=3, verbose=1)\n",
    "\n",
    "score = model.evaluate(X_test, y_test, verbose=0)\n",
    "print(\"evaluate loss: {0[0]}\\nevaluate acc: {0[1]}\".format(score))"
   ]
  },
  {
   "cell_type": "markdown",
   "id": "8c6227df-11c2-43b2-a65c-15f88c099e66",
   "metadata": {},
   "source": [
    "## 反復学習\n",
    "一般的にディープラーニングでは反復学習を行い、同じ訓練データで学習を繰り返す</br>\n",
    "学習の回数を エポック数 といい、これもハイパーパラメータ</br>\n",
    "エポック数は多く設定すれば、モデルの精度が上がり続けるというものではない</br>\n",
    "適切なエポック数を設定しなかった場合、途中から精度が伸びなくなり、それだけでなく学習を繰り返すことで損失関数を最小化させようとして過学習を引き起こしてしまう可能性がある\n",
    "\n",
    "そのため、適切なエポック数を設定し、タイミング良く 学習を打ち切る ことも重要"
   ]
  },
  {
   "cell_type": "code",
   "execution_count": 35,
   "id": "57773e87-a30a-43b4-b0dc-3f3ed2517465",
   "metadata": {},
   "outputs": [
    {
     "name": "stdout",
     "output_type": "stream",
     "text": [
      "Epoch 1/10\n",
      "32/32 [==============================] - 0s 5ms/step - loss: 2.1224 - accuracy: 0.2880 - val_loss: 2.0310 - val_accuracy: 0.3570\n",
      "Epoch 2/10\n",
      "32/32 [==============================] - 0s 3ms/step - loss: 1.6925 - accuracy: 0.5960 - val_loss: 1.6395 - val_accuracy: 0.4325\n",
      "Epoch 3/10\n",
      "32/32 [==============================] - 0s 3ms/step - loss: 1.3588 - accuracy: 0.6970 - val_loss: 1.3666 - val_accuracy: 0.6873\n",
      "Epoch 4/10\n",
      "32/32 [==============================] - 0s 3ms/step - loss: 1.0810 - accuracy: 0.7830 - val_loss: 1.1413 - val_accuracy: 0.6813\n",
      "Epoch 5/10\n",
      "32/32 [==============================] - 0s 3ms/step - loss: 0.8968 - accuracy: 0.8110 - val_loss: 1.0171 - val_accuracy: 0.7138\n",
      "Epoch 6/10\n",
      "32/32 [==============================] - 0s 3ms/step - loss: 0.7886 - accuracy: 0.8320 - val_loss: 0.9762 - val_accuracy: 0.6990\n",
      "Epoch 7/10\n",
      "32/32 [==============================] - 0s 3ms/step - loss: 0.7047 - accuracy: 0.8520 - val_loss: 0.8584 - val_accuracy: 0.7453\n",
      "Epoch 8/10\n",
      "32/32 [==============================] - 0s 3ms/step - loss: 0.6483 - accuracy: 0.8600 - val_loss: 0.8524 - val_accuracy: 0.7462\n",
      "Epoch 9/10\n",
      "32/32 [==============================] - 0s 3ms/step - loss: 0.6148 - accuracy: 0.8570 - val_loss: 1.1574 - val_accuracy: 0.5467\n",
      "Epoch 10/10\n",
      "32/32 [==============================] - 0s 3ms/step - loss: 0.6190 - accuracy: 0.8580 - val_loss: 0.8567 - val_accuracy: 0.7105\n"
     ]
    },
    {
     "data": {
      "image/png": "[encoded data removed]",
      "text/plain": [
       "<Figure size 432x288 with 1 Axes>"
      ]
     },
     "metadata": {
      "needs_background": "light"
     },
     "output_type": "display_data"
    },
    {
     "name": "stdout",
     "output_type": "stream",
     "text": [
      "evaluate loss: 0.8567106127738953\n",
      "evaluate acc: 0.7105000019073486\n"
     ]
    }
   ],
   "source": [
    "import numpy as np\n",
    "import matplotlib.pyplot as plt\n",
    "from tensorflow.keras.datasets import mnist\n",
    "from tensorflow.keras.layers import Activation, Dense, Dropout\n",
    "from tensorflow.keras.models import Sequential, load_model\n",
    "from tensorflow.keras import optimizers\n",
    "from tensorflow.keras.utils import to_categorical\n",
    "\n",
    "(X_train, y_train), (X_test, y_test) = mnist.load_data()\n",
    "\n",
    "X_train = X_train.reshape(X_train.shape[0], 784)[:1000]\n",
    "X_test = X_test.reshape(X_test.shape[0], 784)[:6000]\n",
    "y_train = to_categorical(y_train)[:1000]\n",
    "y_test = to_categorical(y_test)[:6000]\n",
    "\n",
    "model = Sequential()\n",
    "model.add(Dense(256, input_dim=784))\n",
    "model.add(Activation(\"sigmoid\"))\n",
    "model.add(Dense(128))\n",
    "model.add(Activation(\"sigmoid\"))\n",
    "# 今回はDropoutを使いません。\n",
    "#model.add(Dropout(rate=0.5))\n",
    "model.add(Dense(10))\n",
    "model.add(Activation(\"softmax\"))\n",
    "\n",
    "sgd = optimizers.SGD(lr=0.1)\n",
    "\n",
    "model.compile(optimizer=sgd, loss=\"categorical_crossentropy\", metrics=[\"accuracy\"])\n",
    "\n",
    "def funcA():\n",
    "    global epochs\n",
    "    epochs = 5\n",
    "\n",
    "def funcB():\n",
    "    global epochs\n",
    "    epochs = 10\n",
    "\n",
    "def funcC():\n",
    "    global epochs\n",
    "    epochs = 50\n",
    "\n",
    "# 3つのうち1つを選び、他の2行をコメントアウトしてエポック数を決めてください。\n",
    "#---------------------------\n",
    "# funcA()\n",
    "funcB()\n",
    "# epochs: 50\n",
    "# funcC()\n",
    "#---------------------------\n",
    "\n",
    "history = model.fit(X_train, y_train, batch_size=32, epochs=epochs, verbose=1, validation_data=(X_test, y_test))\n",
    "\n",
    "#acc, val_accのプロット\n",
    "plt.plot(history.history[\"accuracy\"], label=\"acc\", ls=\"-\", marker=\"o\")\n",
    "plt.plot(history.history[\"val_accuracy\"], label=\"val_acc\", ls=\"-\", marker=\"x\")\n",
    "plt.ylabel(\"accuracy\")\n",
    "plt.xlabel(\"epoch\")\n",
    "plt.legend(loc=\"best\")\n",
    "plt.show()\n",
    "\n",
    "score = model.evaluate(X_test, y_test, verbose=0)\n",
    "print(\"evaluate loss: {0[0]}\\nevaluate acc: {0[1]}\".format(score))"
   ]
  }
 ],
 "metadata": {
  "kernelspec": {
   "display_name": "Python 3 (ipykernel)",
   "language": "python",
   "name": "python3"
  },
  "language_info": {
   "codemirror_mode": {
    "name": "ipython",
    "version": 3
   },
   "file_extension": ".py",
   "mimetype": "text/x-python",
   "name": "python",
   "nbconvert_exporter": "python",
   "pygments_lexer": "ipython3",
   "version": "3.9.9"
  }
 },
 "nbformat": 4,
 "nbformat_minor": 5
}
