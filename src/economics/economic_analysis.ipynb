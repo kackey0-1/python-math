{
 "cells": [
  {
   "cell_type": "markdown",
   "id": "e6efc108-20ab-4c2a-a6d4-3d80194e3318",
   "metadata": {},
   "source": [
    "# 各種データの収集\n",
    "- 対象国=G7\n",
    "  - Canada\n",
    "  - France\n",
    "  - Germany\n",
    "  - Italy\n",
    "  - Japan\n",
    "  - United Kingdom\n",
    "  - United States\n",
    "- 対象データ\n",
    "  - 人口推移\n",
    "    - ex: CAN_LP-canada-population-millions\n",
    "          CAN_LP.csv\n",
    "    - FRA_LP-france-population-millions\n",
    "    - DEU_LP-germany-population-millions\n",
    "    - ITA_LP-italy-population-millions\n",
    "    - JPN_LP-japan-population-millions\n",
    "    - GBR_LP-united-kingdom-population-millions\n",
    "    - USA_LP-united-states-population-millions\n",
    "  - GDP\n",
    "    - ex: CAN_NGDP_R-canada-gdp-at-constant-prices-lcu-billions\n",
    "          CAN_NGDP_R.csv\n",
    "  - インフレ率\n",
    "    - ex: JPN_PCPIPCH-japan-inflation-change-average-consumer-prices\n",
    "          JPN_PCPIPCH.csv\n",
    "  - 輸出入\n",
    "    - ex: JPN_TX_RPCH-japan-exports-of-goods-and-services-change\n",
    "          JPN_TX_RPCH.csv\n",
    "    - ex: JPN_TM_RPCH-japan-imports-of-goods-and-services-change\n",
    "          JPN_TM_RPCH.csv\n",
    "- API Key\n",
    "  - api_key="
   ]
  },
  {
   "cell_type": "code",
   "execution_count": 111,
   "id": "fea1b195-3674-48b7-aaef-26865e49ae6b",
   "metadata": {},
   "outputs": [],
   "source": [
    "import pandas as pd\n",
    "import numpy as np\n",
    "\n",
    "import matplotlib.pyplot as plt\n",
    "\n",
    "COUNTRIES = {\n",
    "    \"Canada\": \"CAN\",\n",
    "    \"France\": \"FRA\",\n",
    "    \"Germany\": \"DEU\",\n",
    "    \"Italy\": \"ITA\",\n",
    "    \"Japan\": \"JPN\",\n",
    "    \"United Kingdom\": \"GBR\",\n",
    "    \"United States\": \"USA\",\n",
    "}\n",
    "colors = [\"r\", \"b\", \"g\", \"k\", \"m\", \"y\", \"k\"]\n",
    "df_population = pd.DataFrame()\n",
    "df_gdp = pd.DataFrame()\n",
    "df_inflation = pd.DataFrame()\n",
    "df_import = pd.DataFrame()\n",
    "df_export = pd.DataFrame()\n",
    "\n",
    "api_key = \"LQg7ajNfaVt_1_e-fpxN\"\n",
    "\n",
    "for key, value in COUNTRIES.items():\n",
    "    df_p = pd.read_csv(\"https://data.nasdaq.com/api/v3/datasets/ODA/{country}_LP.csv?api_key={api_key}\".format(country=value, api_key=api_key),\n",
    "                     header=0)\n",
    "    df_g = pd.read_csv(\"https://data.nasdaq.com/api/v3/datasets/ODA/{country}_NGDP_R.csv?api_key={api_key}\".format(country=value, api_key=api_key),\n",
    "                     header=0)\n",
    "    df_i = pd.read_csv(\"https://data.nasdaq.com/api/v3/datasets/ODA/{country}_PCPIPCH.csv?api_key={api_key}\".format(country=value, api_key=api_key),\n",
    "                     header=0)\n",
    "    df_imp = pd.read_csv(\"https://data.nasdaq.com/api/v3/datasets/ODA/{country}_TM_RPCH.csv?api_key={api_key}\".format(country=value, api_key=api_key),\n",
    "                     header=0)\n",
    "    df_exp = pd.read_csv(\"https://data.nasdaq.com/api/v3/datasets/ODA/{country}_TX_RPCH.csv?api_key={api_key}\".format(country=value, api_key=api_key),\n",
    "                     header=0)\n",
    "\n",
    "    df_p   = df_p.rename(columns={'Value': value})\n",
    "    df_g   = df_g.rename(columns={'Value': value})\n",
    "    df_i   = df_i.rename(columns={'Value': value})\n",
    "    df_imp = df_imp.rename(columns={'Value': value})\n",
    "    df_exp = df_exp.rename(columns={'Value': value})\n",
    "    if df_population.columns.size < 1:\n",
    "        df_population = df_p.copy()\n",
    "        df_gdp        = df_g.copy()\n",
    "        df_inflation  = df_i.copy()\n",
    "        df_import     = df_imp.copy()\n",
    "        df_export     = df_exp.copy()\n",
    "    else: \n",
    "        df_population = df_population.merge(df_p, on=\"Date\", how=\"left\")\n",
    "        df_gdp        = df_gdp.merge(df_g, on=\"Date\", how=\"left\")\n",
    "        df_inflation  = df_inflation.merge(df_i, on=\"Date\", how=\"left\")\n",
    "        df_import     = df_import.merge(df_imp, on=\"Date\", how=\"left\")\n",
    "        df_export     = df_export.merge(df_exp, on=\"Date\", how=\"left\")\n",
    "\n",
    "df_population = df_population.sort_values(by=\"Date\")\n",
    "df_gdp        = df_gdp.sort_values(by=\"Date\")\n",
    "df_inflation  = df_inflation.sort_values(by=\"Date\")\n",
    "df_import     = df_inflation.sort_values(by=\"Date\")\n",
    "df_export     = df_inflation.sort_values(by=\"Date\")\n"
   ]
  },
  {
   "cell_type": "code",
   "execution_count": 112,
   "id": "35aaec52-aee0-480c-aa56-88e6be709a86",
   "metadata": {},
   "outputs": [
    {
     "data": {
      "image/png": "[encoded data removed]",
      "text/plain": [
       "<Figure size 432x288 with 1 Axes>"
      ]
     },
     "metadata": {
      "needs_background": "light"
     },
     "output_type": "display_data"
    }
   ],
   "source": [
    "for key, value, color in zip(COUNTRIES.keys(), COUNTRIES.values(), colors):\n",
    "    plt.plot(df_population[\"Date\"], df_population[value], c=color, label=key)\n",
    "plt.xlabel(\"timeline\")\n",
    "plt.ylabel(\"population\")\n",
    "plt.xticks(df_population[\"Date\"], rotation=90)\n",
    "plt.show()\n"
   ]
  },
  {
   "cell_type": "code",
   "execution_count": null,
   "id": "418bc2bd-3b54-45e1-a6f0-2f6b18b25ec5",
   "metadata": {},
   "outputs": [],
   "source": []
  },
  {
   "cell_type": "code",
   "execution_count": null,
   "id": "5449e053-0d5a-4e2c-97cc-c0bd57fbbc3f",
   "metadata": {},
   "outputs": [],
   "source": []
  },
  {
   "cell_type": "code",
   "execution_count": null,
   "id": "dfba5ba1-6849-4611-8b94-ca4b6ed1c2ea",
   "metadata": {},
   "outputs": [],
   "source": []
  },
  {
   "cell_type": "code",
   "execution_count": null,
   "id": "7fb36785-d72a-4ca7-8f2d-3b977ba42b1d",
   "metadata": {},
   "outputs": [],
   "source": []
  }
 ],
 "metadata": {
  "kernelspec": {
   "display_name": "Python 3 (ipykernel)",
   "language": "python",
   "name": "python3"
  },
  "language_info": {
   "codemirror_mode": {
    "name": "ipython",
    "version": 3
   },
   "file_extension": ".py",
   "mimetype": "text/x-python",
   "name": "python",
   "nbconvert_exporter": "python",
   "pygments_lexer": "ipython3",
   "version": "3.9.9"
  }
 },
 "nbformat": 4,
 "nbformat_minor": 5
}
